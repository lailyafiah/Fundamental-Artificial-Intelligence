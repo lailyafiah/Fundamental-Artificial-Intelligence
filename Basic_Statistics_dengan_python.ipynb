{
  "nbformat": 4,
  "nbformat_minor": 0,
  "metadata": {
    "colab": {
      "name": " Basic Statistics dengan python",
      "provenance": [],
      "include_colab_link": true
    },
    "kernelspec": {
      "name": "python3",
      "display_name": "Python 3"
    },
    "language_info": {
      "name": "python"
    }
  },
  "cells": [
    {
      "cell_type": "markdown",
      "metadata": {
        "id": "view-in-github",
        "colab_type": "text"
      },
      "source": [
        "<a href=\"https://colab.research.google.com/github/lailyafiah/Fundamental-Artificial-Intelligence/blob/main/Basic_Statistics_dengan_python.ipynb\" target=\"_parent\"><img src=\"https://colab.research.google.com/assets/colab-badge.svg\" alt=\"Open In Colab\"/></a>"
      ]
    },
    {
      "cell_type": "markdown",
      "metadata": {
        "id": "MlUspujENzFM"
      },
      "source": [
        "##Pengenalan Numpy, Pandas, Matlotlip"
      ]
    },
    {
      "cell_type": "markdown",
      "metadata": {
        "id": "Ek50DmgWdOUZ"
      },
      "source": [
        "##Numpy"
      ]
    },
    {
      "cell_type": "markdown",
      "metadata": {
        "id": "R0bz6KLxPXlX"
      },
      "source": [
        "* NumPy (Numerical Python) adalah library Python yang fokus pada scientific computing.\n",
        "* NumPy memiliki kemampuan untuk membentuk objek N-dimensional array, yang mirip dengan list pada Python.\n",
        "* Keunggulan NumPy array dibandingkan dengan list pada Python adalah konsumsi memory yang lebih kecil serta runtime yang lebih cepat\n",
        "* NumPy juga memudahkan kita pada Aljabar Linear, terutama operasi pada Vector (1-d array) dan Matrix (2-d array)."
      ]
    },
    {
      "cell_type": "markdown",
      "metadata": {
        "id": "CB9uQG-9a0PV"
      },
      "source": [
        "##Numpy"
      ]
    },
    {
      "cell_type": "code",
      "metadata": {
        "id": "mgcjh0MJDJND"
      },
      "source": [
        "a = [1, 2, 3]"
      ],
      "execution_count": null,
      "outputs": []
    },
    {
      "cell_type": "markdown",
      "source": [
        "a = [1, 2, 3]\n",
        "b = [3, 2, 1]\n",
        "\n",
        "c = a + b\n",
        "\n",
        "c = [4, 4, 4]"
      ],
      "metadata": {
        "id": "-KlX1PIEwUDc"
      }
    },
    {
      "cell_type": "markdown",
      "metadata": {
        "id": "4N4Mvy90usl0"
      },
      "source": [
        "kita berharap penjumlahan, tapi malah pengabungan yang terjadi apabila pakai list"
      ]
    },
    {
      "cell_type": "code",
      "source": [
        "a = [1, 2, 3]\n",
        "b = [3, 2, 1]\n",
        "\n",
        "c = a + b\n",
        "print(c)"
      ],
      "metadata": {
        "colab": {
          "base_uri": "https://localhost:8080/"
        },
        "id": "ZJ87OmjiwiPC",
        "outputId": "6ab94ebd-afa6-48a4-9fab-55dc4919f765"
      },
      "execution_count": null,
      "outputs": [
        {
          "output_type": "stream",
          "name": "stdout",
          "text": [
            "[1, 2, 3, 3, 2, 1]\n"
          ]
        }
      ]
    },
    {
      "cell_type": "code",
      "metadata": {
        "colab": {
          "base_uri": "https://localhost:8080/"
        },
        "id": "L_nMT2ACP9-C",
        "outputId": "11d44c29-612b-4773-b451-a1ca65c68c79"
      },
      "source": [
        "#Numpy vs List\n",
        "#Problem pada List di python:\n",
        "#List pada Python tidak mendukung penuh kemudahan scientific computing, \n",
        "#sebagai contoh kita akan lakukan operasi penjumlahan pada 2 list.\n",
        "\n",
        "#contoh list pada python\n",
        "\n",
        "z1 = [5, 7, 9] \n",
        "z2 = [1, 3, 5]\n",
        "z1 + z2"
      ],
      "execution_count": null,
      "outputs": [
        {
          "output_type": "execute_result",
          "data": {
            "text/plain": [
              "[5, 7, 9, 1, 3, 5]"
            ]
          },
          "metadata": {},
          "execution_count": 2
        }
      ]
    },
    {
      "cell_type": "code",
      "metadata": {
        "colab": {
          "base_uri": "https://localhost:8080/"
        },
        "id": "vBBqnqwQQvCW",
        "outputId": "32203dc7-667d-4be8-abe7-2612256f01df"
      },
      "source": [
        "#penjumlahan dilakukan secara iterasi\n",
        "result = []\n",
        "for first, second in zip(a, b):\n",
        "\t  result.append(first + second)\n",
        "result"
      ],
      "execution_count": null,
      "outputs": [
        {
          "output_type": "execute_result",
          "data": {
            "text/plain": [
              "[4, 4, 4]"
            ]
          },
          "metadata": {},
          "execution_count": 8
        }
      ]
    },
    {
      "cell_type": "markdown",
      "metadata": {
        "id": "6rkEE2xuRg2K"
      },
      "source": [
        "Ketika kita ingin menjumlahkan tiap elemen pada list a dan list b, hasilnya dengan operator + adalah penggabungan (concat) keduanya. Tentu tidak sesuai yang diharapkan, maka kita harus menggunakan perulangan for untuk menambahkan tiap elemen pada list a dan list b. Proses penjumlahan list yang menggunakan perulangan for membutuhkan waktu yang lama dan tidak efisien dari sisi penulisan code."
      ]
    },
    {
      "cell_type": "code",
      "metadata": {
        "id": "BCFyMrUlRqgo"
      },
      "source": [
        "#Numpy sebagai solution\n",
        "#Mengenal Numpy\n",
        "#Tahap pertama panggil dahulu (import) Numpy\n",
        "\n",
        "import numpy as np \n"
      ],
      "execution_count": null,
      "outputs": []
    },
    {
      "cell_type": "code",
      "metadata": {
        "colab": {
          "base_uri": "https://localhost:8080/"
        },
        "id": "dZTj5ybBSAnY",
        "outputId": "beccaf7a-b45e-4d78-b451-80d6b018e115"
      },
      "source": [
        "#belajar array\n",
        "#membuat array\n",
        "\n",
        "a = np.array ([1,2,3])\n",
        "a                        #mencetak array #ini matriks apa vektor?\n",
        "                         #cek dimensi ini 1d maka ini bukan matriks"
      ],
      "execution_count": null,
      "outputs": [
        {
          "output_type": "execute_result",
          "data": {
            "text/plain": [
              "array([1, 2, 3])"
            ]
          },
          "metadata": {},
          "execution_count": 10
        }
      ]
    },
    {
      "cell_type": "code",
      "metadata": {
        "colab": {
          "base_uri": "https://localhost:8080/"
        },
        "id": "9a-_OH4Mw7j9",
        "outputId": "dd72e8eb-eb00-4771-b280-c8e8fcd29575"
      },
      "source": [
        "import math #math itu modul\n",
        "import numpy as np\n",
        "math.cos(90)"
      ],
      "execution_count": null,
      "outputs": [
        {
          "output_type": "execute_result",
          "data": {
            "text/plain": [
              "-0.4480736161291701"
            ]
          },
          "metadata": {},
          "execution_count": 6
        }
      ]
    },
    {
      "cell_type": "code",
      "source": [
        "math.cos(3.14159) #input x dalam radian"
      ],
      "metadata": {
        "colab": {
          "base_uri": "https://localhost:8080/"
        },
        "id": "0BBZVFem-ddh",
        "outputId": "10e931dc-f290-4dd4-ac42-7b0cdfd3579c"
      },
      "execution_count": null,
      "outputs": [
        {
          "output_type": "execute_result",
          "data": {
            "text/plain": [
              "-0.9999999999964793"
            ]
          },
          "metadata": {},
          "execution_count": 8
        }
      ]
    },
    {
      "cell_type": "code",
      "metadata": {
        "id": "l46s6nUuvXW8",
        "colab": {
          "base_uri": "https://localhost:8080/"
        },
        "outputId": "f1359a84-5ca9-4b66-b5a3-834d8a381858"
      },
      "source": [
        "b = np.cos(3.14159)\n",
        "b"
      ],
      "execution_count": null,
      "outputs": [
        {
          "output_type": "execute_result",
          "data": {
            "text/plain": [
              "-0.9999999999964793"
            ]
          },
          "metadata": {},
          "execution_count": 7
        }
      ]
    },
    {
      "cell_type": "markdown",
      "metadata": {
        "id": "mbo9UQ7QSk7C"
      },
      "source": [
        "Untuk membuat sebuah array, kita menggunakan fungsi array() yang terdapat pada NumPy. Ini sama seperti saat kita menggunakan fungsi math() untuk operasi math ketika kita memanggil math seperti contoh-contoh sebelum nya."
      ]
    },
    {
      "cell_type": "code",
      "metadata": {
        "colab": {
          "base_uri": "https://localhost:8080/"
        },
        "id": "A0gLDXV_e_FX",
        "outputId": "4f8f9178-cd30-483b-da6e-6fa65112286b"
      },
      "source": [
        "import math\n",
        "c = math.cos (90)\n",
        "print(c)"
      ],
      "execution_count": null,
      "outputs": [
        {
          "output_type": "stream",
          "text": [
            "-0.4480736161291701\n"
          ],
          "name": "stdout"
        }
      ]
    },
    {
      "cell_type": "code",
      "metadata": {
        "colab": {
          "base_uri": "https://localhost:8080/"
        },
        "id": "p13-5bZHfE7H",
        "outputId": "d050af24-be25-4637-f1ca-aebc797a778d"
      },
      "source": [
        "import numpy as np\n",
        "np.sin(90)"
      ],
      "execution_count": null,
      "outputs": [
        {
          "output_type": "execute_result",
          "data": {
            "text/plain": [
              "0.8939966636005579"
            ]
          },
          "metadata": {
            "tags": []
          },
          "execution_count": 9
        }
      ]
    },
    {
      "cell_type": "markdown",
      "metadata": {
        "id": "CxouDmoxTBY7"
      },
      "source": [
        "Pada NumPy, terdapat upcasting, yaitu ketika tipe data element array tidak sama, dilakukan penyamaan tipe data pada yang lebih tinggi. Misalkan kita membuat array numeric dengan semua element bertipe integer, kecuali 1 element bertipe float, maka otomatis akan dilakukan upcasting menjadi tipe float pada semua element array."
      ]
    },
    {
      "cell_type": "code",
      "metadata": {
        "colab": {
          "base_uri": "https://localhost:8080/"
        },
        "id": "8LSeeLZsSYWs",
        "outputId": "c79508aa-ade8-4857-c655-0a2ab1eda81a"
      },
      "source": [
        "import numpy as np\n",
        "\n",
        "\n",
        "b = np.array ([1, 2, 5.1])\n",
        "b\n"
      ],
      "execution_count": null,
      "outputs": [
        {
          "output_type": "execute_result",
          "data": {
            "text/plain": [
              "array([1. , 2. , 5.1])"
            ]
          },
          "metadata": {},
          "execution_count": 17
        }
      ]
    },
    {
      "cell_type": "code",
      "metadata": {
        "colab": {
          "base_uri": "https://localhost:8080/"
        },
        "id": "Pyi5Xs_sT3Ww",
        "outputId": "6512ae62-73b9-4bf3-831e-92ccec463d31"
      },
      "source": [
        "type (b)"
      ],
      "execution_count": null,
      "outputs": [
        {
          "output_type": "execute_result",
          "data": {
            "text/plain": [
              "numpy.ndarray"
            ]
          },
          "metadata": {},
          "execution_count": 18
        }
      ]
    },
    {
      "cell_type": "code",
      "metadata": {
        "colab": {
          "base_uri": "https://localhost:8080/"
        },
        "id": "kcCB27H7T_Ge",
        "outputId": "f89102a3-d45c-48ed-e361-2ab1bb813e39"
      },
      "source": [
        "import numpy as np\n",
        "\n",
        "b = np.array ([1, 2, 5])\n",
        "b.dtype\n"
      ],
      "execution_count": null,
      "outputs": [
        {
          "output_type": "execute_result",
          "data": {
            "text/plain": [
              "dtype('int64')"
            ]
          },
          "metadata": {},
          "execution_count": 19
        }
      ]
    },
    {
      "cell_type": "markdown",
      "metadata": {
        "id": "LLqixEiAUj3I"
      },
      "source": [
        "Sedikit flashback lagi terkait tipe data"
      ]
    },
    {
      "cell_type": "markdown",
      "metadata": {
        "id": "wWmNBH5HUiN0"
      },
      "source": [
        "![image.png](data:image/png;base64,iVBORw0KGgoAAAANSUhEUgAAArEAAAKmCAYAAABaCcYOAAAgAElEQVR4Aey97VNUV7o3vP+A/aU/8oEqq7q6ig9WWRbFByxrCuaUHnO8b/CJZXGbmcODeWZuSM3kYJIjxDxichI0pTs1Gah7Akb7ZOwnBoz0mLHzQhKIgjNgQk+mncgYkoDBCBEQlQEGpGH/nlp777V79X7pbqB5ab2swt4v6+Vav+taa/3WWtdaWwL9IwQIAUKAECAECAFCgBAgBDIMASnD5CVxCQFCgBAgBAgBQoAQIAQIARCJJSMgBAgBQoAQIAQIAUKAEMg4BIjEZpzKSGBCgBAgBAgBQoAQIAQIASKxZAOEACFACBAChAAhQAgQAhmHAJHYjFMZCUwIEAKEACFACBAChAAhQCSWbIAQIAQIAUKAECAECAFCIOMQIBKbcSojgQkBQoAQIAQIAUKAECAEiMSSDRAChAAhQAgQAoQAIUAIZBwCKZHYTwsaQX+EAdkA2QDZANkA2QDZANkA2cBK2sBimDSRWCLoNEAhGyAbIBsgGyAbIBsgG1gXNkAklgxxXRjiSo7UKG2aCSAbIBsgGyAbIBt4+GyASCyRWCKxZANkA2QDZANkA2QDZAMZZwNEYsloM85oaTT98I2mSaekU7IBsgGyAbKBxdoAkVgisURiyQbIBsgGyAbIBsgGyAYyzgaIxJLRZpzRLnakRuFpdE82QDZANkA2QDbw8NkAkVgisURiyQbIBsgGyAbIBsgGyAYyzgbWgMSexJ/fuYmZqXkj73nMjdzG7Y878cWeNzMOwEd3ZNeCvmsTmIsaaozOYvq7AQyeeg+XfroWo72T+NOpG5id/QdGT51dph2lM621wILyfHTrJemedE82QDbw6NjAGpDYU7jy4V0939lpTI9MmkRo4fbf8eWeE4sgICfQ/u9/xFfKObQtawSVrnQeHcP5tOA93BhZAKBi/v4/MD0+C3YHRDF18WNcWpY+loLjafwt/E9NgvlwO9oXk/+/vY0v/k8rurfzfJeR1mLypbCLqOtcN/RLHTTZANkA2QDZgG4DOplM7f80fewgRmIXIhfRXnAC7U//CaP3GAWax9SHf0yRkJ7En5uGMa8CejpLNep0pbPU/DM1HiexsxhtCODTgv9Gl/8GZlXGa8dx44B/9QnKv3+Ivve78OW/n0w97199gXtM6Oggrv2boIulpEWkNHXcCSvCimyAbIBsgGxgmTaQGn3VQ60QiWXE4QQuNXwPbWX6H3340pwRE0iFraBWMpwobKJ36UonUR4P4zsriWVlPINrETYbquLB5dYUByNrjM1zVzHN7NtKYm32tsZykjzU2JMNkA2QDZANkA3E2cA6IbGN+HTvn3GXucmqd9D/NJtJewtfnO7D3eFpbbYV0X9iMvIXY5YtgGuRWZvs+oxsonhWIuKWTg+uX2Ppq5i78omxNH0Wff1zAGZx59Q7aG8YxAIWMP1hGyIf38L01APMjdzC4GtnBIBPoP25y7jV9w99xvj+bdw69YfFLXWvW4N1IrEn0HF6CGwyFre+RBeX/X/8AX+/PIwZbcZzCvcuX8aV/8HdRk6g/T+7cPvWPzV3hIWpOxiqfyeG4Z4/4vrlYUwzH2p1DjOXPsZFE/tP8eX7P+Cfs+O48dw7hk0wnbynxU+mI/29xYw0MsvtIpaWtnRjlIPJsjB1H+OfXUIXL8e/XcQoG4WN/A1fvhbBnZtTmGfyfv03RBYzM8wxo9+YDRAWhAXZANkA2QDZgIMNWHrwhLcrOBPbiE9/egGDd5hLwRR+fO33Gon98vI4ZvpvYTRyCxP39Y1gC193obPgLYTPfYe7Iw90ge+PYSwyiJFzIbQXvAX3eFYS65bO++jkZOz2VVxhG5X+9RP8OM18F26jr+xNg8QCC7NRLERnMcs3qs0No6/cWM4u+Qy3JxeA6DQmem9jeoYtW4+i/z/XYKndQfnL86lxIrGN+PTgNWieqdPfIfKvDO+38bfwlOYqMvv9sKGzOfzjvff0mVqOkTqLyd6buPP9bfxw9C29sv7PDzH4o7FzTPOf/gfuvfcHcwDx4Oa47r6AuwlIrLuO2l/qwcjXE9AsS53GxNVBjP6lB+F/dSCxPz2Lv19jc7YqoiMjuD/O5FrA7JU23f+Xk9jZWcxF5zE3/k998MXCh9vxWdrxt9oy3S/Pngk/wo9sgGyAbCDTbCAha7W8XFkSa24U4j6WJ9D+bzHfxraX/g5t7nV+CNf3slk8NzeAZPGsRuqSTtkV6G66Rn7lPZhgU4xshvGnjSaJhXoXg//vW/j0f7yPwduMDjG/XjYT+N/44pN7GtH55ychtBWcxJ/PjUDNpKX2hMTLhcRalufbXriGfzLcxq7hi39pxKcVPZhgYxXDbaS9bkAjkeq1TlyMy+8Uus6N6JvF7nwTN5sZm0FdwNzXf0Xk4Fl0/Nv/5zITy3inm44a8alFXr0C20ls23/9HWwMgnt9+PJ/nsCn5Vdwj03MG4OaTzmJZfr/5H20F5zE5Xd+1GelU3aRsdom3Wdag0ryks2SDZANkA2sng1YeGrC21UmsQYIbOf4ax3oCw1iWtv+zmbdTiUgscniWcF1IbEF5/Dt92y2TZ8Z1snWAmYvfqDNIJpEauQqrmjk6yT+dG5UA1AnZH9A/y1GaicxxGcWOWH6vgd/iiNsVpky4T4VEnsSXe/d0WYvYz6yRjx1FN+Wn0Tb0T5o8+kzP6L/hdPCcgnH/wHunm4SngsDiAc/4O//i7sl2Ilnch2lSmJj5Yi5l8Tku3PqDGIk9h4GDxoz7Vzf5G8bpz9q4DOhfpOMZKdkA2QD698GErJWy8uVJbF8uR6cBJxE52t/wz3DjSAmSzISmyyeVSluJPYUut4bM2ZW3zeOBYsRUjtBEsgVI7bmzFxMcvPKJL5WWTLp3pnEtr/2HdgEJe5cwxc/5cTSLLlwYejxX1rw9XX9aCxEJ3HnvQ/Rwdw3TPy4vmPYOGH/aQHPK+bH6hTO9syRaFrTst4zWSzPnOR1TDtWDmogCQuyAbIBsgGyAbKBpduAQCqSXq4sieXL9dxd4N8v447mQ3oPw/4/onP3JX3jjOb/mGAmNmk8K1huJLYRfClc/TqCb689AB4M4tr/pc/82chQgRuJfYDpr29iNDIY+7t4EZcfyplYYTb66z+jwyR6KuZHfoyVX8PiGq79P4a7iLZhahRz2o6wWYyffpdIbMbbh7We0T11VGQDZANkA2QD6bWBpMxVCLCCJJb7i3Kf09gud9NX0jbT5UQ+U4lnBdApHSPMv3yAH5hj7P1xTNxfgKoRM/2dncQKBI75d/K4ojvBQ0VMHGZif9piuGBEMfneHzS/4PDFCYs7gRV/fv8Wrrxn+MAydwtzo18Cd4K4GW3LzKh1UKFhb9ERe+Y4W2pNy2/4N4tHh7m5Ewgzx45p8/LSLzXmZANkA2QDZANkA8uxAYGjJr1cIRJ7Eh3/9TdMaGvQxixcAfdBRIw4/seXmNRm6jhJEMJ834M/a586FZ5xwmmLZzUYIY6ZDg/DTjqYNICJYuLcOdO3zySxC3dwo0rc2MUJXAB/C7Pd7AuY7bmIzjX5FCsvx0r8WkjsT99G+ONRfSPWzC1c/99slvUEPqsb0M//vfcd/uZ01NRjp9DOseEnG2g+wwL2bhu7UiWxrjpqxKdPG3a1MIJvK/hGQiuJFcpx5+8Is2O1/tdl3GHOvIZvr6P7A5FYs74sp5GiuCtRfylNsiuyAbKBzLeBpMxVCJB2Egt2bJLwudJ/dn9mkr22A1cxxUirdvTSkHnEFkx3gsbYpiCwI41G8cNrp5FKPKvhmpuLhHR4GNPHUx1D/38wNwZd6SaJZQDN/hMz/IityRu49n/rZKjtP8IGOZ/H7PfsqLBB3Om/if7nH6YjtvTPzprlj97HcL2wEetf/oBvb+hHoS3cv4M7zJXg2m2Mv/dHDcu2o9fxz/FR3In8gHvasVXC8Vv/+0+4M6Xt5oNmKyPiEVvsTFa+qY7pxEo8BfeOBDr6dHsrhv6hjY6wMDWJyYsfo90hrU//5T30/8BGWkyXQ7hzi52V4XDElmCfzrO8md9o8DpAv6RLsgGyAbIBsoG1tAGBoya9TBOJjX3mVctxdhqT3w3gRsMfcInPyGlE8S1cCQxgivnFzk7gzvt/xkAfI0MT+OGl/9bJ5E/PIPLxkH6IvspOEWC721OIZxBRE3jHdHTDNI/2Mo7W4nFMEjt6Aze6xxFVVURv38C3//W2SXQ/LTiJjpe6MWR87IARIPZBhP6XjHNQrXJk1H0LvunnH5xgRPYe7vVEcO0/xRMGjMr98/fRxz92wKjf1ATuvseOoTqBS699hXvj2jQ8Fqbu4s6Hn5gDGTaTK34sgn3wYuK9P+Iz7WMHiyCxSXTENhDe1WRgH7f41JnEMt38eyv6I/cQZZx39h+4K360webu4uaqQA0er0P0S7ZANkA2QDZANrAcG0jKXIUAaSKxGaSwn76L618zosb8MpsFcirM8sXNBmZQ2TKKMC8NV3OgQTqKs93lNBgUd2m2SLgRbmQDZANkA+m3AYGjJr18tEgs+9xpzz3dx3Ps7wizA+4F4kcEKf3GKOKbjmvS0frXUTr0TGmQnskGyAbIBh5NG0jKXIUAjxCJPYHPXvtWP4R/6ha++U/78j8RpPVfYUhH619H1PGQjsgGyAbIBsgGlmoDAkdNevkIkdhGfLr9ffR/+Xf8/Tk7gWVgE0Fa/5WOdLT+dbTUhovikW7JBsgGyAbIBpIyVyHAo0ViBdcBqihUUcgGyAbIBsgGyAbIBsgG1pcNCBw16SWRWCK2cX7BVJnXV2UmfZA+yAbIBsgGyAYeJRtIylyFAERiicQSiSUbIBsgGyAbIBsgGyAbWBc2IHDUpJdEYslo14XRPkqjTCorzaqQDZANkA2QDZANONtAUuYqBCASSySWSCzZANkA2QDZANkA2QDZwLqwAYGjJr0kEktGuy6MlkakziNSwoVwIRsgGyAbIBt4lGwgKXMVAqREYoXwdEkIEAKEACFACBAChAAhQAisOQJEYtdcBSQAIUAIEAKEACFACBAChMBiESASu1jEKDwhQAgQAoQAIUAIEAKEwJojQCR2zVVAAhAChAAhQAgQAoQAIUAILBYBIrGLRYzCEwKEACFACBAChAAhQAisOQJEYtdcBSQAIUAIEAKEACFACBAChMBiESASu1jEKDwhQAgQAoQAIUAIEAKEwJojQCR2zVWwjgSYvw7/jmxIkmT8ZSF3zyH4u4cQTYuYUQwHyyFJXpQGb6YlxcUnMo/x9kPI8ZSjebAPwVKvUF5ebvZbjuBwekq9eBkXGSMahuIVZdevvUo4id7SoY95THQfQ778BPx904sUfA2Dc8y8CsLrQs3p0MUa4klZEwKEACGwBgikkcTOYqzvL4jcnFqlYkxhoPMCgsGg+Xe+cwAzq5T7Q5kN79izKxG48jk6Q2+gsiAbkrwLdZGJNBR5HXTUc73wF/uQr3yBadxDpLkOiqLgWOVOeCQJnp2VOKYoUJRziEwupKHMq5AE11tWKZRzvD6cxweRUagJs0+TPtRBBPdtRE51G8YTZ+gizTwmB6+h784qskmO2UNFYtcARxeN0mNCgBAgBFYDgTSR2DR1hosq8U37LFppEMOLSoMCxyFg69hVPIjUY4skIbumE8sfnqyFnYglVDHdfRQbpcfR0BtfmmhYgVeSkHz2UkxvnVzb9JaqXOnSxzzGWw8gS34SzYMPUs3cCDeDPn8JZKkASnhykXGXEXzJmC0jz4RRl6uLNcIxYZnoJSFACBACK4tABpNYAZjhIErZEjiRWAGUJVw6dexpxXa5HfUSyhQXZQJhZRukLfWIPIifMiQSuzz3DnUkhAqPD2XBwSSzv3EKATCJsFIAiUjsMl1t1ghHqzrpnhAgBAiBVUSASOwqgr3us7KRWD5zmYXt/uvQF9dVRIcvoa5sC2Q2cPA+jsOhbwU3jkTvnUjsLIa7TqA8LwuSlIW88pPoGTOWldU76Gn8NQq9su636i1G9dmvMKnxT2Mm/ueN+CjwNPJk5geag6IjbRiOxhNUE/eF6/Bvz3KcVXYmsUYe+fuhvLwbXs2Xt8NYAYj5zNrjMgz+hIbyrRpGct5TaOwZcSd30VvoqPtFrAyHQ+ifMcqgDSI8yD9wFC8X5Tj76tr0ZpYYSIihVR8W3cn5eLLlO0PvCfTEslO/RaA4G1lV7XB2PJnFcEc9yjQ9S5Bzn0bLwDf21RTTF1kML8Nb9DJC/Xz23EkvjIQnknEek73vononwzAbhc8/j19mM/t18YlNiFsinATsMY+7PSdRUegz/K5zsLP6XfROzouBjGuuiw3YffwNHNF0LcNX2qDXB+ayUeaD5HkOreNG/Nlu1G6QIJe9gmM/t/p2c/tMhImDGPSIECAECIEMQoBIbAYpa8VFjSNDkxjsPoPqwmzIhcfRddfoOKf/grpt7NlBNF1qQ1P1DshyMZSecZ2kJXzPO2q+sUvF3HdvY68nG4U176Kr7Q2U+TyCb+UUepvr0BjqQE/3BSh7fJDMDUQxdxK5YD/eaPKjtmQTJGkjKkK3nAnjRDuqsjagpPmG7b2diDK0hTx2HkXrwARU8xknCYAt7lwfAnt9kAsPo6WrFQ1lmyHlHEI7Jx9xipxApG4XZHkHqpvacKnpIArlbGxTrmCC8Vg+Ey5twM7ajzDgRIDi9BaXOIBEGFr0sfANArs2QMp7FoGObnReCCB4lVHSZHpied5Hd+1WSFsb0OvA0Rb6A9gle5C3/zQ6vujAhTffw9XpGYz1dSFQmQtJykVloBPh8DcYiy5gOlKPbXI2CqvP4NIlww63vY6eCZa4k16SyGjYpeR7ArWnTxm2koDEJsLNFScr9ioe9J7Dq41/RGdPFz5U9sIjbUCxvxdz1qDgupAgydtQ+cbbOF37BHySbNQH5i6wB5KUj5rOcS22OhBAscQGmBGMOOKYBBObDPSAECAECIHMQiDNJFaG9yc/Qa42K8Y6iGJU+bssM2OzGO7+Paq0GRE2e5aFvDIFob778cQiOoRufzV28lk4eQvKlPfR59SJ846e3AmWZ32cDJmnE0iQfE+huZ/vOl/ARPtBZAlEUV9GluCpbMU4kr3nHTUnsXfQWbMVUtYBY3bJWO4XZ5vMEjG/y+fgkbJRHPhWIJMFqO2+p4Va6PNjuyS5zgaqN5tRIuWiqn3MTJVf2Iio9oKTpRhxiBEoNxK7gInOl5Ajbcb+1h+hQsVsWMEmaRMqW2/z7GK/GrGW4KkIYYSRVvUWQhUbYzNu3LazX0TnlMsMM9db3MauC+gc4DOXPDsrhhZ9GHnZ/YJT0ZNBshzl5Pk4+b06LYOPob0qF5KnEqERNisfxUioEh4TQye9JJLxgWE7XuxtHtDaGXWwGXtZO+U2E8sh034tuLniFBfJfjPeikqPBKk4gAGbKjlGMjYe7tAHMOoAmvd6IckV2kkZ870N2KqRVrYqwmXaBiXMBhpOOCbCxGGkYZeYnhAChAAhsK4RSDOJZZ3CdpTXvApFeRmVGlHdgKKGq8Zy8zzudh1HocyWE0twoPY4jh8q1ZdRRbKkjqHryE7IEjvi6VnUKq/iUClbvpbh29eM/jlLD8A7eiKxyzM2Toa00wm60Nb8G1Sw0wl85Qj0sU03vKPcA3+fcQ6EsUSvk4Fk73lHbZDY+QjqNstCp87f70BdxELAomO4/nYlss3NV5zIxMikOWvpYgc6UXUiUg6zqRqSDnmYs4CxfOMJ8BQidTsgST9DYGBW14dmnzI210VgpQ56XNFdg8+4GXKmYttcb+Lgw+kYMxuGHG9DHw/+irotHkh5z+N8P5t1Nv6lpCeeVgwXHp3N5OobBD3IqzqP/riBKLcZQS+8PNv96DMOiOADFJ1gO+gloYy3Db9bwW55HqmQWCtubjjFCuxwNYux6++g0tWFgePHB3gsCW4LW1HbfR+Y7kLtRhlyWRDDqmFnWQfRPsFAcsAxISaW+uUgMT0iBAgBQmC9I5BmEis2wIA6+TmUwqzYjApfhtPO6OSHYRnnTLJls5oOzZ9OX3qU4Ck7i0Hu36iOo/vIdkjSVtR03onHNZWOPj4G3TkhYOvYVUQHz6LMI0He24xB1YE8xJG6AZu/aPzM5Uz85pXREMr5rH0cAeOExuJ7aIRxJTJJ7GB1SOwQQuXM7zKVc1udiIvlWZIyaWq06U1UbiIMLXkxH05jkCkx94bgdd3/OKmeWH48LScSy2aY+cBUglz4AoLmyosD+XIqc9wzBztMKGOv3S4TYsbKkwg3F5xE2Pl1nL+zYROOxJnjJ7ah1mfGDLU2292P5pINBqFlmTngmBCTVTwJgmNBv4QAIUAIpBmBFSWxsZkEfQlX9+FyWO6d/woNWz2QtMZ5BgOBn2k+ctZlX305zeG4p7gOLs0IPUrJOXXs6g2ts9Q3lNywk4HlkFiut50KWsNhhM2/r3Bzch7q6EW8qPnkHkRT9/e41yMeg+VAZHh6azoTy+V6HErrFaFMYVy9ORmb3dTsykpS2EPLsyRl0pMxPnbgQI4SY2jJS0tsHpN953FY21iUj2dah6ByGVz0pEXjcstPIzRqnW/WQ0C9j77zL6GIuQjlVKNVcxVwIF88P1GPcc84xgJh5u8dZXSwWydbN8RkP4lxYyEccBLia5fqj+h48THD37kbg/eu6B+lcNCTTe9aAlw/OSgPDQluFcVouPIharLFGfwEODpi4qIjaxnonhAgBAiBdYzACpNY3gjrswvxy64iKmKndM/9yB3eUYmdG0vG7bmYBV0nR8CpY+ckViMn9+3LsstxJzB2V0vCsnFMSGY7FZAFH9Z4+xFtxjjNIJkdaO85IYjlxK7i0+bvHPKII+16vvFxjQ1OkrB0zZNz+NXjimSELyEvwZ3ARo6SYRhfP0Xx1PE2VOfI0HQzre+Cd9YTj2Usb9tk4O/5r/HFNNO304F8cTsU7CKpO0FCW3LQCc/DUd5kuPGyAHE4Wb6Nwch/mSwM2pPmaf2ancUWGLnWNnNtwOOVFdgmcX9YJo8DjgkxiZWBrggBQoAQyFQEVpjETqO3odjcUUszsevcTBw6WXUoiH3MnWBXAP0LfDNJ7ASA+I1dyd5bSdNttFZuguR4SL61U1Yx1fnisnxiMdVpmb2K6SOeiPLnTiR2HJ01+ZCkYjT0sg1vrMwHkGX66nIMYpuIeGqOv8Zmn6Qbu6wDNzExB73pr5NhaNWHmKhR9s11iMwn0hOPYyx1O25a4mGMX20wwX2ErTKyMEZ+STd2CTOxPI6jLfGNYTGdJN7YZZXJantieUScxOcOAyPN/tw2k3FdyNhY2wVtKyXf2GX6vQLgg0bmriI+dyKxCTGJl5XuCAFCgBDIRARWlMSqdy/hcJ4HUs5L6GSbD1bKJ5Z3DsLMTSYqY81l5mTI/Oxso36KhLwTR7rG9F3dE1eg8CO2Oi6hpYYtl8Y+S6smfM87au73pxpHKcnwlRxFS8fn6OkM4UxrH2bYSQfaLn/jWKYu44gtkyw6EMxkM7EJzjJNncRyQsTO8DyOpuZ6/dO8plwAhOOcjrRcRE9PB0JnPkEfP/tVVLQ6jh6l2Fhy/gxdLYf1I7bq/qITmWRlYmlxvdlmFZNhaNHH9FWcrW9CW/cVdGhHfXmMz/Mm0pNRGM0lKAublB4Y29mEUqqYvtqC+qZP0N1zUT+WTdoBJXzfGASwUyc8yKv8HVo+iGBMncdEz+vmEVsdXe+ihrmVbKtHZJptN3PQPRLLaM6Y+sqgNAWglG42zh52Oic2CW6uOAlFZpcTHahhs9nakWWXjSO2kpFY6xFb2djGbUFL3jjBg30iWTsRhOfJB08ijokx4THplxAgBAiBTEUgzSTWg9zSF7Rv0Su1TxvHY+WiIjgAfeE1tiEiracT8GOJpE3YU3UUivIKDpTU4H0337xM1dZKy813M5ubknwoLD+CQPeQoT8mgIqZ/pDhMylBzvsF6jpupfjeQpq08rDD2E+i0jwQ3ofCw20YZVxFHUFP41P66RXsQwe/fQG7Zf5pWAcik5TwGSsDG4+iWyNDMUBTJ7EA5r7DhWe2xT72cPYEDmzgcukYsY8dNFbu0D5lK0kyvIWvoH3UcHuIZatfzXyL0OHH9bDsKLm6S7Fj6ZKWKRGJTYZhvD7U4Y/wvKkH68H8CfTEstGOrHI+vgyYw3DrYZePVrBN+NfRVKF/GELSZn4ZLFPoD72s+89qx/DVo2OY02MH3WtIJpJxHpPX3kaF9rEF9lGMFrS88hP3I7YS2N5cQpxE5UYx1nPS+JAHw/MYanZ7XfLkutiHUx+9iTIf+8BHDorED19oSfNwsdUQM0dHHBNhYsakC0KAECAEMhKBNJHYBUyGT6CsgH+Zhu3CZR33r1DX+q3xhSWOzwqcE6vtJG4zvnLD8z6M1mH7keJcCvp9NBHQfStjZ8s+miiku9QPMNj8JGS+4pLu5Ck9AYF76K4tiJ34IryhS0KAECAEHjUE0kRiHzXYqLwZiwD7fOe+HGTtb8W4eRBqxpZmfQg+9xUatm0wXA/Wh0gPpxTzmIz8DkUyd/N4OEtJpSIECAFCIFUEHnISG8VY5GMEg8HEf+cvY8DJXzFVFClcBiGgYubaCRR5dqPhGh34vnzFRTHaWgWf62d1l58DpcAQmMdkbzP2s4+PmMeTETKEACFACDzaCDzkJJbvMrYfPB9/GL24y/nRNggqPSFACKxHBKbQ2/A4JN8v4b9m+UT3ehSXZCIECAFCYBUQeMhJ7CogSFkQAoQAIbAKCKhjfbhqbm5bhQwpC0KAECAE1jkCRGLXuYJIPEKAECAECAFCgBAgBAgBOwJEYu2Y0BNCgBAgBAgBQoAQIAQIgXWOAJHYda4gEo8QIAQIAUKAECAECAFCwI4AkVg7JvSEECAECAFCgBAgBAgBQmCdI0Akdp0riMQjBAgBQoAQIAQIAUKAELAjQCTWjgk9IYyzepwAACAASURBVAQIAUKAECAECAFCgBBY5wgQiV3nCiLxCAFCgBAgBAgBQoAQIATsCBCJtWNCTwgBQoAQIAQIAUKAECAE1jkCRGLXuYJIPEKAECAECAFCgBAgBAgBOwJEYu2Y0BNCgBAgBAgBQoAQIAQIgXWOAJHYda4gEo8QIAQIAUKAECAECAFCwI4AkVg7JvSEECAECAFCgBAgBAgBQmCdI0Akdp0riMQjBAgBQoAQIAQIAUKAELAjQCTWjgk9IQQIAUKAECAECAFCgBBY5wgQiV3nCiLxCAFCgBAgBAgBQoAQIATsCBCJtWPy6D6Zvw7/jmxIkmT8+VBY8RuE+u5DXQQq6uRXOFtdDK+Wzh74+2YWEdsa9CaCpV5IUjmCw1HrS5f7CUTqdkH2PYPQ8JxLGHqcKgLqeBuqczairPk7pKqBVNNen+FmMdz9e1TtzDHqQRa21n2JWauwMwPoPB9EMMj/LqBzYMoaiu6XjIC17lvvl5ywPeL0X1C3bQN8T13AsFtjNxxEKWvTSoMYtqdATwgBFwTmMdF9DPnyE/D3TbuEocdLRSDNJHYCkYYn4JU2Y1/zNyD6sFS1rFG8aBiKV4KUXYnAlS60NR1DWV4WJHkP6iP3UiSy9xFWdkCStqC87gyCZz9B7+TCMgrk1HHNY3LwGvruuFGqu+hRiiD7fo3goI16uMuiTmLwy29wx60Tc4+5gm+SlXUFs9aSnkaf/wnI+a8hPL2ugFmhgs9iuO0VFMoS5IJf4beBd9Hsr4e/e8yeHyc15qDPi9LgTXs4erJEBKx133q/xGSdok1egVK4Ab4nWzDImytre8D1vRokdvqvaCjOgeR7Cs39RHx0lWUwv1AHEdy3ETnVbRh/FJpRpzq2Qs/SS2Lnv0LDVo82eyGXhzC6TKEXbn6CVyufwO6GCOaXmRZFTwEBTmK9CsIaP1QRHTyLMo8EeVcA/bxxT5TUVCdqsiVI2/3oSyV8orS0d9aOawZ9/hLIUgGU8GTS2CkH4LPQZtlTjrmCAVeorIuReLoLtRuzsa3hq0diUKoOBbGP2XvR7xCZTLXViWI4WA5JIhK7GNNKHtZa9633yVNYcgin9mAVSex8bwO2aoOjHJSHhpZcDD3iLG62vY7Kkl+gIZJkpUCdwMBnp1H79C7kymxFLsEKWPQHtB1+DPJq2X2a+QUWBtH2aiVKdjci4lTV1fvoe///oGpPHmQ+UPUWo8rfheGowESjI4gEFX3CRwsnw7uzGv7uIWHlah7jrQeQJT+J5sEHy9QnRRcRSC+JRRRj4QBqKmtxtndxS9CiUPw6Gla0JWmvEhaMgb+l37QjYCOxLIcxtFflQpJSdAtIe0Nv7bgmEVYKIKWbxDqWPe0ILzLBFSprylKomA0r2CTtRF0kjQOGlPNf7YBs0LBHs63a7nuLyJxI7CLAWkRQa9233i8iqcUGdWoP0t62JRBKHUH4rZdQefgcelMeTLmll1o7wtzAmvdv0wibnFuCA0feQKDlY0TGHFa81HH0KMUGuVutwVt6+QWcdCxCqI6gvXorvIW/RM1xBcrxQygv9EGSNqDY32sM6ucwFHwKHokR16dRqyg4fqgUeWwA4NmHwHexWXR1JIQKjw9lwcEUVzVFYejaDYE0k1i3bJb2nEjs0nBbcizHSs07aHFGYBbDXSdQzlwNpCzklZ9Ez1gUXF8xn1oJ2gDk7udorNhu+Miyyv5CbJBj6xisDa7YcQ0Y/rHcZ9dtpkCMEwW0PLz4+anzCFRs1Rte724caf9BHxxxGfhom/1qS4YqosN/QkO5HkfOewqNPSNCAzSL4fZjKPLKkOStqDj2PHbLRpk1JTjjpL3S8vQg/8BRvFzEfC+tMx68DGJZS3HseBlkaRMqW28bar6P7tqtkOQKBIf7dXy2HUHT75/WG1Lv4zgc+hYxr+RkZTKS1X4MUpf9Ijqn+MwDi38JdWVbdBzlfDzZ8h0WMI+7PSdRoTXyTOYc7Kx+1+iAuQ39DG9cOIUKbjcVb+Pa+PdoP7Jbtw1RJ1r+i5BVvYOexl+jkOmC6c9bjOqzX2FSE9tNZrGsANRvESjOhpR1EO0Ti1lG4OVbrc7cIrfj7SSuNZRAlnehLjJhD5GsTmgxZjHcUW/MMMnwFr2MUL8xk+dov0b93FOPC6cN+2P1InAV40NtOKLZOUvnGNqHDTefhHrjdYDXDfF+BsPBigR1wYF4IVl9NOq9W3vAnz/2POoOP+5is255cBspxAHlBb3NWA23BE2P1jbVbg6IDiK0Px+SvA37Az0YFWcabcFnMRQ6gBwpF/vK9yA76UxsAjuCodP8/VBeZu3AKtYhx/5OLKyK6P37MJs+1kSMt2J/lgRpawN6+eztzLf47JOvjbaGxefENgvb/ddhtiRG+5JV1Q6HGilmTNeLQCBNJJY3LkKH61hB7yLcUI4C3tGYU+8CqWHC88ZCJBXm9Soa+SKAfCiCulRqnZx6sLXhK8xDxdx3b2OvJxuFNe+iq+0NlPk8uq/P5E1cbVWwk+lqp4LWcBhXb05CfdCL5lffRKjzCro/VLCHLdcW+9E3p8Z0bdqLtcHltsU6simM9XUhUMlmhnNRGehEOPwNxmwNrhiHk1hmm9koqKxH0+lXUOKTIXkqERqJAtEx9H0eQCVzg9D8gcMI940hOteHwF4f5MLDaOlqRUPZZkg5h9A+zlovFTPXTqBIluEreQWn3zmOUpamxElsApwYsTJtfAN21n6EAdtsy6xjWUeuncJ2SUJ2TSc0OsGJl+a+wcvN/Dn3441APSoLsiGJGwoSlslqxcYsfEkzbnIOu/ANArs2QMp7FoGObnReCCB4lTXJKh70nsOrjX9EZ08XPlT2wmPOWPAOXIIk70DVqSacrtmlzV5s8HqRU3ocTU0GflwnTJRFyTqF3uY6NIY60NN9AcoeX6zcrjJbyjvbjdoNEqTiAAZ4eS1BnG95+RK0TdEhdPursZO3ffIWlCnvo8/U+wImwydQVsBmeoR2NI6M89wZUTqJSnPAwMJnIbfoWfgjfAb5NlorN0GKG/Dw+KL9udQJqJiO1GObnI3C6jO4dOkMqguzIW97HT0T8y72K9hfYRVOtfhRU8Q2ZWbD681DqRJAk1IGnyTBUxHCiIZxAr1xgmMO8Hj6Oqld6PMnqAtCWbXLFOsja4fc2gOzzuqYNdtsNlEe3EZYHdiF2tbvBNIjyGrmwW3AxaYme9BQVmhMDPCw4sCRpSnkKdqUec0HB/MYbz+EHMmD/CNdmEho+8zFLIgK3wYUHrmM0R62Wuoio4F7QjsydSxB3nkUrQMTwiQBx4XrnZeTTzLw9/w3RX4h5BlX1zguZl/E0xV+ubucSGKF1/xS7zNlbK4TXSGNCYckcXka9JsaAmkisVMY6Lyg79L1V6GAGYOjIXBjzEdpzTEo4tS7SQ4AGLt+zymlyJIkZJUqOEc7gFPT6HJCJSSxnJzdQWfNVkhZB9CqkbkJhJVtkDzP6fe8EXbUPxOOd64/Q2BgNtYZmuETkVg2u2J971RgbmdGI81l2ngU3drmJL5snIuqdmPDjq3sC5jofAk50mbsb/0RKvjSOp8FNQieXIZAP5vnfIDB5ie12Und/SVFnOJmOa1lcSgr9wvjPsfjraj0yNik9GDWbJwLoC+Hq5juPoqNkgdb6v6KB0hWJkv+6g00l2xA3MyBgWVSFx9NLk4IeWfK5QQw0Y4qNqNhklarThYpa5zozP/sOXikbBQHvoWaqszcTkxbjEs0wQ0vn0tnro6h68hOyIxo7nkWtcqrOFTKZrJl+PY1o58N5kzC4UFu6Qta26gcP4hSbdZ6C6rb+QpAFKMdR/SNZ2zJt/Y4FOUYakrzLT65KqKjV/HJJ1edZ9V4WV3rhGHfpn6iGAlVwsNJMY8fZ7+83m2DEmYDmwVMtB/U2nCTtC5ch397lstst0Vvpj1zssXTN+4T1gWrulKsj1z3tvZAIP4mZtPobSiGJOWjpnMcQKI8Zg2/aWEAahWR3ZsnXpyDv2q7RadCBI5/bilqFAWKYFOxzUMqZgYu43zwDJTSjZCkjShVzsRO0zh/GQMzzPaMNln+ORo6utEeOo/g+VZcZgN5IUvtMjqAYEWuOZjRyZqL3WsRktiRqWOOoTVDdp9mfsHTO6eglLVBWaVQzvETRoI43zkgrFxxeeYxefMv+KhuH3xSLiqCA3ZseFDwzc1bUdN5x3wKOK1sCa/pckkIpInECnnzysUbA+EVTIPljRJ7OYXehse15UerAztfnk7aYcblQTdLRsCp4Wbdq+ibPB9B3WZZmK3iHfgO1LFNAwn1ryI6dhVvazOpxsYsW3grcbN0XMshsaZNcpmFxtdW9ilE6tgpCwbZZqBqshqja46DMKpOH05cg1Ys2PN76K4tMNwHopiP1GGzxMm4FSuBLGqzqUnKxLPlvwYmcfXvwV9Rt8UDKe95nO93mjVhkWcxdv0dfWZb2yiXCt7WMIuUlcvMfqNjuP52JbL5rHhKMnP9ug3AxQys11bZ498v9AewS5bgKTuLQb5qoI6j+wgjKbyjc0pDxVxvI7ZJEsyNsrwsOQcQGuInbzjFjZfBdmerd5Y0eH3ggyVGSY2ZT80ebPFZDnb7i6sTmhD2MKZsVr3Z0rPGTVQXzFT1C15fzVl2Xl6XdouXX9zoaSszT8NoRxLmcX+Rm/8saVuK49jOzn2Fhm3sNJmnERrla90solM7IiTIy8pnIs3fLOQxlx9ztSCKkdZq5EjbcaR7XJsx1fUrtKNCstolT9vNjmw6tiZgubfpQHxvtQ/2zp1fJPWJ5UnzPDVcPMh95kP3Y9jAB5kyfBXBWH3X0uI6FfkPz4R+l4rAOiCxFpIklMTeAAov6TL9CPAGR2y4zdkUo6EaDaFc27UqLO1olduNlDIxRZ8oHs8tvLXBtTZM1vdOMFji8EZoUSR2CKFyfk4ol1n/1TpxjoOZpsWO+XuzQ+BpuJXbqRxOZeWzW2zm4jZuNu8zCa0TiYhvqJOUySqCYQ9xJJb5vnYd12YCmWtAdfB6bFk0egsddb/QfXF5uZdMYhcpKyx+r0b+uuwJZBbLzGeHRfcJ8b3rNe+cnDrzWQwEfqa5v5iz/kY6fAe67hrikoalTvI4cbPj5iyuU/4uQierE7b3FpLv9N6BkNjbcEvdTKg3a1jrfaK6YCn3YuujBXctNVuZLTpLmMe9lSexrmTVqR0R8OHlKjiMYHgQkyqbbLiGj+JcggBMfwElPyvumKikJJanLbST8QTcqlNBLqdLp/TMcM5p2W3QiOCkYzMt4cKYHW8J/NY4qSAbhS9exKjN7YK5+fxOcysz3W6EZGKrLURi42BZ5g2R2GUC+FBFd6zUfJl3K2q778dmWg2f13A4DP3vK9xkI3ZbI8NHprpvXffgMHrE0wVs4a0NrrVhsr530oAlji0PS+fDkrCVnafxOJTWK0YZ9bJqfr62NC0klr9PGSencjiXVd/lynyUL+JiTb5wnBmXWWgk48rF37uUySqCETeexLJA85jsO4/D2kadfDzTOgRV/REdLz4GmRHbpm4M3ruinzm8ZBK7OFnV0Yt4kflsFh5EU/f3uKf56nEXGBeZreXly9NxS+TWQE73DvZkBnPWofaa24jWwbukEac/i42ZebjENd87XMTlzd5b0rC9XxkSm1hv3Aa4PVvvAfe6YCkzL0+q9dGCu5YaT8MkZC6YOebB3QlSHWhY0rYUx97OsgButub23EjUVi7jOR/UabOofLOSD3tqT5suCbrLXxYKqt50XoZ3SjvumV2n1qLG3cfFjXvjuBLAQiybxIrZqENofYa57lhPbIkNlOXCV9DGNy6KcXkds82UxwWim0UiQCR2kYA91MGdGm51AM17vTEfNr75RVgeisPE2siwQ57LfLH41obWGt763ja7k6RB1oSxNIy2PBw6CFvZDSd8t6PFuIO/gENcY7lYnOJA5DcuZeWbuR7/FSq3ZRv+sCyOpdzsEe+ItI43SZl4tuavnp65lG0+1y/0L3nJOon+IYgyWYr5z8bhmQre1jCLkZXFZTvVuVuFe8cVJ7O5bZgXbBydbFAg7YASvs8fpvBrlV2Mkt6ZWObfy3CW9zZj0JwJSpS/KItwnaxOcP0J9p1+dwJ+woCb3qz2bL0XTpSw1QWhrOxysfWRl19clUqGWcI8FqujJOFtsrBCurQXrs8NjBzaMu1NHAY8bb6i5PBrknsjXfbD03CzI6c2S4huu3QsNw/lYB/pJrGciMZtZlMx0/c2ynwy3Aksk9FwkRJtiotOv0tGIP0klneapu+RKNvijEwdCKCYbeza30pfuRBhXKlr3uCYlYwfpeJBvvIF9BPv+CYAl0ObrY2MLU1OFIxldd6Act9S9Ue07t8snANrtRnemBrxHbGwxLHK5NQQ2eTkm0y82Ns8YN8xy8m5ufHFOMya+2GamyVSxMmxHG5l5bPjrCOJEYAYiRU2doVfQ77ET5ZIUiabDIauhA4oPoiB8+Y6hK9YznTmel3yTOxiZLXipGKq88WYT2yc0DGZ7Qecq5jW8JLgKXkLX2ubXuIiu9zw/CxH6hihl+4TK5AAXie1L/8wN5efYP/bf9E2bUXHvsL5Gua/Lc7yRTHarqDs5/ugXGabjiz/ktYJo56b9u2ysSuOuFjqnSOBEMPcs5z5zHHkM+hiWLbFyHrPyuRWFyzlXWx9tLUHlploLXkr0UzUNlrDWuWz3nNXCWNzovW1TX8sgLUe8Eh8IMU3qfLnxi9vc8VTTNgpNIY/tqeyFQ4WpEVO6k7AcXezI0edWuQTb9PIL2JH6vFNymJGLtfa2bFbIEl88yI7RaUX/uINKXxdzdjk5siNXPKjx0kRSD+JNRvZTdhTdRSK8goOlB3HZ3eZo7lTI+Q+awK+iUHegtJDr0JRjqP2wJOoen+5XzBJisujGYA33NpuzSaceqVM82+M9+/hR++wo6WOoqXjc/R0hnCmtU/f0WlrXI0du6zTDbSjyzhiy/xYgXoLoQq2c3azdgRP8xv7UaD53HKSarUZTm48yKv8HVo+iGDMnJHiarPEscnk1KEYHZD0E1Q2vIsPIqNQte+pZ0PyPYEjLRfR09OB0JlP0KeRG34sje4m0dF1HrU7N8QdsaUfLZMqTlx28detrPykBLa73zgVQovGyy1B1o44OoGqwmxInnI0DxonxSYsk5g3uzY6P/Hc1OmrOFvfhLbuK+hoOohC2RjgTHSgJkc2jt66bByxxc5rZV9/c8Cb2xonZ04Di5Rl5ScZeJC3/zQ6uowjtviAwk1ma3HZvXmSADvP+BnUaZ+d/S3q22/ZBzJCfH1ZW4Lk24MqdjB67bMoqfpA/2qhmWYqpxOIRNSBxGo+pJ/gMNMr9zs2f8W4xgBE1J0gr3052qqjeUz0vG4esdXR9S5qtCO26hFhJ3zY6hRLnNsfX/53atvFMA+ME0Bc9GZLT4zL98271QWxsOx6se2WQ3tgK7MVs0R5WMNa5bPf86/HxWzqOZTVXsRdFtQmC3voRmJVPIjUYwvbIJhXikPMPlm/XFKD97UNYPy4QPb+SRw/fQ4tgddQoR3PV4KGa+4fOklOYpPYkU3HdhzinqSTX2ASkbqd+lnnpQdxnJ3yINZbdsJKznaU1zDuYWCmfb1LPFUE4H7qnj21eMc8Rck47cA8AYJ5YbEvmmYJK2dxJaObJSKQfhKrNbL8YGs2U8Q6g+Po1L764dQIOTV0vDTzmOx9F9U7hQ023h14NnQjdoAwD0q/y0eA7641OkU5dxcq486y5FlYz6n0ofBwm+7o7tC4qmNX0Kh9MIDZQhV+W7Nb+GysirmB9/AMazCZrRS9hLOnnsEG84tcDjYzcx1N/KMFm+scPhloiWOTyalDYUtCTcZB/Px8P/2w/cbKHcZ5jDK8ha+gfdToQNX7uBbgh7pvw6+eflw7TijmQ7o4nDi6cb9uZTXKZB5dpEXi5f4JSsuLdJl9P4PScUs4DiZJmeIy5w00n9kF1OGP8Lx5Pql4LmUUYz0njQ9gsOfHULPbuzwSq7Ulf4Ir/qKs6gh6Gp8yPvBQjOrfvmB+eGLOVWYxAeE6ehvhtw9jTy77mAdrw3zY0RABPwtACClcCh++MOIUPv9RbBdz0nNinWzSicTqWaqT3+PKR2fQoPwGDW9fQPA4O+FFILGGf2/8BjBB3JTqxBT6Qy/rB/Ozj5qU1aOD+/rZ4rO0uf2lSmKjzKnVVW9RW3r29LUSOdYFoazm5WLqo0N7YCuzk87c8nAKawrmcmG1qRzsPHJJH7TbZGFJuJFYxuHvo/fsC7FzillbW3gQoUFu1bMYDZ9BjfmJVctHaVwkTE5iWcQEdmTTsUtG5mPWfqWLXwDsK2Vnq4uF83Z9KHz2AgYXAPVuD/xVJcbndw33CW8R9jd8gn7hxAb9k9PGe3NAye9jdUEdbMZeWVw5MwtFF8tAYAVI7DKkoaiEQAYjoDfoLst/aS0XP/91IypC4gyhSye/nLy1cz2zsbG2y3AnWU5iFHdFEFDvoPPwTyBJxWjo1Z1+dFes2OBjRfJdF4m61YV1IRwJQQgYCBjniOe8hM5FfQ2QAEyGQIaS2CjGIh+bOySD1il8fi9O5SdDgt4TAstCgPudrfxIW50Mo75oA6T81xDWPt7ABV8BEss/oWh+3ILnRb9rg8AUIg0VKK95Hf7mFgRbTqNuP5t1F5c42axfBTz8q3hrI+iq5OpeF1Yle8qEEEgNAe0M3w3C3pLUolGo5AhkKInlyyZ8yt7tNzaVnxwKCkEILA4BdfgiTjS2oL37C3R/VGecD2j4DC4uqZRDs+Wv5v3bIEvG0VZxMVeCxLK9M1fRULQR2xuu4kFcfnSz+gg4fFrTux0VcW4/85j8cSR2fu/qC7kqOSauC6siAmVCCKSAQBSjrVXwiV8lTSEWBUkNgQwlsakVjkIRAiuHgIoHvX7s8sqm32Rhxe9iPoMrkjHfMbwZZf6rDiRlhUjsipSFEiUEloNAsrqwnLQpLiFACGQKAkRiM0VTJCchwBBQx9B7dVjYqEWwEAKPKAJUFx5RxVOxCYEYAkRiY1jQFSFACBAChAAhQAgQAoRAhiBAJDZDFEViEgKEACFACBAChAAhQAjEECASG8OCrggBQoAQIAQIAUKAECAEMgQBIrEZoigSkxAgBAgBQoAQIAQIAUIghgCR2BgWdEUIEAKEACFACBAChAAhkCEIEInNEEWRmIQAIUAIEAKEACFACBACMQSIxMawoCtCgBAgBAgBQoAQIAQIgQxBgEhshiiKxCQECAFCgBAgBAgBQoAQiCFAJDaGBV0RAoQAIUAIEAKEACFACGQIAkRiM0RRJCYhQAgQAoQAIUAIEAKEQAwBIrExLOiKECAECAFCgBAgBAgBQiBDECASmyGKIjEJAUKAECAECAFCgBAgBGIIEImNYUFXhAAhQAgQAoQAIUAIEAIZggCR2AxRFIlJCBAChAAhQAgQAoQAIRBDgEhsDAu6ioaheCVIXgXhqDMc0bACryTBq4ThEsQ5YspPVUxH6rFNzsVToZtQU45nCTgcRKkkQSoNYtjyKu230SF0+6ux0ytDYnnKRaiLTKY9m/QlOI/x9kPI8ZSjeXAmfcmuaEpRDAfLIUlelAZvArDer2jmlHhGIDCPie5jyJefgL9vOiMkJiEJAUJgeQikmcROINLwBLzSZuxr/gZzy5ONYq82AmtEYtXJQXzZd8cgrAuY7PkNCuXNeDJ4AwtLxSAlEjuPycFr6LuzDDoe/QFthx+DLGWjoOI1BFqa4FdOo/vuvIvkjKQ3otjrgW9fM/rnlkzTXdJP4fFcL/zFPuQrXyBzunorabXep1BuW5B1oAubTOvhQQa34+oggvs2Iqe6DeNrULXWg/ZIBkLgUUIgvSR2/is0bPVos1FyeQijy0Ry4eYneLXyCexuiMCNEiwzC4ouIrAGJHa+z48d8grM7CYlsTPo85dAlgqghJc6azqHoeBT8EgbUFQfxmRKneY0ehuKjRnbpxEaXaZlLwyi7dVKlOxuRCSlpFRMdx/FRulxNPROidpf59dW0mq9X4r4q62LeUz2fYD6qhLkypJuA1IOdlb9Ht3Ds0IBZjEaOQ+lbAtkNrPP/rzFqPJ3YTiakpEJaS3hcs3a8XlMDlzE6dpfoyg3S5h1dyrDLIbbXkEhwzFutWUe460HkCU/iebBB04R6RkhQAg8RAikl8QiirFwADWVtTjbe3/pS8EGwCu/dP0QaTIdRVkDErtiOk5KYicRVgogLYfELlyHf3sWpI1H0T2dOrlQx77AWzXP4fDZr1IkvgmUm4LO4mNPIKxsg7SlHpEHqcscn8Za3FlJq/V+aTKtri4MNw7vdpTXvApFeRU15ds19xy52I8+Y1ZeHQpin4cR1yJU1h6HcvwgSvMYqfNhb6BvFVa41qAdV++jt/kAChgplfOw58BRNARa8EFk1KEfmcdEz+vYxgcCcSQWUEdCqPD4UBYcdIi7NDuhWIQAIbA+EUgziU1vIVeM4KRXzIcnNSdCxDqXsy/o/p7yY3j+UBmy43xiZzHcdQLlWiebhbzyk+gZM5bnNSLpxc9PnUegYqs+q+TdjSPtPyBq+jTyGSn2y/wdByy+jwxeFdHhS6iv0Dt8SdqKms47UO9+jkbzmQzvzhdig6eEJPYmgqVeYyaM51+O4DCTexbDHfUo08ojw1v0MkL9zjOW6kAAxZKErKp2TKyVFTjpLJEsBvHOrumEWaqEeuKJJcLFwDN/P5SXd8Or6bFDx3hPPS6cfhp5GjnZiorAVYwPteFIUQ4kieF7DO3mLOQ87vacREWhLzZLWf0ueifZFLOVtMbfq8NBlMkSPJWtGNdEVjHbfQQbpFUkM6noIjqBe1PClLn6I1r3b4YkFaOhlzt3TOKbzy6hTyu3jr9JbLf70efqY5NAR5qOPcg/cBQva9hze+f6o6ocnAAAIABJREFUXbnf5O34LIZCB5DDXHL2BxAeFWelrXKpiA6FsD+HueP8Ej/Pts7EsubiWwSKs9e2XlrFpntCgBBYEQTSRGIdSIFldKxLfxfhhnIU8A0w2lKZhXywgJyA8KW0uF++scPAQ72PvtBvhI6PkRIZ3m2voXvCtbVfETAzPlFbJ8w3WcnwlbyC06dfQYlP37ykb+xSMffd29jryUZhzbvoansDZT5PzB/N1GM2Cirr0cTjeyoRGokiOvYNPg9UaqQ4uzKAK+G/om9sykZi1buXcaQwG5LvCdSePoeW0368/80M8KAXza++iVDnFXR/qGCPR4I5o8XzdrTDWYz1dSFQmQtJykVloBPh8DcYiy4Ym8qyUVh9BpcunUF1YTbkba+jZ0IgHpqiOUnKRnHg2xRmfDjp4qSZ/ToRiQVMhk+grIATOSO8txjVcTO3DnVOrCeO5QYw0Y6qrA0oab4Rk5ljxUiEg57YIELfbOeGS0wWeedRtA5MQIXwrLAKp1r8qCliA4dseL15KFUCaFLK4JMkeCpCGNEmhVU86D2HVxv/iM6eLnyo7NVcNYr9vZhLQmLBZ8WzX0TnFEtsFgOBn0GS9sDfZ928tk50odnRODpr8i0k1qEl4XVzc52L20gSHZk63oCdtR9hQCDIsdxiOtNcGJg9OdpRettxdbwN1TkypPxj6LbVs5h02lV0AMGKXMiFx9E1ekXfiGqT8T66a7dC2tqAXmu1tSRHt4QAIZDZCKSJxE5hoPMCgsEggv4qFLg2fryRzEdpzTEoioLjh0r1WZqcQ2gfN1qcmQF0ng/inFKKLDbTVargHEtb+7uAzgFjDkn9ER0vsk01EuTcEhxgS2+KAuX4IVT8+iz6icMuzjp5R2meTnAbrZWbIJn+ZQ8w2PykhrdOYu+gs2YrpKwDaNV0ZyxVe57T73nHaS63Mz/UPRpxrGof02Szz9JwgsEHK5OI1O2EJP0Eh9nsq2uJDFmlnyEwMBsbCNk6OJ6AkzvBGNqrciEZJJvN/o2EKuGRNqGy9TaPaPxa5bS8tt2qmBm4jPOaDb+JqgK2POxEYnm6HuSWvmDYM19O3oLq9hEDA6POnVNQmiVByiqFco7XkSDOdw7ASt2YSOrNZpRIueD4a2Im1VMyXGL1uqZTnweFSWK3QQmzeeoFTLQf1OqzSVo58cw6iHanAed4KyrZsnpxAAMqx4XbhfWe+7dy0mrYwyYF4Vmr1awTXUwOIvxRHUp9Hvgqghh09XdVMR1+DfmSjJyaDpdZ/yQ64jo2Sb7NQAGsRTvOfFifg0fyoqShDT3t7yMYfA+tl7/GmA2PGQwGK+GTi6H0jEPl7ZWtjhvtTMKyOpWfnhEChECmIZAmEisUmzeWtoaFheGdndh5T6G34XFIUg7KQ0NCQoCd4IivFzDR+RJyWMNeeQ7fOc4siOHpOikCvFPgJJbfC0uYcTqZj6Bus2yQDJY6JxY7UBeZciCS/D0nIk46toThm0wcyQgvkYro2FW8rc2sGhu1Etohi+dAYh3Ku9Dnx/Y49wmep0VO/jilX6d6wCM6patirrcR29hgzbphksvMdcaTcfnV9WfZzGbDyiIDz0Owg3hcnMpjfxZnO5p89jAxsWcxdv0dVLLlYq1sFplMW+O2xDesGe4Dhm0md/VIJIM1TyZdOnTB8zRm2XOfR+uw+1ku6uhFvKitRFQi6HYkWjId2XQcQ9rxKmF4Ln862nFeD8UVCv1aznsagWuxvRXqyEd4JicL+Ue6MMHGJbzMtr6G602Uz7GU9JAQIAQyHIF1QGKdiIyOqr3TE9Hmy3A71/mZnKLM6/yadwqcEDl0ZHE6GQ2hnG+uEJey+WYpW3zeuXDi4aR7Sxieh62jYliKPoC8E1wGibXJK7i22PLnM4uWpfmUVOxEAnhES/nNxy5n+Fp1xsO7/C6JxCbFxak89mdxtqPJZw+D6C101P1CX53hNpUSieWuEhI0f19txjkVf1gHGUzsVkoXxoxny2nUGScVyIVH0DFqPeqN+YJfRn3pZkh89tGUzXKRTEdO7y1JxN0mDO+MmV2/eopuz/W3PK0dqAmGcZNNRkRH0fuRxT0I9xFWdkASV+y47dvqJtcbkdg4ndINIfAQIpDBJJY3ftRQpc0ueaeQKonlHd1OBa3hMMLm31d6Z8Tfm50M71wWQWJtafDSRjHacQSFsu6n2T04jB7xtAHXeDw+nwESZiWd4jg9M5KY723AVskgTTzZlH4T2a4dIy1Jq254Pm7P+XvL77omsdw9SN6B6qZuDN4zfB5TJbHqLYQqNkLa+jtcufgish39YS2AOK4O8TArqws9lyhGWquRI3mwpe6vEA+FMn3B5cdwuI1thkzwz8lOxWfidYJkzFcJwzvbrxtZdXuu5+WcFmC4Rxg65BvbPHtq8Q53LeOuNAVV8J+/jIEZ7jZi6E1OwxF2JiB0QQgQAusRgQwmsTQTm3aDshKi2W7UbpAgCcvIcR2Sw/s4mWwdoZ0UxKWnRbaE4TJZN2mwQ83LfJBMf0oLKbXlHSdZGtwJmAthJ2rYcnf+awgv4ogtZ7caLp+l/Obj9MzE6psmLa47NqwsMnAdCHawEu4E/IQB0wWA55sqiTU3cxWjsnIHpIQuKBxYNxLF3ltw4FHi5OIPheVtPggUXiW8tOEPYKYXgTI2A5sCgWWJc5ncdOSURyKhEoZ3xsxel/UM3J7rb3k7zn2ZuVDx9ZmnYW4447P05q84mTGFSN2OhF8e5LnQLyFACGQ2AuknsdruZ74ZwwrO4ho/8wij/a0OX18hn1grusu+5x0h74T5zJbrxi7rxi+LBLaO0E4KeOcU+4ytNQyfkdmOI93jsY1dVlnBO8NluBPAKE9KG7tYWY0lTsmHEv81x41UFkSMW14mYxNaXCBr+Y2XtvIaz43jhGKb6+ISs99oxDsL2/3XY19DS6qnZLg41Wv7M7uu48PY3vNBQsokFuDkmpEdkwzbURCerKEuNCmMs2MlGZuUHuiHS02jz/8E5EV9+TCJjmw6FiBwuly1dtz4OIG0AfopFIYwc1+hYVsWJL5J1ElGXifMlR4eyNCptiGQP6NfQoAQeBgRSD+J1T77x86A3IQ9VUehKK/gQNlxfKZ9hjO+0+KA2jov/uLBX1G3xQNJ3oLSQ+xw8OOoPfAkqt43NoCZn/xkpxPswtPaAeKKlmdVWS1al/s1JC7Ho/LLOwVOYhHrYH2lx9HUdBylliO29KOX2BFcR9HS8Tl6OkM409qnEzpbx+lA0PgO9LxKNLR8jMjYjOWILRUz106giPne8iO2Au/gs5tD+skI0k+wP9COLuOILfPjBba8rUrku6I9yKv8HVo+iGBM5Yeo6y4KHV3vokY7YqseEZeZVnPJl315af/rxmdn30R7go06AP/SlwzfngM4rtn1r1D72cjiZ//AT2/IQl7pQRxnp3PUPouSqg+cv5jndIamDSurnpLh4lSv7c/s9dwSZqIDNeyopbxnEei4bByxlerGLkO/sz1QNrFj4JxOlLDaALtfTV0wovkTFJYf0vWk6d34epfvKTT3G+fE8s2MnhLUvtNinMrCT54QTmeJK04SHdl0HBfZfrOa7fjMVTQUbdDa+bLjv0dLy2n8tqIQMvsSXsNV98Ehb6+sJFbDL0sYFNiLR08IAULg4UAg/SRWO5ieH2bONtuwc2CPo1M7AN/SaRkY2js3Du48JnvfRfVORoqNjTveHXg2dCM2ixQdQST4mv2c2MKDCA0mOjSb50G/JgK8UzBJLNuMfR/XAsZh9exDBa1n8YpX/Ews+9jBSVSaB9T7UHi4DaPMPc3WcVrJEct5En1NlcZGHnaqwX0LiWVhrHnko4odNTV2BY3l7CMKzMaq8Nua3bHPyNryNksZu5i5jib+EQbz/M0p9IdeRpF2lnEW8srq0WEexh+LGrtSER3twds1e2OfEvWWoCGS5FO20R/QfoR9GIDb9eM40nmb1R6H8gvLxaJuDCHUya9wtro4lpbkQ+GzFzDoeMSccRSVeexZqnpKhItTvbY/s9dza5goxnpOGh/OyMHO6mOo2e1N8XQCrhEjTXM2nT9P8LtaulDvIOx/Hnu0T6ryjYhs8NOAj/vZ2brGP2673DbifmP+5Dx47DeBjniaVsIXi2y5YpvKVqsdd6pD1nORLeKxW95eWcqkDjZjr2w5Rs4hOj0iBAiBzEdgBUhs5oNCJSAEHmYE9CX3AtR233v4ijndhdqNsvABhYeviFSiRAgYZ1nnvIROp7OHE0Wld4QAIZBxCBCJzTiVkcCEwDIRMJaKsxx9zZeZ9lpGV+8hUr8HsrQDSvj+WkpCea8VApov7QbkK1+Af8R3rUShfAkBQmDlESASu/IYUw6EwDpDwPAz9uxGwzXj63frTMJFi6PeR2/zARTIMnKe+cj4jO2iU6EIGY1AFKOtVfCJZ8lmdHlIeEKAEEiGAJHYZAjRe0KAEFj/CGgzcNnwlf0e1+jrfetfXyQhIUAIEAJpQIBIbBpApCQIAUJgrRGIYqz3Ooaj5vaotRaI8icECAFCgBBYYQSIxK4wwJQ8IUAIEAKEACFACBAChED6ESASm35MKUVCgBAgBAgBQoAQIAQIgRVGgEjsCgNMyRMChAAhQAgQAoQAIUAIpB8BIrHpx5RSJAQIAUKAECAECAFCgBBYYQSIxK4wwJQ8IUAIEAKEACFACBAChED6ESASm35MKUVCgBAgBAgBQoAQIAQIgRVGgEjsCgNMyRMChAAhQAgQAoQAIUAIpB8BIrHpx5RSJAQIAUKAECAECAFCgBBYYQSIxK4wwJQ8IUAIEAKEACFACBAChED6ESASm35MKUVCgBAgBAgBQoAQIAQIgRVGgEjsCgNMyRMChAAhQAgQAoQAIUAIpB8BIrHpx5RSJAQIAUKAECAECAFCgBBYYQSIxK4wwJQ8IUAIEAKEACFACBAChED6ESASm35MKUVCgBAgBAgBQoAQIAQIgRVGgEjsCgNMyRMChAAhQAgQAoQAIUAIpB8BIrHpxzRzU4yGoXglSF4F4WjmFmPVJE8FL/U+es++gJ1eGZKUhe3+61hYloAqpiP12Cbn4qnQTahLSSsVuVNKdwKRul2Qfc8gNDyXUoylBZrHePsh5HjK0Tw4s7QkMi1WdAjd/mrDbiRIchHqIpOZVgqSd0kI3ESw1AtJKkdwmDXE1vslJeoQKcW2ZDiIUkmCVBrEsEMq9IgQcEZgHhPdx5AvPwF/37RzkDQ8TTOJnUCk4Ql4pc3Y1/wNVrJbS0PZKQkrAkslN+okBr/8BneWxKisQmTQfVK8VEyHX0O+5EFu+etoDragtff+Mgu4gMme36BQ3owngzeWRoiTyp2qiHfRoxRB9v0awcHZVCMtPtxcL/zFPuQrX2DlmsLFi7ViMaI/oO3wY5ClbBRUvIZASxP8yml0351fsSzjEp7+KxqKcyD5nkJz/yOBeFzx1/7GSlqt9+mS0KUtsbbnq0ZiGaluRLHXA9++ZvTPPWodipteM5hXqYMI7tuInOo2jK+QOtNLYue/QsNWDyRJglwewqibTlJ8vnDzE7xa+QR2N0SwSs13ipI9pMGWQm7mr8O/I/vRnL1Nitc4OmvyIUl74O9bRzOISeVeT/atYrr7KDZKj6Ohd2o9CbZCssxhKPgUPNIGFNWHMblCDX8i4ed7G7CVzbxJOSgPDSUKuvrvFgbR9molSnY3IvLQdgpW0mq9X0HYndrzVSOx0+htKNb4gyQ/jdDochU8i5ttr6Oy5BdoiDi1HfOY7PsA9VUlyJWZves2v7Pq9+geFgflsxiNnIdStgWyFoatVhajyt+F4egqVNA15FXq5Hf47PRRPF2Uq5fddTZeRXT4ExwuzBZWEJidzmO89QCy5CfRPPhgRQw3vSQWUYyFA6iprMXZ3vtLW+oUihkNK/BKErxKGLS6LQCzUpdLITdLibNS8q92uknLvoqdz2LKnlTuxSS20mEnEFa2QdpSj8iDVegwVro4ydJfuA7/9ixIG4+ie3qNyquOIPzWS6g8fA69k8slEskKvMj3GWW7iyybGdzabljvzYDpv3DCd9VILKCOfYG3ap7D4bNfpWEAN4mwUgBJKoASdnLFMdyUvNtRXvMqFOVV1JRv1ziHXOxHnzETrA4Fsc/DiGsRKmuPQzl+EKV5WZAkH/YG+lZhxXkteNU8Jnubsb+AkdIs5O55FkcaAmj5IIIxh2ZJnbgCZRsLywYC3A1GN091JIQKjw9lwcFlc0Ing08ziXXKYunPiMQuHbslxbQ1YEbj+fNGfBR4GnnaaDUHRUfa9BEob9z46JT98pFadAhdDU/pceStKG+8Ihj/LIbbj6GI+YnKW1Fx7HnslsXBChvV/QkN5Vu10Z+c9xQae0b0CqDl6UH+gaN4uSjHVmG0cnO5uCywNmYs/Uuo4yNrOR9PtnxnLM3PYrjrBMq1RioLeeUn0TPGh1CsYr+L6p0s32wUPv88fpnt4kPMsRSx0XyNLXl7H8fh0LfQ52mjGA6WQ5IKcUB5QcfHLAPXKA/jRWnwZsxfzk1HWrQU5HbUV8wdwlzKVwfQvNcLKecQ2scHnH33EsrCyt+GI5ruspBX8RIO7fa6z+QbpC67phOxuZRZDHfUo0zTkQQ592m0DMwC6h30NP4ahZr/sT5bUm12hoYt76nHhdOGLTPbC1zF+BCXR4a36BjaLbMw7vbAdaL/qnc/R2OF3glKkgzvzheEwbyLzPFJQB0IoFiSkFXVjgnLO7oFwOuVm9/+zFU0FG2AvK0eEdsggNedfTj1kR8Vmv046Dx6Cx11v4i1d4dD6J8xem6n9qenGaXSBux54xxOV/A262kErt3GEG/nJKHdZIpMxVZNMiCS2BkMBysgS5tQ2XrbMIn76K7dCkmuMHxorZbi1qZxPIy2hLebYpvF2h/+/LHnUXf4cY3kSd7dONL+gzC5lCyPRG2aVd503VvbfYd0oxO4NyUM1NQf0bp/MySpGA293JVmEt98dgl9woDOJLbb/ehz3eQg1nlmZy8j1M9bMUOn+fuhvLwbXom35w4ypvlRcl6lIjoUwv4cGXLBcwiEbwt6dhAmOojQ/nxIvr0o//kme5+sfotAcfaKtWlpIrG8kvEpeYHMxJX5LsIN5SjgnYxWWayNPQBeacTKZF5zZS9gMnwCZQU+g/2zvGV4C3+F+o5biUGPk4luTARsHURMr3LBfrzR5EdtCTPSjagI3YIaHUPf5wFUMiKXXYnAlTDCfWOIYhrfBfbBIz+GmpaLaGv4BXzSFlS3MyKqYubaCRTJMnwlr+D0O8dR6mObngQSO9eHwF4f5MLDaOlqRUPZZoM0zQu2sQE7az/CgNCwmOXg9mMSQEtjtvANArs2QMp7FoGObnReCCB4lVEGFXPfvY29nmwU1ryLrrY3UObzxPx5pv+COjba9D2B2tOnDCxcSKw6iZtXP4Cyk41OH4fSegXhqzcxaaQhFx5E06U2NFXvgCwXQ+kZhwreqbCNPLtQ2/qdw2wED8PrQRIdMVCSyp1AXxyrrANoHY/iQaQeW6QNKPb3Ys624SQFWQySoWN4Gkop6zBcMGSyT7SjKmsDSppvmKP4hf4Adske5O0/jY4vOnDhzfdwVSMsU+htrkNjqAM93Reg7PFBMjcVCLIVVuFUix81RWzzTDa83jyUKgE0KWXwSRI8FSGMaJwliT2YBmdcPOhF86tvItR5Bd0fKtjjkcBndNxlFhNRMdt9BBukbBQHvjXLK4ZwulYnr+N87c+EJVHWFvqwTekSiDBbOn0PtSV5sSVRDfddULrH9WR5vbG1tfZceUeoz7wI7b511ku9j76QYg44mIvCzuozCI+Ky7X29O1PYvqz5yn0N+OtqGSzZp7n0DoukBMtQV53WP3ahso33sbp2icsOjc2K8o7UN3UhktNB1EoZ2ObcgUTzCZMjIT2x3yWjcKqE2g5XYMiJsMGL7w5ZVCaAoadG+2mJksqtspntHjZ9fuFPj+2SxLMgZ1BEiRHQpXIhjkeRlvi1p4L5SuorEdzk9FmeyoRGmED/FTySKVNE+2Il91iCZM9aCgr1Im0aafMpt4VVg14ucT0xGuXtLWsuAuYSGItMrBb3ldurnNxa+Gb5rJRWH0Gly6dQXVhNuRtr6Nngtkl16kEeedRtA5MONT3WBjT5s0+TZQpnbyKqXME7dVbIEnbcaSb9UuJ/s1gMFgJn7wTR7oG0KPNfFvxNQZZWxvQa62SiZJO8V2aSOwUBjovIBgMIuivQgEzLkewuVLyUVpzDIqi4PihUn3Eq83sGCWcGUDn+SDOKaXIYrMSpQrOsbS1vwvoHGCjGW6oHuSWvqClpdQ+iz25bJo/FxXBASKyKRqBGYxXTHOWg+urALXd97RgvAE1Z4pscRjx6EBNjoys/a26M/dsD5RNMjyVrRjHGNqrciHJZQj0s/nHBxhsflLrWHW3kQVMdL6EHGkz9rf+qJHe2bCCTXzmgTeo2S+ic8qlevEwpg1aSKzx3u6mcgedNVshaYSN2aKxlK11iA8w3vocPJIXe5sHtIqtDjZjL5udNvEykTQuOH68Ui9gov0gsvggQGsv2FKLZGDDbVrooKxJmnZvJbFuOmI+SUnkTqgvY8lNK3cYXbUFsQGF2RDz8vHyusnCy+9FSaBPq5/JMFRvNqNEykVV+5iBBMfIbYmQA8bLzQkhl20blDAbsHBZBNLKl/KzDqJ9gk2vJLKHZK3xbbRWsgHfzxAYmDJm2JPJzMvGdcvLkuCXdzjyFpS+8iaaWRvZ7Edd7XP4pf+quZdAHW9DNZtZySvDK6eaEAy2oNlfh9oDB+C/aswOGe1uMHgO/qrtkBLMDqljEXxgtskt5gBAyjuM9lFj5UK9j2v+X8InZSGv7FWcbjmH08ef1Np7uegErvHZzQTFi70y+phzCkqzJEhZpVDO8T4hiPOdA8ZqBvNf/AyfREYc2n+Or4yNtV36JkGrzrVBk2AT6i2EKjbGSDFvW8T2hz/bpCA8y9oko40T6rmt3YwVzPAbZHXUaqvWemXccx9JTlo14i5jk9ID+9AgkQ3PGnYp2JtTe87LZ7q4cN/VfNR0sgFQKnkkatNUzAxcxnnNnt5EVQHrw3nZ44CKDSJyS1GjKJoLwKFS5qsqxyYb2ESJlt4ZKKUbtUmXUuWMwR+CCJ6/jAEH21MnBxH+qA6lPg98FUEMuvq78hUqGTk1HcJAUZTVsAGT6EcxEqqEh/djZtvJMRTj8uu14FX4/9l735+qrrRvfP0B+815yQsSEnISXpgYQ8g3GDKBFxgbEjE2hmgbgk0nYGbM0ZkI7UTsZAo25TT3zDGpx5mnJ3c9aSu1nDj1tLfcfaQWOgFbzkzxUdLBVvrAVKZCUbmRB/Tg/nyz9l5r77V/nQOIAnKZ4NnnrF/X+qxr7/1Z17rWtQAxEdTqTqF38HOkUymc7+7HyJRbu3Rkx1JoCheJSZ58z7rHbh4jib1g6j0ju7gKn6tEYhVJpMJbBEJJswZO7eR9DMf3+G4ikLN9L9ngdcoHknIDclvWxEW0lIXASn6PPuNFpLZP1zkR8DzA5ItfGS/3+HrKAItDMWyzHsi8RVEPn7UuDCG2TQNTZmXOcb6PodhO8fIXN43RpoZtsSEsutv365Anj7y5BIl48A1i20NgZa/g/E1lBrwoZKtNYtTgx1LHdiI29JPwr1I2afn03SmOGz8ph1KHfIkaRFi2p+q0s0av3rvbUKxFxj3o06ZL7pzjxbnaw2uIVxeAba9EZUEI22PfwHTRd7ft/u6WRY6tYuVwyeLpreEXr5I/XViDQyhrPo+bfpZ4Xkl2Ct++F0GhZeH3yubUO17IlSenPshlQbfE/LuO7NRVvBcptfzxTAt2Hpl9n2l+9Su/SfwsnVXSlEuzr5IkKQm+l0vRQ7ugPpvByV1FYKEXcfqavRfCtD5rKDlyUVi2eRn5vK9Aa9/PdiVLvZL9DZw45qrIr1/OMTdxUkPhiRewtDB7ni1uHefty3tO0Vu/clLUvLrqlBG4iwE+mRTuA+b9q070ZMWcH+d6pt1bHom13ukuHJfbhiKe99LdV1cOPxzl88mzGcxnHFzVmV9lm8JaW/oKunOEDNQnL+M1voEpHEEqKOSf1FM50eDTZmFBN/mMbFN5t/rKJn7067eV368ueZ95N2d6n3tWRcaFTLesv9LiLdyvrM2m+i10HykHK38TA4Z1WeLt7pPUF/fvznZX+m0dkFhumfffwBX0u9lZCYz7he+eJa4Umk1YTt541gvC5+Zw30yeMouYTB9yLlnKm4DXO5FGI7deWg9E9/jfQrqR+5yqyz/mtXHzu9v3GyZPHnlzyZfKIu70d6CKy8GXDVPfmsv2k0I2T9u83LDL/1NZUrLwcgvjxs/9nedXf+P+btwn1q3Tar1uvVfLCwuYo/8+6Y4xyzNeRpVyxzxfpj2I1C0ZPM9dt/u7+wUvx1Z5mDlkUftpXpvPADluIl2fQn97jekvXfU7pEYkcXL5G4txDHppeJ8vLvlz6oPfRhHVB07qr5A9UGa1z9I67HSfUHN4r8Xyt7H54nc4nf4KY37EXrqUaGXYe+zPSF/5vz6uKrJ2t47J330+rX65V78eYrzzgOHWsLftjG0FS8kVthAq4tcsS7FPzf4/5dEX/0LyV79+qWPud/+5yjjuLVGv5zf388Z9H/Byy9FVVUZ+Q0o94Va8n0ycg/xhc+rwXe/zxg9fT/9cmCy3DTkcvp/uvroyeWTh6T54G8WCfnfVCWHx7DqDmIhUoFW1o1euKFjZ+Zh9iZPcBcpyAbMSnRd+cjp+y9NPZ222BVp5b9pZ/OvyPt/MEkG/i1ShEwWobO1CZnwWOhYwNfypyz1LWqOlmyAvLfFWnu9GpVJf3L+bLT7u/88giZWA5SICjwvbM1re8wDzuTkcN6IfkZP4F6Im+ikymYzxgKqnAAAgAElEQVT9x31C3eWNKtRJjGxT+JEq5a/yG8qnvGc0PHnkzaWSIe4jeB7HjQ1G5TjSfcuuuyaKbqXdTOYaxmd/eEZJbJ7xMizSq0Vi5dgqDzOPzjlH05fE8izc1/L8783NbyUt6L6dhbSQGP7GA/8Xdwf99Mpu2/swd8kn9chXH9zuBFlM9rYb/pPcB25gbEL4hyk65yOzs7eADG9l+Tu6M/h9z/6ETGe72DHNJ2Zl2Nvq9jvVkZ3MoLOtQWxY4hvi9qH1vUFMepZNpU7ke4Zmcbu7BSUshLJX/jcmHd498p6TZN776b/C5tdB5bc8+qLk9Ln065c65k+PxC5PV1UZzYmqueObTwQu4zIP46dY/Bwdz6nDy3QnsAiUC8fltuEQ0P3F21dHDtmWJQtPlbqm3GtGoaDfHTW6vtg6ba84mVn0O1+inVtgtedw/JK6qc1VBf/qJ6fjtzz9dFfpKOtO9K/L+3wzywX9LlK9ExsjQU6cxCqFEf+1BCxUh7YPusQkVbpv7EBz4rxw++SFhb54LOVmi4/7/zNIYuXyT8DyyuMi9iyX97wgfG4O983kKSM3p6hLcgpo9/vQyjeCKQ9d500lnMCDYqu621eqti49eYIfZtJX0JBnbgBtRU7ZrDrhI5en73Zu88qNn5TjaboT5JM7z3jxjsx9jWh5AUqefx47tZBy6IC7f+7v7oe53DSh9D8fhsZYepfETHylvy7Xtf+Dfxm7tu373qlXXtmc6bxGV56FXPpgSmD9zx/qDWEwy59WjrX7xarK7HN6m7w/yt9CxrO73mot4IJbTD7HWel36rtDn79TJjHc8wE6jOgchaiO/d11iISLpPi2puxgtjarqBnlcziXz5+af4nX+fQlZzV+/XKOuakT6rNL9kOMo+fZ4tZxLoDP2DvKcTl4hIGl6qpTRqOLcjPXnl8hUl0Y4A8LIKcO++Dhh69Ddt66q9xy28g5Rj59VfN7ZOGJPngbZYJ+Vyv0ufZrY34YSb7BeCkEllcpcVTec0/XncC9wmn30/vcs9P4CsH9vtdQ6HO6pKOc7J9n1VJOVtUJsHAjC1yxVNtf/vXqk1jhGM98fbT8FdQBjtIHK9yM3CCkpHluJJGmz36FaFUBmOVQ7ShEX3IhIBXTUjaf8XLf4J4yimP4vk6MOawz3IImXvbW+IhgyJbvotyQY2+gcojsbt+RKL5IIiD9bq2wKW5CwfOLPhq7TMVmHN/AzNIx35Yr36Ykq25rk4Lsm71L2bSouDd2qQ8AdwddLxApv9WG+6W6BLmlI7/feEGW34no10NIHeCzb7kr2a0f7u9eWcyXt9L/6W4c5ht1LJ1z9dcYS5VUuNINfeD+0r244ogJKR/GMuqFVzbvc8edJ5c+uOTw3AeSsPvonCWz3yEu95CJcp/wMOoS18VmJVdbeb/KiYtP22pZST482EurSw4fWn0c6YN8g6aMrKFWzK91PBxJoJZHIcm5ScZdLs93Sd6szZeu/PoEetob8eKet/ClZ+On+97hZV1jLu4FK0JF0MYu1RLoeSb5kCdHHnd6Pl11yWh0WZJrThpsMuxCA0AuHfbBw6PH7nuYt+Aut8w2vEIqv8hNcXxDpHsjkZ8svKgbT1ndAkaTL4BZm4Tl77k+5SRT3Sg3h5HEfmjLOolUYGI9K+VzVIZG8xvTHHI9NV4F6OKZLCOrmFJJH1spv5+schzs1S4zlxhTX07oV8/yflt9EivNzGwr9jafQDT6Oo42dOBz48hE/4HzvkxEJ+QGHL7z9hgPRtyBtqMvofkTfoqMvJH4C1AEK+44hsYqHnKrCLviV1f4AlgegM9Ubs8DzGe8HA9j3ntxs7JfIBI/h0+HJqFD+ultRV37OfQOfoW+9EfoHuF+hPIhYYYe6e0/j7aaImeILem/F96P9q7LGBzsRfr9zzDCd5R62vcZAfniYduM0Emdpw6j0ohxK17qc1fx4cmzuDRwBb1GCB1pXZRhUXj4rxPo6v0Kg31pvN89YuiSZbUNq2FzchAw9wuSv9pFUGhjybv3C3S1PgdN243YEN8xL3V6NUksfyiZO9NZoNw5xss48rVIhIrKYrrnGEryhthSHmKu8ZKymP3vw4W23ab/tIdIiXH1xBjUMXe1CyfPfoaBwctmiDK2E9HMHRHVQoTe6hchtqzJkVeXvc8dd57c+uDUPLFDm/0Ch5M96BchtsxA6/8TILP/EcTWsiUPR3X4j+LY2b+gx2+zCd9UU1qOvUdPIJ78CDyyQPLUK9jLw9Ypm1v55p/S0jocbT+FZFcKqa4kTrXsRZjv6vbZYW3FwQzvRXNHFNG236Kh7TLuGJ2W9zCDZoQrs6MEpFIyegxX9mkMRmtN32XeNg8Uz3eUtx1FQ8snmHBPcJ2ABnybxVCsxgjAXlb/KjqM+n6DuuZPzRMixQTWip7iqMXv/nKNuZTZCLH1Ofq7jpshtqS12qXPRvWe3+TLXJlEOPLICCxL1VWXjEajOsyoLUHhxGTHc+mwHx4+z3OH7Lxed7nltiFl8/uUrksawnuPosN45/8KbZ/fNjN7ZOE/++Bt5JabQBm0snoc43rM+UhdKz4xTgPjff0FqhqPmXpktCVO71KPXJbRIBxL51LnFX13dGcRM4N/RLUm33Pn0GqE2JLxi/3G1FGB88tT41W82Vlcj9dBU6KKJP/0K+MdmjuqiBwH5fnPqzPwKwheLXD2dNnfVp/EGg7rMng4nyXyOLAd6DMCxvsPnPdlIvuhBmkXZurinfhNmp8ZL28kDcW/+IUdI7G4Fi2+fl6yTvoMRGBFJFbH/MhZK3C4EUGAN8CD558+rASer8Hxngkz5hwPvSMPT9Cq8atDe4xQaraPHHeg/xtOR3aKeIA8/u/rZuge34eYu0c6Ho7+FUeM00Z4kOnf48N3jqBI7DDWJy7iFWOyw3XKHWOQB+3+X4hY6WFUHb8k/P0WMXv9PdFXHry8C12v/yLYiuhDYrmFav5mWvji8ofry4j1yrjGUqdXl8TyiUNeuX3Ha1yQ1hIckKetGK4FPPpHjsMOAq3CfJxUWQpR+auD2JvLEguxUdMK7/MQE93HFb2qhXWggX4bg6fFARv8OfCn3ymHaHifPd7njjcPkEsfnHqnT13BaeOADv7Ma8afWp+HZujcnWCZnVWIb9x/dRDvte5Tnmt1iA/5bCab/ydSxxtcsbfDqGr6D6SVDW/z3P+73hVfs3gHmqKfOIK42+IoB5IYS4YlqGn/QhxYIl9W4pnsWFJ06a4RJ/Y/0GTdT7xMGFW/uYCxwCDxthR+V/rsNXzYUqvECrXrM32KgyyTfveXz5jPf4e0DOqvbUdD7Av7eFG/54/nN4lPEInlBH85uuojIwdGtGtZjf3AMn4L0mE/PHye557++ZVbThuBgpoJ2X+hp50fACDf+XvQ3veT+e7wyMKL+OAtm9DvYfjD36HGik3P3yWvIj1mHo6SSbwiwnJKXeYTxzj+W41aI9uU8jg+Xfou2zU+7+Nm+g+m375BCE+i1zpIJWBMHeXVL/yd+DR4lWiT+9m/d1zBxv2eVGWT13IcnCTWXLEMuidl2ZV/PgESu3JhllfS70ZaXg2Ue30gYJKJHEuX60NMkuJJICAnTjmWmkxfMjv27JMQg+p8FhAQy8fWhOdZ6FNQH3TMDZzAFiUWbVBO+p0QWDsERBx4ZVVotWUhErvaiFJ9y0RA+i09uZnaMgWi7E8RAcvvPdcxq2IpzTo84ynKR009SQSymBr6b0f4LfNAG7lUKz4DgtN7JDP87UvFaXKe1GfqBys274o2AD5TUFBn1jMCRgzfImUz8OoLSyR29TGlGvMgoE9cxp9Pd6Fn4GsMGCekaAFnneepiJI3HgL6j+j58ztI9fQjM/AJYkbMRekTHNQdcVRx6HnEr+c6ZCCoPP2+PhGQy49yKTfo07k8GdgXfRb//jePa/ls/+PuFJ2Hq6ExERrw2e4u9W7DIpDFZHczwupprE+gLxuYxD4BNKjKp4CAjgfDCey2fJS4/97biq/QUxCBmlg7BB5cQ2K3PMyC+6f9Cictn+C1E4taJgQ2BgI6Hg6fRjXbhobE1RwHVmyM3pCUhMDjIkAk9nERpPKEACFACBAChMDTQkCfwvDVCYjz+Z5Wq9QOIbAuESASuy6HhYQiBAgBQoAQIAQIAUKAEMiFAJHYXOhQGiFACBAChAAhQAgQAoTAukSASOy6HBYSihAgBAgBQoAQIAQIAUIgFwJEYnOhQ2mEACFACBAChAAhQAgQAusSASKx63JYSChCgBAgBAgBQoAQIAQIgVwIEInNhQ6lEQKEACFACBAChAAhQAisSwSIxK7LYSGhCAFCgBAgBAgBQoAQIARyIUAkNhc6lEYIEAKEACFACBAChAAhsC4RIBK7LoeFhCIECAFCgBAgBAgBQoAQyIUAkdhc6FAaIUAIEAKEACFACBAChMC6RIBI7LocFhKKECAECAFCgBAgBAgBQiAXAkRic6FDaYQAIUAIEAKEACFACBAC6xIBIrHrcljWSKjFb5HYWQjGmPgrQOneY0gM3EL2qYq0iOmeYygJNaJzbH6ZLS9idrQHpxoroDGG4mjGlj17CwOJFtQUa2b/imvR8uE1zOpKE9kf0Rt7GWUax6AENS3nMDy7qGR4EpcrlXkcqfpiZbzkuDGw4igy2WkMtO+AVpvAyEO1k0+iD1QnIUAIEAKEACHwdBEgEvt08V7frWUziBYzsMIIkle+Ql/6FCKVhWDabsSGZpYo+yJmx65j5OfHoL0Ph5GoDaM8+jXmltiqme0uht5pFATUJHQOEjvXj7bttTgcO4OuzrfRXFMCxrajpec2TIo3g6HYbmihPWj7+EsM/FcUe0MaSlouYTqIA+qzGPvHDfwclJ5X/seR+T5G+y4glUrZf2daUaMxhJrSuK0D+q0UDoTUPuYViDIQAoQAIUAIEAIbAgEisRtimJ6SkJLEGlY83qaOB0MnsZ0xFLb24X5eMeYxkqiDxioRzczmze2fQcfcwAlsYXsQH87forOOexhor0ck0Y/x/g4Uuy2xeIB7d+cEYQX0sU7s0xi0xjQmeUX3+9BayFDQ3AOTsk+hp7kUrOBV9Mw8cjbFv0nLtYWXN0v+Xx5TZkcDErstaEr/aPZT/ze6D2+Dtq8TYysm2o5G6AshQAgQAoQAIbAuEFhlEjuDofh+FLNtONB5Aw/XRRdJiCUj4CGxACZSqOfuBfUpTOStaBaZaCXYY5HYGWSi1WDbT2LowcpZVzYT9SGxrg64+yv6altvRX+0Q0hP+rgUuMu7ql/u1xXJ7GjkLgbaKsFCEaRvS0t4FrfTEYS0JqQm5G+OQvSFECAECAFCgBDYkAisLoldvIZ4Rcjw0bOsW48By6Pxz/BGZD+ejw/Bh0IYlsLsRD8SzbUGYeG+nFrpPrS6/RwfQ4ZNVdRDyqRlrwA7Et9icSKFBr5UHenGtAGMjoWBdhSxMBpSvejy+Gc2msQpewv98YPmMr9WgcbTVzAVxE8ffYvEjoIlWn6DR2dZhHBHAiPc0Cr1t/o0hrkPqeHWUARtdxI33YZYSe4t/2GF6Lv8ancdT+PmfFCH7T6sSGa7OMDdJbZoliuBTNJHk6hlpWjumZI/0SchQAgQAoQAIbDhEVhdEosspjJJtEba8OHwPWvZdqUo5X2pz/0dsepCsOJaNMc/QKrzL3i9fjs0sgSvDHIHiZ3F2MD7aKkqhFbVgf47i4AgmKzwNfTd56RsAaPJF8DYXiRG7mFqpB/JSCkYK0Uk2YdM5gamsnP4PnkAIe05tHZdxqX4ywg7/FBdos70oLmgCHWdPzyW/uTVHT4FMsid6iqRxe3uFpSwQlS1nMHHp15GWKtFdHDaK0t2CiNfJREplD7EGWRGppCF8KvVdqLl7CV8cfZVVGmFqI5ewUweHrsymSV+csKhuBLIpIUBtBWFUBG/FjAZlBnpkxAgBAgBQoAQ2DgIrDKJXd2O536pP8JMz6soYNtwuPvfNsl4eA3x6gKwijiG/c23qyvks1SbJLGqdTF8EJ035faqOQzHawVp5VEDfkJ3ZCvY1igyC5yh+bgTzPSitURDweFuc3PUwiCiWzXFmusEUB/vRN0qWA1z6w5vcwE3ky9CYxVo7fvZFkK/jZ6W7WLHfyGqY38P3lwm8VJ9Yg0Sbm+sgv4j0k1bwEK/Rfd0boVcscyG9H6uBKJbq2TdtkGiK0KAECAECAFCYO0RWCUS6xPqx9eH8g4y8UZUyhBHBlnSUFzzO6fl1m+p1iJWxahPjfO1X0ymD0Fj5WjtMxe3DTj175CsLSQSuxLdkqTMiE7Qj0ud/4EmHp0g3IjkCN+oJa193H1gDPriEGLbNGUjlJfELg7FsI0Vojb5nZhoCF3ZFsOQD6czidzjbAwzO56XEM59jWh5CKz8LWTmpIl0AROXXkeVtg0Np97HqYZtYNpzeK1XmSSpuEq8FBJrtmu6X5geCHyz294l+QmvTGYhUIArgZkqMPe9J9UO0TUhQAgQAoQAIbBxEFglEquE+kk0o5ITTt8XpiS75ahvfRPRaBQdx+pNX8mSY+iRlqr5UfSdT+GjaD0KGENBfRQfWWGELqBv1Ny1/uhmEru5j2bd2/h6csEgtrNDb2OXVoTaxDBtLFuuHnpImY7s2IdoCDF7d7uwNBrRCgyrqSC0RltuEisnGkr8UjkZUYifKqaXxEqd8alD1sXkxMauKTchFC4OLrcGfeICDoZDKDly0QxPNdOPdk50S36PPr/oBB68sphINYI55PH7zZZTvVqJzGZ5ObnwcSUwMhCJVXGma0KAECAECIFnA4FVIrEKGNKKmpPEig0/RrH7GI7vMQLLN6ZvKRUBuV/qPKu0nHGCE0bl88+hVCvGrvbPMZGV1jVHlfQlFwIeUsaNrz+gs67IXg6Xy+MVb+PK5ddQaPjDygMJ3CRWErhC1EQ/RSaTsf+ujjsPGRByeUnsAqZGvrHLqXVY199gZIpPYux/wbrDiXkKTeEQwk0pjFl6wmVtcln2pRU1YFOUBy/ZX5VU+/1my6leLV9mWTqHK4GRxSSxq7HZUrZIn4QAIUAIEAKEwFojsA5IbDBZDX6pC9iy/8Kl489BK67F0WgUxxt3mFEKwr9E4vrjbyxb68F56u17SJlCYq0wU3IzVy0ikZ2KPyyX1k1iZfQCdXk9T6+MSVAJ3BOaPKU8yYG6kx1FqqkULBxBynEamFt2XqUkoAHy+OBltqv2VxLh/C4Sy5dZdFv4HcsDDjxgCLcPO3SYJwf9QAgQAoQAIUAIbDgENjCJfYhbqYMIsR1oH5C7xxcxe/1dNIQ1/7BIG254nrLAPqTMPPGJOfB8NJLADrGUbx8MwGX1IYLT3Yio7gj5umQcOKCSwHwF/NP9CeE8xlIRhFkpmlKj9nG0RhXSEluMfZ2jwn93FkOxGjBWi/iw3NymtOeDF0R/LUIpLdcr3tiVS2Yui9zgGORKAMBwAVH9kpU+0CUhQAgQAoQAIbBBEdjAJPYW0o0lYEXtGDB2xssRuIeBtgowprosyDT6zImAJGXWsbOnzaNZtRq090/ZESBEhAHGtiLS/ZNS5SKmu3+LEAuhLPI2uj4dwpQuQk6xrahrP4feQX6c7UfoNjaKKUXlpdiY5yTHMnHpn14Sq2P+n/+JuhADK2lErEs5qvX8lxid16Hf+QLHy0JgpQcR7/4SfRfeQr3iI+ttXURnYL9AJH4Onw5NQtenMRithWaE2Poc/V3HzRBbuaIciIpXIjMgThVzHHDglHRxOI4KVo1oZqlHBzvL0zdCgBAgBAgBQmA9IrD6JFZs/GG1SYx63FLlJh0nwfS+vE2oZBxPKzyTA0H58j6I1C3lbDB9DKkDJcFHhTrqoC8OBMSyMz80wvwLo6qxHcmBWy6rpRhHP+I0/y3ONlVA43XICAT8sIPTh1Elo1IU1+B4z4RNih1CiDBeW05gwIoa4MiwpC9enZJWYtk39VPqo47sxBeINfBYwwxMK0Nd218xMusTRsGQQsf8yFk0lRWAMQ3bYuJQjvnvkD6+x3Rt0bajIfbFkny0VySzO6SXB50HGOt8CVrQ0bme/PQDIUAIEAKEACGwMRBYfRIrSSTbir3NJxCNvo6jDR34nAfLx/JILB58g9j2EJi2HfXH3kA02oG2oy+h+RO+AewRZgf/A1UaD9F1BLHkR0h1ncGfmqqgsTzxPTfG2KxfKXOGc3p8sU13hUq0Ddx9/Mo2ew36KDr3hVHS2guyw252ZaD+EwKEACHwbCGw+iQW3Jp1Ce27SoQ1j5PMDvRN8XPbl0lisYjZ4XNoqZF1MbDinfhN+geYMTgXMNH7NpqqwqItnr4DTSeXZvl6tobyKfVGv4uhk3uhsZ2IZu49mUbFRMjfAv9kmnw2a9XxcPg0qp/kWD2bwFGvCAFCgBAgBDYAAk+AxG6AXpOIK0NAv4fhzqOo1DQrlurKKspXSsf89T9jV+h5xK+bMYHzlaB0HwT0CXQfLkdJyyXztDSfLPQTIUAIEAKEACGwUREgErtRR24t5DaO9C1EuOFdXA/0E10LwahNQoAQIAQIAUKAENhsCBCJ3Wwj/lj9zWJq+NslbVJ6rGaoMCFACBAChAAhQAgQAnkQIBKbByBKJgQIAUKAECAECAFCgBBYfwgQiV1/Y0ISEQKEACFACBAChAAhQAjkQYBIbB6AKJkQIAQIAUKAECAECAFCYP0hQCR2/Y0JSUQIEAKEACFACBAChAAhkAcBIrF5AKJkQoAQIAQIAUKAECAECIH1hwCR2PU3JiQRIUAIEAKEACFACBAChEAeBIjE5gGIkgkBQoAQIAQIAUKAECAE1h8CRGLX35iQRIQAIUAIEAKEACFACBACeRAgEpsHIEomBAgBQoAQIAQIAUKAEFh/CBCJXX9jQhIRAoQAIUAIEAKEACFACORBgEhsHoAomRAgBAgBQoAQIAQIAUJg/SFAJHb9jQlJRAgQAoQAIUAIEAKEACGQBwEisXkAomRCgBAgBAgBQoAQIAQIgfWHAJHY9TcmJBEhQAgQAoQAIUAIEAKEQB4EiMTmAWhTJWcziBYzsOIoMtmN33N9+hJaSragofN7LKc7+uTfcLJpB4oZA2MawnV/RO/EggBER3aiH4nmWiu9uOZ3+HD4HnQjxzhS9cVgRlleXvnz4LqAiYEzOLa3DBprRGpCSrmAid6TaCgrMNp31v8kxiWLyf44mqrCQt6tqItexkTW7BHA5XwXzTUlIr0ENS3nMDy7aAozkUK92k/lujiacWKfvYWBxDHsLS0Aq09hAllMpBqdOFnlKxHN3MPMwJso1/YjMTL3JDpPdRIChAAhQAhsUASIxG7QgXsiYq+UxOqzGPvHDfwsOc8TEW65lc5hJLEfWvlbyMwtTzB99D3sq2lGvPMczrTtR5gxaLUJjDzk9eiYG3gD22uOIJY8h854M2qKNbCSY+iZ5qTuPkb7LiCVStl/Z1pRozGEmtK4LUXR7+F64pdG3UwrRU3jX5CZfWTWP3QS1VoxdrWl0D9wAdG9YaV+fxz02TH8Y+RnQaT98wT/uoDRZCNqmt9GZ9d/oq1uKxgrQm1iGA+NQncx0FaLmsN/RLLrA8QNAq+hpOUSpnl/5kfRd17pb6oLZ1probEtaEr/aMmkz15FomGbQVi10l1ojA9iFjrmR7/EeRWvVAKtNUVgoQjSt7OAPobUgS12e8EdoRRCgBAgBAiBTYQAkdhNNNh5u7oSErv4LRI7C9ef9XauH21bClEdvyaIWN7e+2fQf0S6aQsY24vEyLyZJzuDu/eFFRIPMNb5EjRWgsb0LZ86OOk9gS0OQpfFZM9xlLFCVLWkMCItmkbpafS1loMVvIqeGU5qH2Gm51UUsFI090z51A8sjiSwU2PwWD19c+f/Ub+dRlOIge1IYISLAB3Ze/dw3yLgo+jcVwymHUJ6UuKg1stJb6VNQo0qJtDzSiWYthMtqW8xK+tSi8lrY+w0hfQvYrr7KAq0l9A59kDmok9CgBAgBAiBTY7AKpPYGQzF96OYbcOBzhuPRx42+cCsSfdXQmJXUuaJd07HQiaKrawGsaHZx2xtFploJRjbidjQfd+6spmo4VrgTyJ9CN3c14iWhxDa9x6+N6y7arXCHUFxPTDrDyLJQO721bqXeC3HdFsMQ34cFRITvtzvg6+HhOqYy7yFchbGvuRInueCH+kHTGIdRkNqzLLsLrE3lI0QIAQIAULgGUVgdUns4jXEK0LmcmFjGpOPCdqj8c/wRmQ/no8PwfddatW/iNmRFFqqCmH62VkJrotFzI5expm2X2MX98ljxahPjbvybOKvkrxYBEoQqhdP42LyEMo07t9Zgl3tl0x/ST9fSMPPEUD2FvrjB80yWgUaT1/BlGV9W8BEz5vYxZfhtQo0vfkKnndYErnf6d8Qb6yAxpfyyw7i9OBtk7wYbYZQfvQE/rCL+2iqvqRy7OYxktgLVvga+izzoUxb5qcurI4lv0efYRn1ljdJZAF2JL6FYbhUs3gIXRa30xGEWCXaBu6qOcX1HIbjtWBsD+LDnDQLtwjtRSRvSr9cWczPn1TqNMfwC8QathsYsuI9OJ7+DsKWLCvw/dTHOrFP01DS2osZ3xySxCrWaSufDwmV1uwtJzCQ17XDh/TzuvXvkKwtREFzT4BMlgB0QQgQAoQAIbBJEFhdEosspjJJtEbalI0uK0dySRam7G0MffiaSYj4hhBJotzN6vcw3HkUlZyIaWXYe/QE4skufDo0SZYdiVUQieVEsvIwTp1NCH9J4euYncLIV0lEChlYYQTJKxlkRqaQxRy+Tx5ASHsOrV2XcSn+MsJsO1p6OBHVMX/9z9il8Q1Tr+PMBx2oD2vGxMeyZD4cQXJfGFrVcXT1dyPO/Silz6lFnItQ03YRo46leNmRKfQ0l4LVdWLcIs4ybamfOrJT19EdO4AwK1j0FZAAACAASURBVEVTatS5QcmqhvuTvgDGytHaN239al7kI3TzmBoZwtVx7hlq/9NvX8SREg1a1av44OOTaAgXoTp6BTNqJiM7l/EGvkpGUMgYCiNJXMl8g5GpBWDu74hVFxp1nP3iEs627ISm1SI6OO1oy26VXy1gavgiYvXbwMIRpMYCKK8glP6TBC8JNa2oGra09WOO60zmGsZ9x41zdu4GoroSSAnvYaCtAqwijuHcM1pZgD4JAUKAECAEnnEEVpnEri5a+UisPvkZWowd3IWo3FuL0kASu4Bb6aMoYYWoPJxEZtJt0VpduTdsbYEk1rYaPhpJYAdjtkXMUwbATC9aSzQUHO42N/4sDCK6VUMo0o1pCIKpNSB5k5Mk6VMqfTofYabv9yhh23C4+98G6TVdA7Yi0v0TIElsLiur/gM664psGVcwIFL3jOgETSmMWTv1XZU9uoHk7iIwX0utl9BhpgfNBQzacy/jkGFJ5tbtQlQd/0yJBrCI6Z5jKBG79LXqkxjKYcGUslqTAMuP1t5YJf1czTFw9cH4Kq2rXJ5cpB14dDOJ3UGWWg8JlT69RXiusdGebGrP4filf7kmBj6k3xJ1Fa3rVp10QQgQAoQAIbCREVglEusTVsjXInoHmXgjKvkyshVGR4MnhJAkKlYeJUyR6gLw8Ducf+NPONt3E7OyjE+7ZqglDaz8TQzMkBknUGE9hFSOq7Jk78bZUwZYHIphGytEbfI7YfUT9XAfy4UhxLZpDouak4Tdx1BsJxh7AclRMdkw2tSwLTaERXf7fp0RMtmkzi9T7t/02XFcHexFOn4YldxqfKATNz3+q9LXM4Ty6NfwBIDyEDpAH+9EHddrbqVO38Ds7PfobtttbAw7YPh7cjeAz3C8qgjhhpPoOsWt2IWoeu0yJj2WWLMPTvz4b5KQKsv9j75FYkdBjg14i5gdv4bBvo8Rj1RDC/Rrv4dMlI/PTiP8lRNFPxL6EOOdB0wXo6rXkL55F7OjF9FmRB84iNQtM/6BWY8P6bcakK4Tii5aaXRBCBAChAAhsBkRWCUSq4QVSjSjkr+kfcgkIElROepb30Q0GkXHsXrTb1IuF/NRECF7PorWo4Bb/eqj+MgKwXMBfaM+G2wCyQ3f2fxbhFgx6uKXMNjzCVKpv6L7y39iKsi6thk1gffZQ0jleCnEwY2zp8wiJtOHTD9M9ySE+9pOpNHIXToU/XCSsFtIN8p4pOrkRVhq3e37jZUfiZXl3DI5viv9tOqVpK0CrX0/W78aF8LtwXJ1cKT6ETp7E1Zhax+kFksrqeH+8Ggc6YOlYCUt6DbCS01joH0HGPNpX7TnxI//6DNuvr85BLa/iI1nXuuyjoffv4d9ISW8ll0KgB8JlYRadbeQfsFFqOv8wXZv8CH9dvVEYm0s6IoQIAQIAUKAI7BKJFYBU5IFhaTYqX4v1/sYju8xNgy5QxR5X852TZ6rwHblS9RJiLglWCs7hOR1GaTeU+Pm+8FDSH3Gy42zp4wkG4WoiX6KTCZj/10d97WYO8dZtrkH0e4rdtlMxvQddbfvN0p+JNbwxVRkUeWyrm/4TGx0LAy0o4gJS7DV3jzGUpEc/rJ+hM4msQ4rsYLh4FgKDRqDSnI9LhyWDOaFEz/+m8RQJeV+v7kqsr4K/1N3RIbsKFJNpcH+sr4kVN5/zkgGXpn9Sb8lkjwUITCsl52TrggBQoAQIAQ2BwLrgMQGvNgNw2Cu0EWuAQokN/LlvROtqYy5oSQ7ieGLUewNqUHsXfVtxq8KmTJP7JLYKWTIjbOnjCR9Abv17/ehlW8Es2KQusdfEihlKVwdC3f7app1bcqtrUKEDB4j1SSxIVTEr4koGTqyYyk0hUMIB/nLCr9gxwEHXL5J0xLt8E2VGO5IYPgrH50XfQ7qj5cQSuKoYJjXncACD4Acg1rEh6WTRD7SLn2ZbT9cs0ZpmRc+zaIZU2ZVR35GX2uFM7asKhKEm4kVOcORSF8IAUKAECAENiECm4jEKkTMGGixwUgNYr8JFcDRZUmmLKKwEhILYLobET5B2NeJMbcfJz99qSGskBURyJ7JjV22+8e+zlF7qVkKuiQSKw4MUIiyLL78Tx93gnwWSZ+NVVa7MmSXEm5KH02ilpm79+9PmJZYGzsdD4ZOYjtTSbRVm3HhJbESQ5tQSpcFB3l2VmN/87gTLIG0yw178pQtuzbIkF1GdALjdxnRwd4wKDe8eUi/VY+4X2uTGHXrlJWHLggBQoAQIAQ2EwKbgMQKQuMhq9Ja5Vzm3EyD7+nrSkgsfkJ3hB9T+gtE4udEyLIZDMX4ZqWtqGs/h97Br9CX/gjdIzwwvtx5z0+reh+9/efNTT4WieVhlszwUCy8H+1dlzHIN1i9/xlG5nU7OoGvu4rskSBJ1qlX8velfC7gZucraGr7CzpTH+FMx0soc2zsmsU/E/UIMQ0ljX9Cl+WrncL5vlERh1UQLh9Cx/t/p78DVZrs/ydmSCttPxIjc4A+ib7jVWBsOxrjn6K/7zyiPOSV9JH164KYNLCyCOJd/42hqSz0mSuIyhBbvV+gq/U5aNpuxIZ8Ir8++g6dvz6EtnfOItX1LjqM2LLKgSXz15GoC4OxMjTGztrH6aYU/3QRdcGXhOpT6G+vgcZP6zr7OfovxoywavZRvjKCgU26Pd00YlAXYGt0EBRbxIMO/UAIEAKEwKZEYPVJrHiZMV+LiY9lL4fbgGmhYnaoplxDFGihk5Y+9Sx4AA+vIV5dABb6LbqNM+9zVb5J0lZEYnXMj5xFkxHqTPEb5YcdnD6MKhmJorgGx3smTMuqfg/X5eEJWjV+dWiPsYHP9hM1Dzs4HdlpnITFw1wVV72OnsnsEkkssDgcR0XggQK5xvMuhhKHbLm1MtS1/dU+GlZi5NgQJvytJbHOReh40/oMbn7SgTrjwA3zMId4/y073FT2R/TGXhaHSxSgtK4d50dy+W7PYuRsROSXJ4vpmL+ZxnERxksrexmx3h/tNlQIZv+BRNMOgTWDVvoC2s7bR8NKS68dUUT6l8uDFfKTUH32Bj7peBGlxoEZBShr/DP6JyQdzUX6TUFNa27w0btqd+iaECAECAFCYHMgsPokli8XH+C7y7dib/MJRKOv42hDBz6/w0NbLY/E4sE3iG0PgWnbUX/sDUSjHWg7+hKaP5Fn1PtERahsRoJbx85/iVFuueP/5q8ivqvIqKeh4110dZ3Bn5qqoLEi7IpfXdIpRptDHdamlyZJUkNyrYIchg9ooRlgfxWqoyrWEgERS9g3Fu9aykVtEwKEACFACKwlAqtPYsGtaJfQbgVy53FgO9A3lV0+icUiZofPoaVGCblUvBO/Sf8gjveUpFhahtRP1QdWR3ZyEO+17hOWIAZWXIuWD69hlvzr1lL/jFOizBOvVtvK9hC3UgcRKjhKlvY1HuHHbt5YNSnyj8X72JVTBYQAIUAIEAIbFYEnQGI3KhQk99NCQJ+4jD+f7kLPwNcYkP6ReU6lWpFshgV+C3bEr+LBiiqgQmuPQBaT3c0Iq3Gk114okoAQIAQIAUJgHSBAJHYdDMLmEkHHg+EEdktfWRZGVdPb6LX8IzcXGtRbQoAQIAQIAUKAEFgZAkRiV4YblSIECAFCgBAgBAgBQoAQWEMEiMSuIfjUNCFACBAChAAhQAgQAoTAyhAgErsy3KgUIUAIEAKEACFACBAChMAaIkAkdg3Bp6YJAUKAECAECAFCgBAgBFaGAJHYleFGpQgBQoAQIAQIAUKAECAE1hABIrFrCD41TQgQAoQAIUAIEAKEACGwMgSIxK4MNypFCBAChAAhQAgQAoQAIbCGCBCJXUPwqWlCgBAgBAgBQoAQIAQIgZUhQCR2ZbhRKUKAECAECAFCgBAgBAiBNUSASOwagk9NEwKEACFACBAChAAhQAisDAEisSvDjUoRAoQAIUAIEAKEACFACKwhAkRi1xB8apoQIAQIAUKAECAECAFCYGUIEIldGW5UihAgBAgBQoAQIAQIAUJgDREgEruG4FPThAAhQAgQAoQAIUAIEAIrQ4BI7Mpwo1KEACFACBAChAAhQAgQAmuIAJHYNQSfmiYECAFCgBAgBAgBQoAQWBkCRGJXhtuzWSqbQbSYgRVHkclu/C7q05fQUrIFDZ3fY+nd0ZGd6EeiuRbFjIExDcU1v8OHw/egq5DoMxjtOYXGsgIwVoloZlZNta/nvka0PATGGpGayAITKdQb9fK6nX/F0YxLTh1zmbdQzvPVpzBh1bqAid6TaDDadsuXxWR/HE1VYVH/VtRFL2Mi65Be1LSAiYEzOLa3DJqUz2qDXwS0n/0RvbGXUaZx+UtQ03IOw7OLjpKr+iV7CwOJFtQUa2afimvR8uE1zDq6tIjZ0R6caqyAxhi8WEqJ7iET3QnGilGfGgeQxUSq0TMW5tj4jKt7PI1quc58gVjDdqNt5pJPn/wbTjbtsPQpXPdH9E4sSIGUT6F7x/ahVJPyKcn80tP+OFL1xf7yF0cxON2P9vIwahPDeOiqir4SAoQAIbDRESASu9FHcDXlXymJ1Wcx9o8b+NlBKlZTsJXUNYeRxH5o5W8hM7ccwXTMDbyB7TVHEEueQ2e82SRPJcfQMy2I2uw/8I4kLAYR9SE7hshZ3E5HEDLyCBI7P4q+8ymkUvKvC2daa6GxLWhK/+giyj8i3bTFJCgWidUxN3QS1VoxdrWl0D9wAdG9YTBLvgWMJhtR0/w2Orv+E211W8FYkZfE6PdwPfFLhLlsWilqGv+CzOwjJ9C6X/szGIrthhbag7aPv8TAf0WxN6ShpOUSpgNhXsTs2HWM/Lz0qYRDkLl+tG2vxeHYGXR1vo3mmhIwth0tPbcFXncx9E6jINXmxCCIxOq302gK8TySJOqYH/0S563x4OOSQGtNEVgogvRtVWaf8eSCzv0dsepChHa14+P+v+G/ovsQUuTTR9/DvppmxDvP4UzbfgNzrTaBkYcqYIuYvf4uGsKcqBegtObXiGfuOGDghNujT7iP0b4Lij6lkDrTihqNIdSUxm39IW6lDiJk6YerSvpKCBAChMAGRmCVSewMhuL7Ucy24UDnDZr5bzTFWAmJXfwWiZ2F6896y4nPlkJUx68tXw+zM7h7X1oWH2Cs8yVorASN6VvmiC4MoP25I0gM/BP90cpgS+zDYSRqwyguLrQtsR6duIuBtkofwqTj4UgCtaEiFBdpsC2x0+hrLQcreBU9M5x0PsJMz6soYKVo7pny1G6Rth0JjFgcNYvJnuMoY4WoaklhxNeKGtD+/T60FjIUNPdgxmhtCj3NpYo8bhHmMZKog5bLWu0u4vn+APfuzlkEXx/rxD6NQWtMY9LIew8D7fWIJPox3t9hWDz9Saw5sQkVF6PIIrGexgBDdzRBApV03/HUcb/vNRSq+M/0oLlAxUipw5oY7EViZN5K0Cf/N14pC0Gr+h1SIy6rv8zl275MlJ98EnYCW5RJkT7djcMFxdjXOWphKHPTJyFACBACGxmB1SWxi9cQr+BLp+oLZuXwPBr/DG9E9uP5+BAkpVBr02e/xScnm7G3lC/pcusKX1ptQWLglnNZNnsbQ6moWH7NkU+tfDNer4TErqTME8dWx0Imiq2sBrGhgGX+ZciQzUQDiNEsMoEkdhHTPcdQEtqHyK8rgklsEGHSb6OnZTtCBw7h11tVEiuWjxWXD1M+hWSrfZPjsy2GIXkTiSXp0L738L3DGqgUDGpfuEPYJFFgoB1CelI2oNSDXBip+ZZxLfukYCBLB48VYLqXbMWByEvYGkhivSTQrDtoPKU7gmKNF/LZJFtKxz8lHjsRG7ovEoSLQ+gAkt/PqZmV66D2lSzGpc+kSBBnrSGFCdX46y5K3wkBQoAQ2GAIrC6JRRZTmSRaI21eH8IVAJPrhcSrM19KJahqPIaOaBQdrb9EFfeb0/YjMSJfBmI5zSC4h9DG8x2rN5cec740ViDwRi/iIQeCML14GheThywfyF3tl0wfSz//Trnsnb2F/vhBs4xWgcbTVzBlvUAXMNHzJnYZY1WBpjdfwfOa6sfIfQP/hrjwb9TKDuL0oFg6NtoMofzoCfxhF19WFsv0Duy59W8vWOFr6LtvNerIsZwvph4WYEfiW1jGTKMCSUgUAiMrNqxmxdjSdhGXDaLrJ2cQYRJWUK0SbX3dpp+yxBVzGI7XgrE9iA9zEiTcJrQXkbzp9bM0rZYaSlp7heVULklXom3grpTW9ZmjfTlRrT6NYU6AjX4WQdudxE0nOAD8/DUlDi6/3l1/QPqmJHUucdxfpZ46rMtmpuBnhsBpywn0XX4TxYEk1ocE8qpzjOficBwVrEBY/SV2RdidvOHSF/7QGkXnvmKwkt+jz7CkA6a1XMOWtn7Ip5a7y7nad+T1nRRxF5MXcljLHTXQF0KAECAENgwCq0xiV7ffwS8k2Y5zmRFYxHT3URSwECri12zr7fx3+PyzfyobQSSx9SMmsu5N+CnJgWXhskmIVnkYp84mhI+l8N/MTmHkqyQihQysMILklQwyI1PIYg7fJw8gpD2H1q7LuBR/GWHLR1DH/PU/Y5emIVz3Os580IF6ww9QIbEPR5DcF4ZWdRxd/d2IN2yzfT4t4lyEmraLGPVdChdL3HWdGH9sDisIACtHa9+0SymCSKwgp8Zk6raw1kryplYRQJhg/m74Tc4NukgsJz0XcaREg1b1Kj74+CQawkWojl7BjKOvC5gavohY/TawcASpMbF0LZezt5zAwNw8pkaGcHV81rXMnKv9LG53t6DEcEU4g49PvYywVovo4LSrDt7PBUyN9CMZKQVjpYgk+5DJ3MBU9pHw6+XuDO/jiy/eR0tVIbTqP2Jwxs+aq2LGeWAStYyhsLUPbtob+MwwyF2x4Rs8Z1jWpU+ss25/V4I846nfQveRcjBtJ1o++AinGrb59EVHduo6umMHEGalaEqNitUidVJxB9mpG8hcHVeeVVy+PO1bXQieFC0MtKOI1SI+HEiTrVroghAgBAiBjYLAKpFYm+xYO64ty5EKxR1k4o2olLuMLRcA1+5vi6iYmzSsOo38AS8foxnpn+YisaoI4tp82WnYFvN3VfAp8uz/FEhibavdo5EEdjDF389TBsBML1pLNBQc7jY3+ywMIrpVQyjSjWkIgqk1IHmTEyvpcypJ7CPM9P0eJWwbDnf/Gzqka8BWRLp/snf357Ky6j+gs65I8dt8jKF7dAPJ3UUOy5ldWwCJ1ceQOlCC0IEUbukyjw+J9bWaAfqtFA6ESnAgNQZd4uu4n8TSsnE/MGjVJzHk2Lwm2+T3j0qY+NiY/pracy/jkGHJ5nkKUXX8MyuCQd72hauBeV8Wojr292ALorV8rlqrhQ5YG6ckkRNjbAPsc7WAm8kXobEKtPb97En3J7Fi0ho6iNSthzDz+D1HAkjgEsbTXBUS0RO03YgNmR7DUkApF3d5CjelMGZFi5D3w040HpIRMRi0qtdxSUYwWEL7ZjtBkyLAvG/9JmJSQvokBAgBQmDjIbBKJFbZIZtoRiV/uTpeuhIYSXbLUd/6JqLq0r66e1bs4P4oWo8CTpjqo/jI2j18AX2jbvsLN1bMYjzzqdfyJJt2fMowO/4vQkfWzfRFEiaPJVYhYHKCIcfXUwZYHIphGytEbfI7YZ0T4879MheGENumgVXEMSyMbvIFb/pZ3sdQjIdAegHJUbE8brQpJhzu9v3GR8hk+236ZVrKbzLEVAjl0a99iJokiypBk2V2Ipq5p/hAKhgaTQcQJgjdlFEVJL4Sb3BXi89wvKoI4YaT6OKWUE5CX7uMScsSu4jZ8WsY7PsY8Ug1NGWjpT7eiTp+f3IrefoGZme/R3fbbmPjmkGa87a/gIlLr6NK24aGU+8bVkde12u9fMLh988HI9knxR1ATo7yjpkMMSXxcTXp1CWRaJQptMYwmMT6kcAljGf2X7h0/Dlo4ZdxqotbxrmVvB29k3ZkA312HFcHe5GOH0YlX4U40Imb3B1DTLiMiURrGjdn72K0+4QZXcCYBC2hfYlBwKTISDbuGz/iLgvTJyFACBACGw+BVSKxSsdzkgxJYtUX+n0Mx/cY8Sat3d+iOt8XktKUeSk3VkirbQWOdLtCFTnKZDHZ244q/iJxWEQcmTbnF0kuHovELmIyfciMlykshZYlndc7kUYjjy9qkTIIy5i0xN5CupH7usrxtD8NgpNTv8Sw+ZFYWc6nXrstVS+5H6Tp1mCHr3KrhQ9BE1Yz20dU5nHVLVwG3GGcTCuo4k8px0TipY8jfbAUrKQF3Tz8kz6NgfYdYAGWSSuuqPDBlPeUuhRvRTCo68TYj9wKHNy+PnEBB8MhlBy5iNucg83wOKShAEs1x0v2XyH6cixkn3g2v9/ccEs3Fcs1xZPBpUs8XVhhFZ/hQBLrRwLzjudDTKSPIMzKcaT7FnQsYmbgTZQz1Q9ZldM1gZbjq64sSJcPdgCdY98ZVv38+hQ0KRJtG/gSiVVHgq4JAUJg4yOwDkism8TYoMoXbm7rjIzz+BGSMRGpINAytICJ/rcNH8yl+t/Z0myCK/lCfSwSKycVhaiJfopMJmP/cV8/H7LiHGc50dmDaPcVu2wmY/pu+pT3jIwfieX+u6osvtfcX1PaE+cxloq4/BfdLeUgaAFk2dJlP8KUM/A+J/OV6OhKoEFz+oNKK6Yd9kqV8x4G2nh0BHM3vBNrkc8a9zakOoMC//P2t+HF+l3QHP7BYhOdGmJKbX7VSKyO7FgKTeFQzsmnt39Sn+zJkD1pUQ/2CCCBUt+CxrPjLDobws5NhI++RWJHQcBGKh2mf6pYWbCwVw8YUfQqlQg8HIP3w9KngEmRNRRGPwIiWFiZ6IIQIAQIgY2FwDNAYp2Ay00vbPtJDD2QhITnWcSd/g5U8fiSqr+Zs/jm/uZ5oUoCoFgR5UtdWtE8ZeRLOmDTnIgzypSlZCfxkKTLGUfTGhh3+1aCemHK7R/iSM0XdL00wuRrZfSQ5T6xsYmT8q/EJirp9+s+4IBv/rnhIO6ZK2LjXE0U3ZlrGO054Q33JTDx76/EU2zqmTQt4aZ/sui/HMMd7+D67Vzt96Oz+f9zxcWVk5YggqQQMnmqmdWeHbtWEnGblLnGJjuKVFOpc5OaKwv/6tQl/gvfXPaNA9MryQgKmZhkWZuofkZfa4U3Xm++8Ry9hA7PKXfivvENOybvD+m3L1YeQr9FtzxMwyL+e5G4Pu6afPnpk+2Hbh5w4AXGdPFRrOHeLPQLIUAIEAIbDoFnjsTaYX0U4gUd8yPvCV81ZcPEhhuuJyywJBePZYkFMN2NSIhB29eJMXUewcXny7PccmVt6pERJaRViX//LUIsIDj7kkisOBBAIcrLQm6JhMmXxHoakiRO1Uf3xiZPIfsHOSZi0qBPpAxLrI2tjgdDJ7HdHZFD1iB9SGVIJxniyYhOYA6Ouds/IMSTo31OWJugOcZmFkOxGrDAne+y/yqB+gndka2KDuTb2LUUq7jZYS+JlUDYn2Ye19K62PAWRALt0rI/YjylPmsvoXPsgZntwTeIbQ85/L7t8i53Amtjo715Evp3SNYWgiljZJd3tW8kyAMv3JMiWUqmK37mMok+CQFCgBDYwAisPokVLwNWm8Som8BYcSPVF7qf9cREVIbSsXa5LwFoa5fw1igyC0IAEcuShQ+i8yaFmAmEURKW5ZBYCELCfoFI/Bw+HZqEDnE0KduKuvZz6B38Cn3pj9A9wg8ekDvrzfBKvf3n0caP+FSXRsUxniy8H+1dlzHIN8S8/xlG5vUl+k4+TlzMWfwzUY8Q92ls/BO6rA2FKZzvG4V9xhJHURIKlaC50ZV5FJ1fMmEyTIvOEFv6JPqOVxnHrjbGP0V/33lEeRgt6SP76Dt0/voQ2t45i1TXu+gwjsdVT9CTKxIS/0/MzZCO2MpKH6ROSBJ95wscLwuBlR5EvPtL9F14C/WKj6xSUlzKSUkIZZG30fXpEKb0RcwM/hHVmpThHFqNEFvuKAu8Ch3z//xP1PGjYksaEeuSx/WmkDr/JUa5Tij/VkZiJckLIoFKA9aYy/FcxJ2+11HGQihtPIXu/i9wIdqg+Mgu4GbnK2hq+ws6Ux/hTMdLKFM3dvEe3vkS7bz/Va/ibO+XuGiE4fI5KtgQw0efZMQPa2KoysuvRWxh9ZnozkLfCQFCgBDYgAisPokVGyEY24q9zScQjb6Oow0d+PwO34ruszztuwQokJQWDW076o+9gWi0A21HX0LzJ/z4T9OCV1L1S7R2RI1IB9G234jTu9SXNmAGI2cI7W3DBwopMc6v93kRbsBxXB2RJWFZFonlVu6zaCrjp6YpIcv4YQenD5uHT3B/wuIaHO+ZMHew6/dwXR6eoFXjV4f2GFEo7KVk87CD05GdxtK5cRJb1evo4bu9l2SJlWOuWLeWipDEwM8HUrpQWHVJQrEcErscwuRDYnnb2R/RG3tZHD5RgNK6dpyXR5XO/gOJph0CNwat9AW0nf/WGXdUn8HNTzpQJ06644dJxPtdp9zJPko8rL7zsfkCMYMc8ygHZahr+2vA0bWikvlvcbapwtzsZ50cdh83038wD7xgBShrOIleGVJKtm18Soz9fFolkbQLrIzELsMy7iGxvG314AY35ncxlDhk3we+eC1i9uan6KgrMzHih4PE/2aFPLN7x68kHkrf802KhPXd32faWTt9IwQIAUJgIyGw+iTWCAF0Ce1WDEp+FGwH+qZ4uJllklgsYnb4HFpqlN3qxTvxm/QPeMR9XDNn0LxXPPgN0sHb+g3i//2d8tKWPnt+L0H+m/Iy2Egj9wzJahIPNSTXKnTO2FxTmPsUpFVohqogBNY7AuapbRROcL2PE8lHCBACy0fgCZDY5QtBJTYzAvJErFI090ytIhAitFLBUWXDzCpWT1URAhsCARHCMCCu7oboAglJCBAChEAAAkRiA4CheQc+QAAAIABJREFUn58cAvrEZfz5dBd6Br7GwMWYCHnm5w/5mDLMX0V81xbsiF+F2HLzmBVScUJgYyGgT17E4XAFWnpuBxxGsbH6Q9ISAoQAIaAiQCRWRYOunwICOh4MJ7DbOno4jKqmtwP8IZ+CONQEIUAIEAKEACFACGxIBIjEbshhI6EJAUKAECAECAFCgBDY3AgQid3c40+9JwQIAUKAECAECAFCYEMiQCR2Qw4bCU0IEAKEACFACBAChMDmRoBI7OYef+o9IUAIEAKEACFACBACGxIBIrEbcthIaEKAECAECAFCgBAgBDY3AkRiN/f4U+8JAUKAECAECAFCgBDYkAgQid2Qw0ZCEwKEACFACBAChAAhsLkRIBK7ucefek8IEAKEACFACBAChMCGRIBI7IYcNhKaECAECAFCgBAgBAiBzY0AkdjNPf7Ue0KAECAECAFCgBAgBDYkAkRiN+SwkdCEACFACBAChAAhQAhsbgSIxG7u8afeEwKEACFACBAChAAhsCERIBK7IYeNhCYECAFCgBAgBAgBQmBzI0AkdnOPP/WeECAECAFCgBAgBAiBDYkAkdgNOWwkNCFACBAChAAhQAgQApsbASKxm3v8nb3PZhAtZmDFUWSyzqSN+E2fvoSWki1o6Pwey+vOImZHzuP4rhIwxqCVHUS8/5aoQ0d2oh+J5loUMwbGNBTX/A4fDt+DboCULz2Lyf44mqrCRt2MbUVd9DImsmZpIE/6RAr1Rru8bedfcTSDLBYwMfAummtM2RkrQU3LOQzPLipDuIjZ6++hqazAlH/Xm+iZWDDT9Z/Qf/JXqCrWzPrDLyDa+6M/ftlbGEgcw97SArD6FCZkC9kf0Rt7GWUal8+n/eluREJO2RlrRGrCPUr3kInuBGPFqE+Ng2MzkWr09NvEoRLRzDBS9cX+6ZZOL2K6+7cIubCz5efj9wViDduh8TzFtWj58Bpm5fAA0GevItlUIdKfR3vPvxR88peXMK3eZy59zacP+dLz6OPT0Ff9Hq4nD1n6tKv9kn2/rCd9nfsa0fIQbF0ez6OP+dK5hjxBfc33LJnpR3t5GLWJYTxcPWWlmgiBVUWASOyqwrnBK1spidVnMfaPG/hZedGvPRJzGEnsh1b+FjJzyxNMv/MFjpcVIFwfw8X+bsQbtoGFD6Lz5hynMJgbeAPba44gljyHzngzajjhKzmGnmlOFPOlL2A02Yia5rfR2fWfaKvbCsaKlBdFnvT5UfSdTyGVkn9dONNaC41tQVP6R+i4i4G2WtQc/iOSXR8gbpBtDSUtlzAtYNAnLuBgOIRw3es4c+Z11IU1aLUJjDzUAf07JPftRXP8A3SJNKbtR2KE993+x4lcguPCSX7pLjTGBzFrJM9gKLYbWmgP2j7+EgP/FcXekKv90SRqWRFqWhN2P85/idF55zjpt9NoMsiuJLE65ke/xHmr7xyDBFprisBCEaRv38No3wW7Tp7vTCtqNIZQUxq3jeo5vi+AabVoPdNl5T3fN4p5Lv/c3xGrLkRoVzs+7v8b/iu6DyG2HS09t81Jij6O9MFSsPB+tJ15xxw/FZ985W0IrSt9dgz/GPlZTIKsn5d8kVtf8+lDvvQ8+og86Y+trw8xkT6CMJ/stb2DM237EVbvl3Wjr1ncTkfE5EhOyO7n0cd86VwFnqC+5h2bh7iVOoiQ9WxbskpSRkLgqSGwyiR2BkPx/Shm23Cg8wbN3p7aMK5SQyshsYvfIrGzcP1Zb+f60balENXxa8vUw3mMJPaCsRrEhjgt0/Fw+DSqWQjbY9/gAYc6O4O796Vl8wHGOl+CxkrQmL5lDkS+dGW4LKK2I4GRR0qCuMyXDoO0VgoSxy2ZOrL37uG+5IP6KDr3FYNph5Ce5DJL6+YexIfvc9Zmkn1WibaBuy4B5Iu5ADsS38IST59AzyuVYNpOtKS+dVgpcb8PrYUMBc09mDFqm0JPcylYwavomTFryGaiKGbccmrSXlej4qspV6i4GEWWJdYnpzHOmkJS1Tx8QnECWyyCz9NmkYlWBuirjvt9r6GQlaK5Z8qsaKYHzQWyPzrmMm+hnBUIvdLxcCSBWk3DlrZ+zCFfeVU283pxJIGdGoNpRfem5/8ln77m04d86U4J8uljvvRl66u0blafxjCfZD0cRqK2CGzLCQx4JqdrqK+GXGEUFxcqllgnduYE162Pap6nra9q2/yaT2jUZwmgT3fjcEEx9nWOrniS5W6FvhMCq4nA6pLYxWuIV/DlFAatMY3Jx5T00fhneCOyH8/HhyApg3+Vi5gdvYwzbb/GLr60meulx1/yE5/heFWuh41/K8/8ryshsSsp88SB1LGQiWKrRUSX0aD+AzrrisAKX0OfZIKLQ4ht08Aq4hj2UUSTlAUTkZzpEr9tMQz51I186TlJHO+3IG2SNMp7VOnL4nAcFSyEivg1z31myq5hW0zeg5LIhbEvOeKdIIglSpuUifYtEr2IyfQhaOwFJEeFC4PP8JiuIFtxIPIStgbez34vfbUy70sZuIV0YwlYbRKjkuhbRaS7gkKwBf7m82wOw/FaMFaL+LCwTDvwzFfeasi6yKkbVq4cF8vWV5c+eKrOk55PH/OlL1NfvbrpMwZKH9ZGXxcx3XMMJaF9iPy6IgeJ9dNHRXgfEvlk9VVtm89n+cTfNSHUf0S6aQu0hhQmPPeLqzx9JQTWAIHVJbHIYiqTRGukTfERXHmvlvSA1+9huPMoKrn/nVaGvUdPIJ7swqdDk74zR33mCqLVnMBynzy57LNyGZ+pkvIFZPkPCp+tF0/jop9Pmp9PlfSNzN5Cf/yg6cemVaDx9BVMWQ/BBUz0vIldfBleq0DTm6/geYc1ik80/oZ4o+l3yH1STw+K5VyjzRDKj57AHwyfVb8xFNYplYgudaA8GPCCAgfFmqhWZ+qpy1qpZMiVro91Yp+moaS1V1gulYLcrpozPR+J43VJUrIXiZF5YDKNRr68HunGtGxK+qjKsZO/Q1qZK9Da97P5q3ip+VvCuAufmMi6LGfa7iRuGoZYMTah36LbcL+wGlMuhHV4ywn0XX4TxYEkNg8p8HspP/oWiR0Fzv4rLZukyW1pLcLu5A08kgTYIftP6I5wlxBTD3OXVxry9e+13Sacfrl7cDz9nenuoFbBr5etry59cNfn1hdXem59XG19vS8mPFsR6f5JSCJ9RCVWqoBrpK+GFbYYW9ou4jK38ge9V/z0URXfL/0J66vdfNCzRLgzBDz77PJ0RQisDQKrTGJXtxP5SewCbqWPooQVovJwEpnJYMuOIVl2DOnD5WDhfWh80X7xrK7UG7g2zwvR3nigVR7GqbMJ4cMp/C+zUxj5KolIIQMrjCB5JYPMyBSymMP3yQMIac+htesyLsVfRtjyK9Qxf/3P2KVppk/mBx2oD5ubiCzr3cMRJPeFoVUdR5f0SZV+WRZxLkJN20WMOjYsSezFEnZdJ8Yt4izT8nxKElbUjoEFWVji4EeYxUOelaO1z6KFSiNB6QuYGr6IWD33t40gNWZ4ZDrK5U7nWfOQOJ6F+wzWFlqW5UcjCexgLquxHHfFOovsJIa7Y6jnvrNNKYyJjWfmcrFYPufjn7mGcccYZHG7u8W4J6tazuDjUy8jrNUiOjgtJpX3MNBWYerLVzcwZW1oU7puvMyLDT/hOcP1wI+wBFiOrGoCXsoLA2grYiiMJPGVoatWAfNCv4XuI+Wmq8QHH+FUwzZo1X/E4MwiIAiFc+OjJIXCOpurvKMpHdmpG/gqGUEhM+W5kvkGI1MLll+uVvUqzn5xCWdbdkJzYKhUtFx9demDUpPov1Nf7PS10Nf/J1x7FMu4wdu5O4pr5WDN9FXomeEXfdt0VfElsQH6aAEckP6k9dVqP+hZomNhoB1F6uqDVYYuCIG1R2CVSKx8ySs7jj1WHd7ZO8jEG1Epdz4b1lD37m4AFlFR6jPy8u/2C81cctTAyt/EAH/J5Pw3j7FUBGGtBu39oxjMNWPOWc8znCjJjNsSq/hLShJk+Tx6ygCY6UVriYaCw93mZqKFQUS3asL6JQim1oDkTU7cpPVEEqtHmOn7PUrYNhzu/jd0SNcAYY2RupHLyiqWWC0ZlzVkQj4mLJe87MNriFdzNxUfEvvoBpK7i8BKfo8+4fPpaM43XRIfrs+laEqNKrvbeel86aIFP8uNo3Hg0c0kdiuWXt+JoXsM5Xd+zzkI9iPM9LyKAlaE5xobTUs6z6M9h+OXlB36+m30tGwXqx2FqI79Hfa2MNezglvp43+zd5tDbCYJHUTq1kOY8tr3vN29gJe+lSHgpSz1RzxPnJEnzMLWc8Xo227EhkzvXn+rpxwrm2gFlrdksy+84yExlhv1AOln6rCeW1UsT1/d+mBVIy7802Ufn7a+ynZtbLmYHszWUl/1MaQOlCB0IIVbupTX5zmRd8K5dvpqDH2OZ4n5zA+apLs1iL4TAk8XgVUiscouy0QzKvnD35fEyhdYOepb30Q0GkXHsXpzyVla2nj/xa7Jj6L1KGAMBfVRfGTtSL6AvlG+IcVeVqqLX8JgzydIpf6K7i//6WPd0ZEdS6EpXITq6BXM5HzYPN0BWFetyZeBh8QqD2VJAuT4esoAi0MxbGOFqE1+J6xvYty53+eC17/U+VK6j6EYD6uk+EwabQq/THf7fgAKmSzLrl+ewN+kz6dmRicY+BIXoi8gzHXawkUWlnlDKI9+rRC1fOmLmB2/hsG+jxGPVEPzbITMl87rz0fieB65iWsnopl7hlBOrIWc7jHUZzF+9Wv0pU8hUlmoRGZ4iPHOA6bPe9VrSN+8i9nRi2gzogOYpJPvpp649DqqtG1oOPW+YcnkJPe1Xj4hUf7xNjKfmpZotf/GRp5CC09TXj8SG/DSl03keCnzLDwiQOYitzRrSv84Q/oXLh1/Dlr4ZZzqOokGHrmhqh29k9mApXtJXATRylVeyqZ8esdD1qdMonwtwLISqYNL0VevPshazM+g9Hz6mC+d174SfZVY5CGxa6avEnt5f0l5leelBDiPPvr6o8qyT1JfjTbyjI3xzPW7BxUB6ZIQWCMEVonEKtLnJBmSxKo3+X0Mx/cY8SSt3d2iOu8DXmnHYa1yWmy1skNIXpdxO/kTQCwRWhbbHA8btYnNdu0mM9IXVLVAusfXU0Zu3HGOieGDzEnghOmTqU5ynOMsNt4IS5npu2zWZZBSd/t+Y+RHYmU5n3rtNoRecj/rD39nhs7icU5/+xvUl2jezUDC7cEOr+USJl86zy53XwdZcgPT85A4HlXh+/ewzxXeyvTZlFZvIa8cQ0+EBPmSlj678r5RrTJyR3gR6jp/wCMRvqvkyEUjpJVuxJoMBVqqzd3PTGyaE1ZY7UUkb5quQYEkNicpyPNStoaJT4SPosBampbhnMpxpPsWdCxiZuBNlDPRf7l075jMSEw46fwfEQ4qoLzVrn3h1H3+u98z0u83uw4sSV/99cGuJV+6yBmoj/nSV6KvchOXH4n180F/yvqaNa2wtr+31AX1/cZxyaeP+dLlKK22vkoXpjxjYzw7icTKUaDP9YXAOiCxPstDAiPvA14FTz7Yd6I1lTH98rhf1EUel5LZcS/5A8QIi6PEerQIsPtho9a/Ca8lmbFe0hJjBSdJBgMtsXKHdiFqop8ik8nYf1fHMesu71kelG3uQbT7il02k8HV8VnoPuU9I+VHYg3/TUUWVS7r2t9H09zM4n5pCvcUX3cALlG+dCm18BFlOxEb4isM7n8B6TlJHAd1FKkmHs/U5W8r8HMsTYuNXb4RRYRPHjOiJ8iXtB+p4MS4H2OpJmgO/2AZAkoJW+XoohxvrmOjwcHhHZbwfC/9PC9ltX1Vn/jScEPY8h82skkrqLGx5QdTPr+NXTz6wu3RPOWtIGWWBN5nnIqHPPzB7zerCs+Fr74G6YMsnS9d5kOAPuZLX5G+ymeJ38YuJaSd1TYPq2r6PD8VfR3sDDx4hE+M7ZWgfPqYL13p4GrqqxFyL59vuXTvC8BbEY0uCYG1QOAZILEKwTIQdPmICZ8lFqpD2wcyuPn7iNZvAWM70Jw4L9wT1gL+ddbmqpBYuRHATfpEX0UcUaZY/ZwvcvmSVJZTVZjUh7j6u+PafOn7kjJHvqV8EcH7tZfQOWZEiTUsK6Z7inPTk12bdF8JSrdz8iV/Y6NT4MYJv3TpN2z7Tao15iTQ0pqobOIyfd5cG2VkhZIUGPmllV0lFXISysf7a3xl+JqrJFcSkYCXoGOj0TymRr5xTFyuGBufxISIT4IMn4Sf0ddaocTGlcKKT+GTbR9w4EpXvurGwQsMha19uO/Rf55REEgjRNj/eENsSZLL8VnwO/FOLe/123fqPm9PThQU/ZdtWJNLpQOeSz99zTehypeuNuKnj/nSV66v3hBbclKkhDlTm3+a+npvEiPWBJhPkPuQjJSCMT4B/8qcdHPZ8uljvnSlf6uqr4Y65hsb6R6m3tOKQHRJCKwxAhuYxE6jr7UcTN2AY4ApXwLippMvpsBlZFomsXRQYmW9LH0sQG4S6SkDQFr29nVizOEIyfmfsHYZJyxxS5NcIpOWC9vX2TfAtrt9S3j1QuiGQpTV1KVfS//OIuyKX7VDHOWzWuVLVwVY0fKsmKhZGKoV5iPQwurD3IcdSL8+Z13mKoZ0J7BDKJnB/XleGX2BH5YwiQnDEqsGR5/FUKzGGVvVasI+LCAoxJhJ8lz3qDiAwJ+kejdGWc15LuRBDyKEmNRNdcLy4BvEtoeEu4O0ALtDcAmf6LzlPQJ4NylZvv72BCX3xi61Tj99zacP+dLV+lfq/vIY+iosuMwVso35nsQnV93WSl/lu0c1rOTTx3zpKv6rrK9G1bnGhmeQ8il7FFSR6JoQWGMEVp/EiheMfzBxH1LkWU62EZGzTmuXu52kkB/1yE5lJ7ljyc9RULF2qA8bd55N+N1DSH3Gy0MiZZzMXyASPyfi8wprED8qsv0cege/Ql/6I3SP8BOaRGBwVoiqlvfR23/e3BikLr+Jozv50Z7tXZcxONiL9PufYYQfS+pp32+cHjO2Id9Y+OFf0Na4A8VczuOfKbvnZ/HPRD1C3E+y8U/osjYcpmAeXZon/dF36Pz1IbS9cxaprnfR0bDdubErXzrvbi4SN38dibowGCtDY+ysdaxqKiU3RNq+j8axs0aIsxDCBy8Ywcwf3fwQv25qwzudXeg68wYaygqcG5/0KfS310Djp3Wd/Rz9YnOUPLbWPAI1BFZ6EPHuL9F34S0jTJfpI6vjwfV38asj/EjcLnS+8wfUG/W7XB6UIfWSWPlStUmekh1ArpfyfVxPNONI7Ay6UmfxzusNKOOh3qwQYou40/c6ylgIpY2n0N3/BS5EGxBm0seVP1/M8G/msbNnEDVCpB1BeoKfLr+E8k5hrQkfK4sg3vXfGJrKQsayNkJs9X6BrtbnoGlKlAR3Hbn0NZ8+5EvPp4/50rmsj6WvIlyfcexsAh8Y41GKg+lxY6Pg+tJXPxKbSx85OLnSn7S+5hkbQ8+EX/LWKDJWyEG3AtJ3QmDtEFh9EiuX79lW7G0+gWj0dRxt6MDnd/jahQ8pykFiIa0g2nbUH3sD0WgH2o6+hOZPxPGe81cR31UEpm1HQ8e76Oo6gz81VUFjLsuZB1+/h40n0+b7YUUkVsf8yFk0cTLClJOd+GEHpw+jSoZTK67B8Z4Jc4e6fg/X5eEJ2v/P3hv9tHXkf//zB5wbX3JhCcmy5ItIUYS4SIRWcEGUikchahWhtCtEqvYHURuZfqtAWwW22kBXrVdP10gbt91Yu1jNQlIs9qnbp959YBvoV5AU75YoQVmnDRVswjZQ2iCHLwTIef8055w5nnN8bJPEELA/SMjHnjkz83nNsc/7fOYzM7V45eSz2ioU6RgyfbODD/yH4NE86Ao8NWcwzGeIb0rEAvowpNNWqpvoVq0OXucJBKLfYF5ey1QwcvLs8zjhfOmpfyLcwsWxPllNqXgBXYPS1q350k3PiLOIE8PT6clqYoKd7M1cxdzI+2jQ1uctQ2VLGBPaGssPkZr8I1pquAjm55WhoqEbg0lpkiR3pqdu4rP3fokKvsEIK0Nl84cYmxNrNPO+u4SgJs71DUgauv6CpLaW7EOkEiE0aLvq8XO9qGnpQfzWknXlAqmLMkVsrpt+vpvyT0icbTLazVebOIiW4F9xy7LOLWfTo4t3vvOgvX+0Hf++RKCBrzPNoFS+ivDED9ISafnOl4zTDlNI9vn1FVrMuGgVK7di6NQ28+B1vITgyG2pDlsZOa7XfNdDvnTkux7zpRfiel2/jRGxQgjfHCV8xfhO7rTr1eG+kkvA827Mmb7V12u+B0L+Zde3rX685Qpt1ym9JQJbQKDwIlb7kR9Ct/EDzIWNp+49jC7woeNHFLHYQGrqItrrfMZNld94DuG/Yt8b+7irWJ+fwMcdx6QbUz3aL1yz7ueeAc7hxyYjD32wXQT0G6m8JFcBatbiCN3GnvYFKI+KIAJEgAiUGAF9kqC0Y1+J2U/m7nwCWyBid77R1MKdREDEVGabvf64bTWWayo7lWN708ctm84jAkSACBQ7AWP5S8f442K3nezbLQRIxO6WniqidqpzX+LDDwYwPP41xkVMZW0PJpfts8Ce0Ggt3GQPDoauQqwr8IQl0ulEgAgQgZIgoM5/gVZvFdqH72YN9ykJEGTkjiZAInZHd08xNk7Fg6kwjohYWS0u8vcYMWMqi9FmsokIEAEiQASIABEoNAESsYUmSuURASJABIgAESACRIAIbDkBErFbjpgqIAJEgAgQASJABIgAESg0ARKxhSZK5REBIkAEiAARIAJEgAhsOQESsVuOmCogAkSACBABIkAEiAARKDQBErGFJkrlEQEiQASIABEgAkSACGw5ARKxW46YKiACRIAIEAEiQASIABEoNAESsYUmSuURASJABIgAESACRIAIbDkBErFbjpgqIAJEgAgQASJABIgAESg0ARKxhSZK5REBIkAEiAARIAJEgAhsOQESsVuOmCogAkSACBABIkAEiAARKDQBErGFJkrlEQEiQASIABEgAkSACGw5ARKxW46YKiACRIAIEAEiQASIABEoNAESsYUmSuURASJABIgAESACRIAIbDkBErFbjpgqIAJEgAgQASJABIgAESg0ARKxhSZK5REBIkAEiAARIAJEgAhsOQESsVuOeBdVsJ5AwMPAPAEk1kW7U0gEqsFYNQKJlPjw8V6X/4FgbTm8Jz7FnPp4RTzRWY72SSU+7fZJTXnyww0sDp+Gz9WM/pkVrTg1dRWRlioojPfxc+ge/jfMbn7yCm0lqFifG0O4rR4eXh9T4Kl7Cxem7iHd9RtYjL8Ol5bO8xj/jVHMaaXlSFcXMd59EEp9GMm1dIm2RtBbIkAEiAARKGICJGKLuHMf2TRHkVdAEZu6jEBNObwvDmDm4SO37slPcLRPKvax2reB1Mx1JH/cOjkotXDzh2tTCNd7sT/wNZb5WeosYicqwLzPo6v3HLoa9oIpzyOc1FKdy1VTmPnnTfz4WBpRxfL4b3Cg7jUEIxfRH2pDnUcB853G8OKGUd8qpiMvgCn16OgdQDQa1f4HR6ehy+7c6eqdKI67DqB9+K4kjJ1NoU+JABEgAkSg+Ag8HRG7/A1C9T4w7wn038pxEy0+3jvbIkeRV0AR+7Std7TvSRq1gmS4AUohvNRP0oyMc7mAfAd72LMITd3nChbLid9iPytDbega1qBiLRlGvaJgT9eYLnLtZWzcQPiQ2+aVt2fK8359CT/fF4L1AWb6X4TCfGiO3TFONK4ti+dfLjNPuvofxFv3QTnWj5nHEtpyXXRMBIgAESACu43AUxGxG1MhVGlDh/IN7XHRrWJ26H34G15CaJLfsJ3+7EObDErFMXRcuIYU3fzSwBxFHonYNCD70U5ls4REoBbsQA8mH/ALfBlToXowVo/QlPHQuHENoSoXWFUIU0JnyuY5Xgtyhkc/Xk8EtNACTyBhhDHcQazZB1YfwbTj9zBf+jruxvxwKS2Izu0wT/ij46EziAARIAJE4BEJPBURC/UuEn98G/7OTzCVcrqDPooVmxASWqwj9yrVoy30Z0T7P8KZxgNQ2D4c77+JtUeprpjzOgoXO991zEWbwdhxnPsijJbKMj3e8fC7GJ5bNeisYm6kB01aGn9gOImB6VVgLopG/vBixjzyh4shdB/2gbEyVLa8jdPPedLePy2/B788N5gjlnMVc2MfolmrqwyVzX/AxIIQNBtITV1Eex0v342aN97Ay257zK/UoZb25bNzFtFGTzqOU3soazbEVK425bGZN2f9DsZCJ1CpMDClCs0fXMaCJvJEm2pwKvAWDvPheZOlZMfDGwgfLIO7YxT6Y50hBl2vI24O5f+AuH8vGBNtls4XHESMqtxn67cxEnxJbxvz4XBnDLdWHBWoVKB+qIvYMhwM34AWTWK00+WPYzEjN4B86dzHPB1BPatA2/CCUwn0GREgAkSACBQxgacjYgsK1C6y7IU/xNLwmyhj+9Aa/086dm7tGkK1Zdk9UfZiSuH9I4lYLrBq4T/7MXq7noeXMbhaYrirAg9vRXBEcaGytRcjX4/g04/+gqvLaqaIXbmK0OFyI06zF4HGfbooFMPLpphyo9rfg77eM2jwKmAuP2J3uVBVsfbdxzjmcqOm4yLGhs6iyeuCr30Ii5oDkk8kc1vjQLkgE+Xb+1TUpwlDIRiz2bmKheQYIv4KMFYBf2QUicRNLKznaVM+m7GM7yLH4VKeQcfAlxgKvQQvE3GfcpuOoCv+nfNIwtIw2srK0dD/vX69G2LQarf43kjeWcFjfQHJKxH4ueB3+xG5nEAiuYB1LGEyeASKcgjtfUO41PcmahQ3agOXsZRXxxrxrWw/OkYNybo6jq5yBrc/gita+aIBxmu+dJ5Ny+NCVeganvRx2Fa5pKdwAAAgAElEQVQ7vSUCRIAIEIEdTqBAIlbcXD1ojM6mTbaIAqRFjOnhseUXZ6YmEGqqMWY1i1nLPtS1X5Q8t6JOkW5/FR6mDczHTkKRb568HvVbROrdJGIFc/76SCJWiqcUIqnsTQwvPTA8tQ6rGViuB/Fw4UFDJKkNL6sz/TjGvY9CZIr8e97BOBfB4DGoRzXRqHvefsRoRxVY2SnDw2gMo2sexwfGzHcPjvVPa2Iuo3zZdn4s6rOI2Gx2cl+iEIKyrbnatGY8UOWweWkEHT4FZa1xXYivTiCwV4HurUxf82kvq90IPoerHw2yd3JT/Worx+kcTRynH1ag3kasZQ+YxcNrK0e8fXgTkSPlYL63MbpkzOoTvI3fA6XyBEJjd9IrJuRL52Ub114uHqIJ9EoEiAARIALFRWB7RezKNEYH+QzkTxBuOwjGsohYcfOqaERHIIBA4Dc4rQ3/K2kvG1SsTH+Fweh5BBr3gLE9aAycN2c4Rwe/wrQxzKl7BhlcDb/H1/N8yHsDqcnf47BSjvrwFIUTiGvaSbhkCDUhpOS+E0Pr+oPDg8keHGAuVLYN4pYcLiL6VROJ9zEZPGSN07TXb8nPG2mre2MSwX2KFFMp0g8hOPmDsTTYUYST+lx3Z5EujM8mYrPb6Shic7bpbl6bNyaD2MfcqI98a4waGGz3BTG5IeyT2yS13zjUh+0lYW3nquVzEuBSWQ7nZIQDmA8VUl1SEelDMbHMlV4tIZ0INTWDxBdBNHIvu8Nkz9zpBh+nsAqpDjokAkSACBCB4iOwvSLW5JfnZpwhXgCI4X/lJGLz8sBhnpuxVucq5obOoIZ7+ZgX1c89gwrFg8Pdf8fcet5xULPVRX/gIFwyhZpT31lFLNQFjHXXaeuRKjVvIZo01ga19KsRpynHZNrrt+Tn9G11z8fQrPWp3QvPRdWUEbMqPPLZPM1Sr1rqs9WlZbPZmSHwAeRs07/0iUxZbRajBnZ7hHfaqU1S+43DDBErJnEJD7eWT3xvJJEvF2XvCzt7Le/m2oO1JCLHvLblteTK+DFfE/YUyli20IBs6SRi7STpPREgAkSgVAjsHhHrJBi0XhI34xzeoPV/Y6jzGSieepwKBNDZfFAPVfC+jPB1efH1Uun2LHZmCBeez87XSbjYxR0P17iH5ODb+uQjXzviPIbVIhIdzrHXb8nP22KrW6TXBRBPJJAw/69hNvX90xGxT9QmYZ8bdYHPJXsSSFydRUoV6Y/oiYXB2jLsb0zsyngoNK4Ne1/Y2WvZNtOeFcxE/fCyCrREp9OhAkY1lhfBLptX1TFdt01pjmHeUhi9IQJEgAgQgWInUAIidg13oifgYgfRPb5oDNFuIHX9T2jyKlCORHDraSy8vxOvLBEn7P4VRu8LD/UiRjv2a6sR9M/ydRychIuDINXsM3aNYsaMdIsIEeVKnkC7cLLk5wXa6jYm/rCDYSQz+vAexruqwFiO8u19YKnPVpeW126nXeCLiUYMzm3KZ7OK1fFulAte9vbZ7c9INz7Q7JCXr3NYYkvEMT/CEluPHk6gYn0mihavC96WKGbyjHroKw0waVUFq4GO6Ub4RnrZLus59I4IEAEiQASKl0CBRKwYBrV5iCyiQIboJBCkdMfzHASDdkq2z0V5xrB1eTfGV4Uw42lC5EjDzeKUkn39GeNdfIvZQwgk7ukUHnyD4AGXtOaoU9/ZxZ0EUOtLBfuCk9iw9CsvpwUK24OW2G194tViHK1lYujcHqPKy7TXLbyJL6J/5oFUqZ5XW0OUPenELvmattvpdO3lblNemxfj8LtYlgX87fbbTBZv74+iwy0tZcU3O9A2P7BvduAco6oVY3+g4B8abROrUOSd2LU+jWgL3yXMj6ix9a1oYubrMpLh56GwKnSM/piZjCzp2mQzOYbY4VT6iAgQASJABIqSQIFELCA2MDBnVXNcFtEi8xMz07PcfBzPcxIMvEyxdI9tCS2zugUMt1WAuU4gekdaEVadQfS4D0ybUZ/hxjPPLq0DFSvXP8RhhUGpbsXZ/vM466+FYhkKdhJSsrhbw/LVAfT0/Q3jE1+ir/0QFCGKbf2qLg6h3adAqXkTfSOj+LTriBZHm7E6gTm8bK9bxfJkD2oVBd6GdzAwcgUTozGcjye1bUtF+czbhEBfJHMJL3vnWtpnr4tnlu3kS3zxOM3X4eKT2Py/x8Dnk1hQN9emrDaLZazYXjR0X8TIxBWMxj5BPJlyEPF2A4z3hke9rG0YSyKLiEvVtp01ljPzvobYnPSdEHm1V7GO7C/gD13E55PzUNVFTATqjSW2/o6xgU59ia3gPxx2/UrhX+FGuJgCX/PvMGBsKcu3ltW3lb2P6+E2vBbsxUC0D+fONKGS96Ppsc2XrjdW/92pRSBhWmqxgt4QASJABIhA8RIomIiFtld7ORjzoc7/awT4qgIdjaiQF0qXOOr7njMw71G0vRdAoOt1NHV9iZ94HouYECdlE7Eq9NnwDEplI07zsgJncKqhA59pE8AeIjXxv1GjKPBo+7h/guhAL37XUgOFuVHreAMWdZbiq3WjAr5BRLtlZ7N84u5/MBfvRA1fiF9bk1U6P6NfeVjHx8aGCW5Uv3ICRx/JE8v7h28s8Af4a7zGxgNe1HQOYV5zusvl+3C4ewADZ36RXsLL3r2W9uWz09hQYeUG+lqqdPGtrSDwKG1ysJmfzjc7+KBVYliHzuE5qBmeaLsB4r0RPmAuTcY/55ssfIlAA9/ggH9XXkV44occMaoqVpJ95mYWmiedF7PyLWKdz+ox5coBNAUvOU+OFJ5cczk9abKa9lDyExJnm1AhJuZ5DqIl+FdpNYt86bwxxla29CAqOp5eiQARIAIlRaBwIla7SV5CsInvhCXdsDw1aApNgPuRrH+rmBt+V5/4o+X3oa77kr4zkUVMiLOyiVh9EtHUhbdQJ4QTU+CpeROxGXkHqd+jxRQ6fMj6IFp6styARZX0ur0EhPDJug3p9jZnW2rbIpsfJsM4yKrRNf7ztpjxVCpRp9F/zAtfx0ja4/xUGkKVEgEiQASIwNMgUEAR+zSaT3UWEwExcccyDF5MBjrYsmU2G+EylvAeh/p370cq1qY+QK0IVdm9hlDLiQARIAJE4DEJkIh9THB0WgEIqLcx/OE5RIfHkBj/DEG+7axyBMHJIo5v3Dabjfhm13MIXb9fgM7aYUWoc4i37pc2P9lh7aPmEAEiQASIwJYTIBG75YipgqwEHlxD+IjPiGXlISCvoGfkdo44zawl7Z6EUrR59/QOtZQIEAEiQAR2EQESsbuos6ipRIAIEAEiQASIABEgAjoBErF0JRABIkAEiAARIAJEgAjsOgIkYnddl1GDiQARIAJEgAgQASJABEjE0jVABIgAESACRIAIEAEisOsIkIjddV1GDSYCRIAIEAEiQASIABEgEUvXABEgAkSACBABIkAEiMCuI0Aidtd1GTWYCBABIkAEiAARIAJEgEQsXQNEgAgQASJABIgAESACu44Aidhd12XUYCJABIgAESACRIAIEAESsXQNEAEiQASIABEgAkSACOw6AiRid12XUYOJABEgAkSACBABIkAESMTSNUAEiAARIAJEgAgQASKw6wiQiN11XUYNJgJEgAgQASJABIgAESARS9cAESACRIAIEAEiQASIwK4jQCJ213UZNZgIEAEiQASIABEgAkSARCxdA2kC6wkEPAzME0BiXXycQiJQDcaqEUikxIeP97r8DwRry+E98Snm1Mcr4onOcrRPKvFpt09qypMfbmBx+DR8rmb0z6xoxampq4i0VEFhvI+fQ/fwv2F285NXmKMEFetzYwifPoYKxYPG6KyRdwOL8dfh4u2R/xujmNNy5E5X5/8bPS0H4dHOVeBteB8jc6tSO35A3L/XWjbT61eXxtC934v68BTWpDPokAgQASJABHYPARKxu6evtr6ljiKvgCI2dRmBmnJ4XxzAzMOtNyejBkf7pFyP1b4NpGauI/nj9shBqbW5D9emEK73Yn/gayzznOosYicqwLzPo6v3HLoa9oIpzyOc1FKdy1JTmPnnTfz4RA8cG0hd/xOavAoYK0NF3asIJX4y6lvFdOQFMKUeHb0DiEaj2v/g6DR02Z07XZ3+GMfq2hDqv4jerufhZQxKfRjJNaPB6reI1Luh1HWg1yg7Gv0Uo9P3AazhTvQEXL7TGF7ccLafPiUCRIAIEIEdTeDpiNjlbxCq94F5T6D/Vo6b6I5GV4SNcxR5BRSxTxuZo31P0qgVJMMNUArhpX6SZmScq2J5/B3sYc8iNMUFm4rlxG+xn5WhNnQNa1CxlgyjXlGwp2tMF7n2MjZuIHzIbfPK2zPlf6/O/z+8UemCUvMWosl7sOph49qyeP7lMvOlS3nV24i17AFjRxFO6hIYRn97AglHj7O6GEdrmQfH+qdt7ZLKpUMiQASIABHYsQSeiojdmAqhShsC9KE5ducJ4axiduh9+BteQmiS37Bz/W0glYyivcYNZg5ZOuRXlzD99150nTyCCoUPdTYjOrfDPG0OzX7ijxxFHonY7Fx3KpslJAK1YAd6MPmAy8ZlTIXqwVg9QlPGQ+PGNYSqXGBVIUw5OSIdr4XsJJxT7iEROATmOo7Id04Pq3cQa/aB1UcwbVW3RnH50uVaRV8cQlD8DszH0Ky4UR/51lmkGsJXaYo+nfAWufl0TASIABEgAo9M4KmIWKh3kfjj2/B3foKplNMd9FHsEDevPDGb63cxeeFXOOzhw5oM2USsmrqG/tZaLW5QqWjAqe6ziAz8FZMLJGL1mNh1zEWbwdhxnPsijJbKMjCmwHP4XQyb8YirmBvpQZOWxqBUnMTA9CowF0WjhT2PlRxC92GfNtRc2fI2Tj/nSXv/tPwe/PLcYI5YzlXMjX2IZq2uMlQ2/wETZl9tIDV1Ee11vHw3at54Ay+77TG/0rVmaV8+O2cRbfTY4i3Fw06uNuWxmTdn/Q7GQidQyR+glCo0f3AZC5rIE22qwanAW/q17PQw9vAGwgfL4O4Yhf5YZ4hB1+uIm0PnIl5UtNmBg/agacSrinrWb2Mk+JLeNubD4c4Ybq04KlCod2NoceXw9hrtdPnjWJSqNw/zpZsZubN5Gv3HPGC+tzG6pMeqPEyGcZDthT/+g5xTOjbCFcrexLBxjpRIh0SACBABIrDDCTwdEVtQKPlFrDr/N7RrIseN6qP1qLAIKakx6zOIte4HU2rRGpnA/LrzzVk6o7gOHb1vdr5CSHGBVQv/2Y/NeERXSwx3VeDhrQiOKC5UtvZi5OsRfPrRX3B1Wc0UsStXETpcbsRp9iLQuE8XhWJ4WYhK5ka1vwd9vWfQwGMrXX7E7vKHChVr332MYy43ajouYmzoLJq8Lvjah7DIu06bqOW2xoHyvhfl23tP1KcJtnx2rmIhOYaIvwKMVcAfGUUicRML63nalM9mLOO7yHG4lGfQMfAlhkIvwcsOoH34LlTIbTqCrvh3SDldokvDaCsrR0P/97oH0hCDVrtFv0reWcFjfQHJKxH4ueB3+xG5nEAiuYB1LGEyeASKcgjtfUO41PcmahQ3agOXsZTRjnXcjfnhYtXoGv8J6ws3kbg6a23v6ji6yhnc/giuaOWLBhiv+dK1bCrWF64jHjwOL6tAS3TaCB1QsTrejXKtb8aQXJAnfIl6RB4HBiILvRIBIkAEiMCOJVAgESturvLMY2SKFiESTA+PLb/AlJpAqKnGmHUsZi77UNd+UfLcijpFuv1V8jCtfYvB3/wOfaO3kBJtEJ4lUSeM2dzMhf3dYw43ZTNj8R48koiVPGxCJGkerQeGp9bBM25h/xBLw2+ijHnQEElqwkOd6ccx7n0UIlPk3/MOxrkIBo9BPaqJxrbhBQA/YrSjCqzslOFhNIbRNY/jA2PmezrmMaN8e0+K+iwiNpud3NsnhKBsa642reW3eWkEHT4FZa1xXYivTiCwV4HurUxf82kvq90IPoerHw2sAjoj7tl9jFUnnM7RxDGDeFiBiEO1eHhFexYw3FYBphxC88l687us1JzBkPDYC97G74FSeQKhsTvp+NV86ZppgfTqBC1RzJgPnmlW+soH3Ev/IcZE3UYzdW/tfnSMOvqChTH0SgSIABEgAjuQwPaK2JVpjA7yGcifINx2EMxY7iaDi7h5VTSiIxBAIPAbnG48AIUpaS8bVKxMf4XB6HkEGvmEjj1oDJw3ZzhHB7/CtNMwpyg7Q8Qaw6vKLxEaGcdwbBDRwTi+cvIQZTS4SD5wEi4ZQk2IA/kBRAyt6w8ODyZ7cIC5UNk2iFtyuIiF/X1MBg9Z4zTt9Vvyc8a2ujcmEdynSDGVIp3HRf5gLA2WOdHHFMn2brPUJ8rKbqejiM3Zprt5bd6YDGIfk+M4Dbb7gpjccGqT3QiuWbmwk4S1nat2ipMAl8pyOEcvtwwHwzegD9iLhwqpLlGE+j36G8r1MI6OGG6lfsZ0/B3UKQyu41HckTy3amoGiS+CaORedofJnrnS1dQsrk6MIBZqRbWiwHu8H7fE6gRaWzaQmv0HvtA8tQ7pWp/LfSwMoFciQASIABHY6QS2V8SaNPLcjC1iwjhp7RpCtWVgyknE5uU42jw3Y7NO48CpbJ4kbtqml1h4dstQ2fIxrstizF5msbwXDIQnVLPLztep76wiFuoCxrrr9LhieVa6hb0RpylPmrPXb8mvdZLh5TVEhzZxR/ST/MpF1ZQRsyp55O3l2/vNUt8m7MwQ+ABytulf+kSmrDZvYD52Ul/H1X4dan3i1Ca7EQ4iVkzicuxXSeTLRWWwcqrb6TOjEHG++1cYvW8oVuG5ZcfRP2tfnZWvCXsKZcyFqtA1yN9wvcR86cYkMlaFjtEfZUv0Y/U/iLfycBVb6IDW5yRiM4HRJ0SACBCBnU9g94hYJ8Gg8bWLrDzQLUJFyis+r+5ENDGDlKrH2n0ROAYXKy+NRdGF8HAUO8Lb5iRcbCKWY1XvITn4tj75yNeOOI9hFYw1L7jDOfb6Lfl5oba6RXpdAPFEAgnz/xpmU98/HRH7RG0S9rlRF/hcsidhxJOK9NyiK8MTC4O1ZdhfjDzYHwqN74S9L+zstWw52pNxPj8hz3dVsMsYJTHalDNdxLcq2BecdBDBWdqqlVmIVVKMNtILESACRIAIbBsBErECdbYbpBEHyA6GkXwaC/SL9m3Hq7E4PJO9Z1jEaMd+bTUC3XvmJAYcBKnWXhFnbAxBWxiLciVPoF34WPLzAm11GxN/nPvmHsa7qhzXDd3ScIKcbcpnsxBi8pC93PE2++Uk+ThDmDkssSXimB9hia1HCieA04oIQsRKfS61W52OoJ4xaVUFKVFbgCBXumCXzZNrrETArPGveviGeECz1kfviAARIAJEYGcTKJCIFcOgNg9RhggRMPLcjB3PEzdA+w0n2+eiLturY9kA7o+ig8/GtotVu7CyFVdcb3/GeBffYvYQAol7umkPvkHwgEtac9Sp77KJWDG5z/COWdjzclqgsD1oid3WZtHri887TOwyPXP2uoU38UX0zzywdYWYHf+kE7vka9pup9O1l7tNeW1ejMPvYlCO9WNGihvVjbPbbzNZvNWuZVkIi80P7JsduNI7eolzxavTdW+0bXMTux5gpv9FbSOIrvGf9VLFQ5I5UU9Uxl+XkQw/DyVbOEDe9DzhBNoOZuWWJbgAMbnwBUT4EnD0RwSIABEgAruKQIFELCA2MDBnVXMMFtEicxE3D3kCi5TueJ6TYODnCA/LPrTG/+O8qLlUdNY2iZg5y1acKtamPkAtY8bscLmgYjxWsXL9QxxWGJTqVpztP4+zfr5mrrx0kZOQksXdGpavDqCn728Yn/gSfe2HoAhRbOtXdXEI7T4FSs2b6BsZxaddR/R4UBHOYMuf4YnlO1FN9qCWT+hpeAcDI1cwMRrD+XhS27ZUlM+8TQj0RTKX8LJ3oaW+fHbyJb54nObrcPFJbP7fY+DzSSyom2tTVpvFMlZsLxq6L2Jk4gpGY58gnkxleqLt7RfvDbFY1jaMJfHZWhKRY17rcmbe1xCbs8emihMMMc5+AX/oIj6fnIeqLmIiUG8ssfV3jA106ktsBf/huOuX+tNX6K5xG/37lTG5SoTm3Mf1cBteC/ZiINqHc2eaUMn70VxhIF/6Km71v4GWro/QH/0Eve+9qJ8vJnY9uIbwK20IRj5BtP8jnNEmhsrXMbfT8FDvDSCxmvHEIEDQKxEgAkSACOxQAgUTsRCeDuZDnf/XCPBVBToas67Jqt6J4riLgXmPou29AAJdr6Op60tou6pbxIQgl03EqtBnwzMolY04zcsKnMGphg58Zk4Au4/p0U/1lQvCbajmk2aq2xDm+6mbqxhIAq7yRbzX+wkGIr9FS7UbTGlA6DoXEaXwZ92ogHnq0X7hmrS+Zz5x9z+Yi3eiRmwqIZ+f0a8bSF3/2NgwwY3qV07gaNmjeGJ5f/CNBf4Af43X2HjAi5rOIcxrmkQu34fD3QMYOPOL9BJe9u60tC+fncbmFys30NdSpYtvbQWBR2mTg838dL7ZwQetEsM6dA7PSevEyt5huxH8vSHOLB5PvsnClwg07NU4KZWvIjzxQ3o5q4xiVKwk+8zNLMw405VvEet8Vl/WSjmApuAlzJnLWtkL2UDq1ud4r6FS58M3bgj9t5H/JyTONhk74vE+P4iW4F+l1Szypf+MyfDJNCOlEg1df0FSTMBMTeCsqJdvxlHzCoLxb6XrOL1BgkXs202g90SACBABIrBjCRROxPJb7NwlBJv4UljSTHFPDZpCE8iUgKuYG343vYMWF7/dl/SdiSxiQrDLJmL1SURTF95CnRBO2k3rTcRmxBCh8BRK7TLbKM1exyrmE+fRcdS46fJy6t7ChSn7nu+iTfRaUAJiCDvrNqQFrW1nFLZFNuvrn/KNBoyh/J1h7Y5qhb5ucJbVDHZUS6kxRIAIEAEi4ESggCLWqXj6jAhsnoCY2FNKnrEts1mdQfS4L71pwua7oURy3sdU6Fmw/b9FQttIo0TMJjOJABEgAkVEgERsEXXmrjNFvY3hD88hOjyGxPhnCPJtZ5UjCE6akZy7zqS8Dd42m43wGNdzCF2/n7dZpZZBnf8Crd4qYzvfUrOe7CUCRIAIFAcBErHF0Y+70wo++eaIz4hl1eMWe0Zu54jT3J1mWlpdijZbANAbIkAEiAARIAKFIUAitjAcqRQiQASIABEgAkSACBCBbSRAInYbYVNVRIAIEAEiQASIABEgAoUhQCK2MBypFCJABIgAESACRIAIEIFtJEAidhthU1VEgAgQASJABIgAESAChSFAIrYwHKkUIkAEiAARIAJEgAgQgW0kQCJ2G2FTVUSACBABIkAEiAARIAKFIUAitjAcqRQiQASIABEgAkSACBCBbSRAInYbYVNVRIAIEAEiQASIABEgAoUhQCK2MBypFCJABIgAESACRIAIEIFtJEAidhthU1VEgAgQASJABIgAESAChSFAIrYwHKkUIkAEiAARIAJEgAgQgW0kQCJ2G2FTVUSACBABIkAEiAARIAKFIUAitjAcqRQiQASIABEgAkSACBCBbSRAInYbYVNVRIAIEAEiQASIABEgAoUhQCK2MBypFCJABIgAESACRIAIEIFtJEAidhth7/iq1hMIeBiYJ4DEumhtColANRirRiCREh8+3uvyPxCsLYf3xKeYUx+viCc6y9E+qcSn3T6pKU9+uIHF4dPwuZrRP7OiFaemriLSUgWF8T5+Dt3D/4bZzU9eYe4Slr9GYL8LjDUjOsdrVbE+N4ZwWz08vD1MgafuLVyYuof0pbGBVHIQnYd9YIxBqTyB0Ngd5zZnlM+ruIfk4Ns47FHAWBkqmz/E2NyqQztXMTfei9NHK6GI9s1F0ai1i7fN+u8JJLAOfs6f0Fant40xH+raL2IqtZEuP2/9PyDu32sr34PG6PdYGn8X+5XnEU4up8ujIyJABIgAEbAQIBFrwVHibxxFXgFFbOoyAjXl8L44gJmHT4G1o31SOx6rfRtIzVxH8sdtk4NSg3Mcrk0hXO/F/sDX0GSQOovYiQow7/Po6j2Hroa9YPlEkprCzD9v4se0qsxRYa6kddyN+eHSxGBaxC6P/wYH6l5DMHIR/aE21HGx6TuN4UVdCKo/XUJnZRm8jUF8MRZHqGkfmPcE+m/ZhZ1T+Rv4afQMKtk+NAY/w9jQWTR5XfAe78etNckg9R6uh1+Gl7dNqUBd80dIpB4CK9MYHYwiGhX/A+jtqIfC9qAldhsqfsZ4Vz3qWt9HZODPCGliXIGvfQiLWvGbqF/9FpF6N5S6DvSa9XyK0en7gDqD6PE9Unm5+FIaESACRKA0CTwdEbv8DUL1viw3pNLsiB1htaPIK6CIfdpGOtr3JI1aQTLcAKUQXuonaUbGuSqWx9/BHvYsQlP3Na/ncuK32M/KUBu6hjWoWEuGUa8o2NM1potcexkbNxA+5LZ55e2ZNvneENQej1vyxAJYX8LP94Xn8gFm+l+Ewnxojt0BwNkeBWN1CE7yEQAVa1MfoJa5cCD4DR7IVTuV//AGwgfLwA70YPIBV5X3MRV6ViqPF7CO+eFOVDI3atqjSMpeVLl87ZiL1mowlx+xu4Yn+d493Bd6WJ1G/zEPmHISsfkNYDP1G9ej7tm1V7iBxfgplCkvon/GYq09I70nAkSACJQsgaciYjemQqjSvDLihvUk/FcxO/Q+/A0vITTJb9iZf2rqBj7racPRijJj6I4PXbYjPC4PTapYn/8G0cCLqFTE8KEPdW1/wrjjEGRmPbv+E0eRRyI2e7/uVDZLSARqJQG3jKlQPRirR2jK8GJuXEOoygVWFcKU0JGyoY7Xgpxhs8cirOEY/K9WWUWsrYj1REALLdBEnfo9+hvKwdy/wqhQihuTCO5TbG12Ll+d7UcDY3B3jEL8KmxMBrGPuVAVuo2g8+AAACAASURBVAbNZCMEwXXsY3wne2dt7dLeLo+ha48CV0sMd4VwteSzXgubqn8+hmbFjfrIt1IIRbpQ9W4MLS4vmqIzjunpnHREBIgAEShNAk9FxEK9i8Qf34a/8xNrDNlj9YH15uFUhLo4hHafDzXNp/FeIID3Ol5GDR+6lIdTteE7Ht/mQ53/1wgEfoPTjQe0+MFN3eScKt5tnzkKFzvfdcxFm8HYcZz7IoyWSv5goMBz+F0Mm2J/FXMjPWjS0hiUipMYmF4FRJxhYxRzGhseFzmEbi3msQyVLW/j9HOetPdPy+/BL88N5ojlXMXc2Ido1uricY9/wMSCGNrfQGrqItq1uEU3at54Ay+77TG/UidZ2pfPzllEGz22eEYxVJ6rTXls5s1Zv4Ox0An9YUqpQvMHl7GgCSfRphqcCrylx3qaLCU7DC9gWsDdQazZB+Z6HXFjqB4Q8ZiizdL5goMcCyrqWb+NkeBLxoOeD4c7Y7i14qjq9AI1L6kHe7q+wJdabLVDfUbVuogtw8HwDTx0vBYN5mVvYnjJiEfJUr5FEAvTDLvK2oaxBBGCUI2u8Z9FjiyvwrMtQgmcsonvyVGEkyvIXz/wMBnGQbYX/vgPTgUCRriB3l7nLPQpESACRKCUCTwdEVtQ4uLmkWvi0QPc+3lZ8mYYQ3WyVwYqVm6O4m9JaWKJKWz1G1NBm70TC3MUDna+QkjxGMJa+M9+jN6u57WYQuGlengrgiOKC5WtvRj5egSffvQXXF1WM0XsylWEDpcbcZq9CDTu00WhmFhmiik3qv096Os9gwavYhnSXfvuYxxzuVHTcdGMezTjErWJWm5rHCgXZqJ8ex+I+jTBls/OVSwkxxDxV4CxCvgjo0gkbmJhXUXONuWzGcv4LnIcLuUZdAx8iaHQS/CyA2gfvsunQhkPEJz9EXTFv0PKST8uDaOtrBwN/d/r17wY2rbYLfpV8s4KHusLSF6JwM8Fv9uPyOUEEskFrGMJk8EjUJRDaO8bwqW+N1GjuFEbuIwlp3bAEH/aw+JdY4JgNhG7iunIC2BsPzpGFwHhKS7vxviqKFw8OIgyspcvRnvKu8ZhTuWS+1e9jVjLHrA972B8eQULyUlcnU1JvxECBn+1hxLIacaxITiF5zhv/VCxOt6Ncu3aGUNywWylVPg9jHdV2TzPUjIdEgEiQARKnECBRKy4ufKZtbNppPJNg38q3pseHlt+cWZqAqGmGmPWsjS0b5n9K+oU6fZXcaMThcqvKu6P/gpui4iV08WxuNEfQjBLqILIWRSvjyRipXhKIZI0D9kDQ2g5PFSI/tdE4kMsDb+JMuZBQySpzThXZ/pxjIdyCLEl8mtCgwsZESdZgbbhBQA/YrSjCqzslOFhNIbRNY/jAyzGX4eLeXCsf1oTJxnl2ztN1GcRsdns5J5AcX3ItuZq01p+m5dG0OFTUNYa1ycIrU4gsFeByx/HoiRi015WuxGAPpQtGHHP7mOsOuF0jiaOWXpIXQhBi4dXao/xEOg6HsUdVbDK8r18eBORI+VgvrcxqnlZFzDcxh8QpAfItWsI1XLPv1FGrvKNtrKDYSQ1p62IqWVgvH+NdOWZl3DSWP2A8djYzr9hbl2IZsOWvKEEgP7gpsDXMYIlflq++qW+1Fc/cFo9wbje5ZAKCS8dEgEiQARKncD2ilhzxu8nCLcdBGNZRKwQExWN6AgEpKF9efavipXprzAYPY9A4x4wtgeNgfPp2cSDX2HaaZhTTWE28TmC3Ovn9SNqLD/keCGIZXvMG6tjruL50Em4ZAg18fAg953VQ/ZgsgcHmAuVbYO4JU+WEf2qicT7mAwessZp2uu35OeYbXWLGMn6CKY13SHS+UPHD4bnTxJB9vLtPWepT5SV3U5HEZuzTXfz2qzHbcpxkgbbfUFMbji1yW4E16w8tlQS1o52C1Ep5ZOLcjjHMtyv5RUPFU5lqNAnkx1CIHFPEvxOIlbkdaVXU+BeXG0ymqKvTjD+FT4NvKCvIqA95Ij0bOXfQyLAry99dYLxsUEE+IoMjEGLuTViZhn3eMduIpX6DvGuI9rEsuOWGNTNhBKIukRbOBzxWZb6TdYbSM3+A18Ej8PLFNvqCaK/nZiZBdABESACRKBkCWyviDUxix9nWSCYiWmPrSZ2jM+FF0bM/jWz57kZm/lEncJjW4XX4nypnCx/6n8w8qtnoLAKtESnndemzHLqrv3YQbhkCjXBUe47q4iFuoCx7jotnlipeQtREaJhEYlGnKbwqnFo9vot+bUMhpfXqFubGCP6U37lomrKiFmVBIC9fHtHWerbhJ0ZAh9Azjb9S49NzWrzBuZjJ/V1XM3RCsMuTbg5tcluhIOIFUPzwsOtnSK+N5LIl4vKYOVUt9NnRiGGl1Q5EsEtzRMq6pP6Q9S3lkTkmNeyvJaWpN7D1IW39KW3eKz66/+FRp8Cxh9aHvIlqHzIVb6auoYL7cY6tJ56vN72AnxMf0BYMyaRyR5tfSIVA2vox6z5w5AvlECEj8gP2Lphueo3ixcM1P8g3srDaeTwDsHXgZk4j16JABEgAiVMYPeIWCfBoHWcuDk6eYPknhWe208QCRorFSjP4Fcj/8kUsnxiTQ/3jOSK95PLLpLjDOHC7bLzFTfWHCKWnyYv9O5rR5wvS2QRiTbhy8+x12/Jr2WwiliRXhdAPJFAwvy/htnU909HxD5RmwRbN+oCn0v2JJC4OouUKtJl9pyL9S/DEwuDtWXY35jYlfFQaJRl7wu7F1zLlqM9goNdjBvv08tKrWAm6od3Ew+LejiIMfFr0+ULNmIJL120O068yrAZQL5QgvVpRFv4+rt5RnVgrV+0Kv3qxNL4LFsfpU+mIyJABIhASRIoIRFr7V/17hd4jXt1zHUkjXTTi5glPs5aTHG9s01O0Y1bxGjHfm01gv7ZtcwhfS2TgyDVPjeWP2I24aF52EW5kifQLiKEUDE98rYb/eo4usoZ0nGPcncYk2LkmEp7+XJ2fmypz1aXltdup13gA8jZpnw2i8k+Bi97+xyFZEYmww55+TqHJbZEHPMjLLH1SOEEfHKY+VDBHzBGjUlwzyIQv2JMolKxPhNFC9+EoCWKGXssqsU0ManMWDd1U+VLBRiT/JRj/ZjhblDDY67HGhv5xPVhxtE+xNLo2/CZGxxI5WmHmxfgsNdvLwq2iW1auhFyY/GgZ5xIHxABIkAESpZAgUSsGAa1eYgsokBm7CQQpHTH8xwEg3ZKts+l8hwP7YKEZ0ohGWnWPLCOEzwcyymmD42hUybF9j34BsEDLknsO/WdE0uDi9aXCvYFJ7Fh6VdeTou0AxKgLsbRWuYwsSubiBXLRDkuCC+WUHrSiV3yNW230+naEx5Op0XqN2HzYhx+F4MptiyXlxN7Swb9zf1RdLhlISziOu2bHcgxqLZyhKCTBZTRNrEKBfJN7LIUKVhJQ+Ob9mKuYm7oDGqUchwOXYW+ia6lcGnEQCpfZFn/N4Y6n4GiNCB03dg6WWxOYE4aBNTpCOqZNJEPxuQyc4MDUSB/fQQB7lS/XBQ/1pYKkye28Q+N+s2Yb/tJ9J4IEAEiUNoECiRiAbGkjDmrmnO1iBYZtJiZLk9gkdIdzxM3QXvYgPBg7ENr3CE0QCpWPtTXjlXA9gaQ0JbwSe9ilLE1pXxiUR+rWLn+IQ4rDEp1K872n8dZf60tLthJSMnibg3LVwfQ0/c3jE98ib72Q1CEKLb1q+gDpeZN9I2M4lNtYs2jiFgVy5M9qFUUeBvewcDIFUyMxnA+ntSEjiifeZsQ6ItkLuFl70tL+/LZydei5Uu18RUQXKj0/x4Dn09iQd1cm7LaLJaxYnvR0H0RIxNXMBr7BPEkF19ObbIbwfWVvp2pZX1REXeqbTtrLGfmfQ2xOe5dd/oT68j+Av7QRXw+OQ9VXcREoN5YYuvvGBvo1JfYCv7DedcvS7Hi+ytEZgr/CjfCxRT4mn+HAXPb1SgGR6d1ocongl74CF3NB+HJtnKAWYe9fD186MK5LjTXeMEncHUO/VuKbd/AT2Pvae2vaT+PkbHP9Mme8trR9tUYzLr4QhnXEW7wgrFKNAf70hNKo8a2sXzJvumvkLX+B9cQfqUNwcgniPZ/hDPamtS2+HstlrkMewMT6WXC5DbQMREgAkSgxAkUTMSangRzs4AAAh2NqOAxcKYnLU1bvRPFcRcD8x5F23sBBLpeR1PXl/iJZ7GICXGOuEnZRawKfTY8g1LZiNO8rMAZnGrowGd8+0dNaJyCr+ZldGhpvK7/Mnbv2ofj/Teh38bFkKsXR7t6pZuSvne6eWMVzSnaV+tGBcxTj/YL16T1SJ2ElCxi/wdz8U59Mwne9/L5Gf26gdT1j40NE9yofuUEjj6SJ5Z3At9Y4A/wc6GixVt6UdM5hHlt5oxcvg+HuwcwcOYX6SW87H1oaV8+O40NFVZuoK+lSp+Mpa0g8ChtcrCZn85jsj9olRjWoXN4TlonVvYO243g741rWfIyap7DuS/NGfpK5asIT/wgiTp7OSpWkn3mZhaaJ51nWfkWsc5n9eXvlANoCl7KXJLKXpT2Xnx/DRErPL1GjKzed8YkNvF7ofWHAk/NCQSi32A+Z7iBrXxT8HtR0/JbRCfvZtqqLuHWZ++hwdjJT6k8gdCY2MVPPGg7b3AgYmot7dZsEX0jrp8s9acmcLah0pjEx218BcH4t9L3DNBjgKWl0hy50odEgAgQgdIlUDgRy2+xc5cQbNJ3uTJ/3D01aApNwBjEk0ivYm74XX3XIe3H34e67kv6zkQWMSFOETcpu4jVJxGlZzHzGyG/KbyJ2AxfQHwDPyV60XZU3DCM9Lr/Quiv8k1DCDHjRmq/uYobq2gOvRaegBA2pTR8ukU267tBbWY3qsJ3I5VYCALGRLBSWd6vEMioDCJABEqOQAFFbMmxI4MLTECPSWSwDIMXuI6dVtyW2WwscWUJ79lpxlN7shPQlhQsl9bNzZ6VUogAESACpUqARGyp9vxOsFu9jeEPzyE6PIbEuIhJPILgpLbn0U5oYeHbsG02G/HNrucQun6/8HZQiVtIYB3z8TZ4facxvMhDouiPCBABIkAEnAiQiHWiQp9tDwE+ueWIz4hl1eMCe0ZuZ8Yubk9rtqeWUrR5e8hSLUSACBABIlBiBEjElliHk7lEgAgQASJABIgAESgGAiRii6EXyQYiQASIABEgAkSACJQYARKxJdbhZC4RIAJEgAgQASJABIqBAInYYuhFsoEIEAEiQASIABEgAiVGgERsiXU4mUsEiAARIAJEgAgQgWIgQCK2GHqRbCACRIAIEAEiQASIQIkRIBFbYh1O5hIBIkAEiAARIAJEoBgIkIgthl4kG4gAESACRIAIEAEiUGIESMSWWIeTuUSACBABIkAEiAARKAYCJGKLoRfJBiJABIgAESACRIAIlBgBErEl1uFkLhEgAkSACBABIkAEioEAidhi6EWygQgQASJABIgAESACJUaARGyJdTiZSwSIABEgAkSACBCBYiBAIrYYepFsIAJEgAgQASJABIhAiREgEVtiHU7mEgEiQASIABEgAkSgGAiQiC2GXiyUDesJBDwMzBNAYl0UmkIiUA3GqhFIpMSHj/e6/A8Ea8vhPfEp5tTHK+KJznK0TyrxabdPasqTH25gcfg0fK5m9M+saMWpqauItFRBYbyPn0P38L9hdvOTV+hcgrqE6eGzaK4sc7iGVKzPXUKw6YDRpnq0X7iGlNO1sfw1AvtdYKwZ0TmHVudMX8XceC9OH62EIs6fi6KRc3D49wQSNi4qlhO/xX6etzGKuQxLs6VvIHX9Y7RotivwHH4Xw3Or+tn56ld/wFjPK6jxKHobvS8gMHLbaNc65qLNjm23fE/Ve7geOYlKhdvpw+HuIcytp+GqqRsY7HwWHm6XUoXm0H9b0rEYh99lZyTxz5ees+8FRH4NjCF8+hgqFA8ao7MiAch5/gYW46/DZe8/3j/qIsa7D0KpDyO5lrY3XTAdEQEiUCwESMQWS08Wwg5HkVdAEZu6jEBNObwvDmDmYSEa/IhlONonlfFY7dtAauY6kj86CCup6G0/XJtCuN6L/YGvscwrV2cRO1EB5n0eXb3n0NWwF0x5HuGklurcPDWFmX/exI+PqwNS/8Q5IVA1sWF7ENIeGtxwHe7G/xn7b/zfwDG42AG0D9+Ftcp13I35DcEiiSiz1TnSuZALvwyvJtQqUNf8ERKph8DKNEYHo4hGxf8AejvqobA9aIndttav3kasZY8uGp1EbJZ0de5TnPC64G04g97eM2jwKmlhla9+9VtEjh1FW+jPGDDOTfeXipXprzBotp3bEEZHXTmYy4/YXX4trmEu9hq8bC8aus6ht+t5eFk56sNTWNOuh3mMdtaAeY8j+MUohkIvwcv24Xj/TT2dXzLTEdSzctR1hNOcBr/C9IreOznT8/W91ndc5P8JTV4u1MtQUfcqQomf9F7Ne/4qpiMvgCn16OgdMNs3ODoN/sim3oniuMvpWjIvGjogAkSgCAiQiC2CTiyYCY4ir4AitmANfcyCHO17zLK001aQDDdAKYSX+kmakXGuiuXxd7CHPYvQ1H1+Szc8iWWoDV3DGlSsJcOoVxTs6RrTRa69jI0bCB9y27zy9kx53q+Oo/uZ1xAe/xfGMrz5Ku6P/gpuVoG24QW9oKVhtJUxlLUNY0ku2hDkHo/b2RObNX0d88OdqGRu1LRHkUxtyKXajn/GeFe1JAJFssHKVQ5PuYJMT2y29HtIBA6BmX2wjGT4ee1a6Rr/WRQuvWarn2cRIr0MB8M34Pj8tzyGrj0KXC0x3OUaU3imaz/AFPdGaozKwfa8g/FlFQ+TYRxkLhwIfoMHvIq1awjVloEd6MHkA12kricC8OS4tnOm5+x73Wx1/v/hjUoXlJq3EE3esz445D3f+F2yjBpJONX/IN66D8qxfsxYn4ikTHRIBIjAbifwdETs8jcI1fvAvCfQfyuHJ2i3091t7XcUeSRis3fjTmWzhESgVhIky5gK1YOxeoSmjO/bxjWEqlxgVSFMOWk7x2shO4ncKU6cxJC45J016lSaY5g3CxRhEcfgf7XKQcTmSDeEnOvYx/gu37CyXQSK+tW7GG4/ANfxk3h1r4OIzZbuwHdjKoQq5kJV6BoykGer32iHLhgV7AtOZp7LH1K0h5a0FzmzLvkauIfZ/uNgbD86RheNGu5jMshFt7hGNjAfOwmFvYDItBECIZhor/nSRWanvudphsh3HUfku1z3gGzn30Gs2QdWH8G0o0g1hL/S4hx+IppHr0SACOxqAk9FxOo/sHqcVnPszhMCXMXs0PvwN7yE0CT3OuX620Bq+kv0dr2KwxU8Rs8Wg2U5dRVzQ2dQw+PJnIYQLXmL5I2jcLHfRIT4OI5zX4Sd4/2wirmRHjRpsYAMSsVJDPAboYgDNHnyeLghdB/2acOJlS1v4/RznrT3T8vvwS/PDeaI5VzF3NiHRsxlGSqb/4CJBTG0v4HU1EW01/Hy3ah54w287LbH/Ep9Z2lfPjtnEW302OISxVB3rjblsZk3Z/0OxkIn9FhGHqv4wWUsaDdq0aYanAq8hcM8XtJkKdnx8AbCB8vg7hiF/o0wbviu1xFfFPLpB8T9ex1EIdL9JMcbinrWb2Mk+FI6zrIzhlvG8LLUAtuh/RrSk/XfAbt3uBxHIjfT3kbNg+jBnq4v8KXmzRWMjSqypgvvZTWcPZ9yEzNFoJ4qPNbV6BqN6/HigoOWIUf6fAzNCoPLH4eQiWaMqaUMXlC2+kUbH2Cm/0UorAodoz+KD6VXuxdXCMy98Md/MPKJGFL+mzflEOcuri3hGeejDEfBLNeMVCXypYu8zn2v3o2hxZVjJECcDufzYVzjFr7mOfqBHu4g7LEl0lsiQASKgsBTEbFQ7yLxx7fh7/wEUzmH+DbDOMuPnP1U9R6m+k+hmotSpRJHT72DUGQAn0/OW4extPM2sDTxPmq1CREkYq0Tu8TNjnOshf/sx0a8HTOHMh/eiuCI4kJlay9Gvh7Bpx/9BVeX1bQ4EjfxlasIHS434jR7EWjcp4tCMUQoRCVzo9rfgz4RG2jG/alY++5jHHO5UdNxEWNDZ9HkdcHXPoRFLvqMmEtLHCgXZqJ8+zUi6tPal8/OVSwkxxDxV4CxCvgjo0gkbmJhPU+b8tmMZXwXOQ6X8gw6Br40YhVFbJ/cpiPoin/nPAlKG5YvR0P/9/q1bdzwrXaL743wvEkw1heQvBKBnwt+tx+RywkkkgtYxxImg0egKIfQ3jeES31vokZxozZwGUuO3jBRpqhL8rryJPUO4q/tB+Pl/fkTnG3aB6X2fUwsCaFtiDstdveuIbxkEZsjXcSpasPnK1hITuLqbMrhu84bYheBot3659oEoeUJBxGbPV0frmewTBITD4kZ3u9s9fMHmnlMxYNo5LG1LVHMSBOzRCuR4cU1BKYtFED35nJP8GVc1TzzVegav2cUI64t8WB/D+NdVXr/X9Gva7M+7SBfusjt1PfyA8ZPWF+4icTVWedrOZuIXR1HVzmD2x/BFe3aFPVJr1qeLJ5vKRsdEgEisHsJPB0RW1BeTj+S9gpWcSd2Cj4uhlojSMw7DY+Jc1Ss34mh1eeC9/jL+CW/kQvRJbIU66u4yVpEnp2vuNlJXhQhksrexPDSA2PmtE2wcGYWkfgQS8Nvoox50BBJarOu1Zl+HOMPDqJ+kd+I44Pw/phxlD9itKMKrOyU4WE0htE179EDY/ayB8f6pzXxklG+vR9FfRYRm81OHploZ8MLzNWmtfw2L42gw6egrDWuC/HVCQT2KoZHT7BnkpfVbgSfw9WPBpMRF0KPseqE0zlGzKoZdymEYlZvnWibEyc9TV0cQrvPmIGvHEFwUoqGVWcQPe6D63gUd1RRhiRic6UbbVWeeQknNU8/H/lxo6bzb9YZ+LwZGSLQaJs2OciH49EZqIKH9FugTx5yTtcFYxYRK65vgSdL/Wa/8Qcvrx9RY5UJcZrRyoxQAufrkl8GPMaVt+kKFrXvnhxjex9ToWel0SnbSEPG6gX50kUrRb/JvwcLGG6r0B5emk/W66sjMAal5gyGxOoN4nTH75j0W2KMFiiVJxAau2NdVSJjRMIslA6IABEoEgIFErHi5iqe4g06FlGQ+cOTdTg/NYFQU43546Yvg+NDXftFyXMr6rQvASPep2925o1y/7sYN708WXpwfRrRlgooNe9hbP6yg/cly3nF8LG4UVtusvabkOAu97W4oenMH0z24ABzobJtELdkT7vlerDH4DmILUt+DthW98YkgvsUKS5OpB9CcPIHw3N3FOGkvsSUKQos9kkdZ6lPlJXdTkexkLNNd21xh5k2b0wGsY+5UR/51vAaGmz3BTG54dQmqf3GoS5WJNGwqX61leNwjl6uLHycPX62krKIfW77vzHU+QwU70s4O9CjzVJXaroxMs/DQcRktEMIJLi3UFyH4nudO10X8ny04Bl0xG4ilfoO8a4jUJghOs1GZhvKN2I29/8WCT6KIHiYIjZ3elowSst1iTIs11+2+jmCFGavfo3R2Fn4q91Z5hA4eXEFK+ka0C41IWITWBcTv7TVCf4bY58GtNUTLEt0cUa8DYnPEdRGSayrF2gI86Wb/Sa1Rf0e/Q3l+kNFRwy3Uj9jOv4O6nj4hfbAYnaO1O/S+VKymppB4gvuqVYc+BjfHbPPpBPpkAgQgaIgsL0i1lxW5hOE2w5KT/02lkJMVDSiIxBAIPAbnG7ka0kq6aFiiGVmziPQyJe/2YPGwHlzqZWouRRMOhasITSEieHPEI3+BfGv/qUN/VprXsFM1A+vUo/AxKKj98Wav8jeOd5k7TdEJyFlFbFQFzDWXaet/WmZeSz6VbupGHGaYt1OjtJevyW/lsHw8hrC0og7zFzrk9/wpoyYVSF6HMq3d5+lvk3Y6XSDztmmf+mTUbLaLGIZxYOY9KoJH6c22Y0QHjfppi8mGVnEk+hXSeTLRdn7wv4AoeXdXHvSAlRqk7kE1H68Fr8DFRtYGn8X+/l3vGMES4aXVTkSwS1tOr5or9GfedKFiEzHBQN6HCYDa+jHrBn+4CQCxRJNUnyu4GEIIt0Lmz1dxP07hhMcDCNpLjHgXL/cFWlBb7CREx29uGISl8xbXBfiIUSOF1fgqTuJtkYeGuM8kUtdjKO1jGWdCJg9XfSb1BbB0v0rjN43OkJ49dlx9M9qi4AZVjqcL9uvHfPf+FMoy5g0RyI2AxV9QASKjMD2ilgTXp6bn0VMGCeJJWCUk4jNi5g5npbvR06kS4LAHII6icj19NIu6t0v8JqvDPu7x/QYP/FjWypP8sJeR7EjbkJOfWcTsbxb1HtIDr6tTz7ytSPO16609KvDOfb6Lfl5oba6RXpdAPFEAgnz/xpmU98/HRH7RG0S9rlRF/hcsidhxAyKdNk7bHw/pJcMTywM1pZhf2NiV8b3ySjI3hd29lq2zbXH8TvKRWiTF0wWMnJYyo2LWTcj4A8tnsZGHDW+x5kPMenvuqOIlK9vRxEo7EqXY62jAo2N/8s2qU/OW41ANKy13zLxyNgcwLL6gmP9UmeKQyMGlGkeefFhNi+uaL/TxC4fHCfTqtPoP+YBswhsUQ9/dfi+yslZ08Xvr/j9yPYw6ZBPKz/b55bKbb8tIk1vs4W3SKJXIkAEioLA7hGxWcVqvh858eN7CB3RBGb58DafLPFFAEddLL34uFjyxXcaw2IGt7iRl4qI5Qus17utwgKLGO3YD2Z6SMQNUhZSgrHk9dS+HsbyR8zw/giBp/EU5UqeQMFbiAxLfl6grW5xY3e88RoTT1iO8u1fYUt9trq0vHY7Ha69nG3KZ7OK1fFulAte9vbZ7c9INz7Q7JDFivDMSZO4hGDMmGRklGHvC0178OFo4cnj+Z4gnMChfFMocWF95z9Img8lxcaFUQAAIABJREFU/AFl1JhE9ywC8Su4ems6d/rXEfx/9tUBRJ3m9fIQS6Nvw5exwYGqTzaS679sTHTTHpiu4db0DetDhi199t5kxhJmYm3W9BJb2ep36FhxXVn6y4i/Nic6ps/LXGJL9JV0DZjZVSxP9qBWScePm0niwPG3QSTyh1an3w6e7vAdgdNqGSKf9H3VihefSyJYqlYc6isR2GLFjdAey4OMOIFeiQARKAoCJSRi7QLLmFxgiBx9eJDBdbQLfxY74XwSQCMfQqtuQ9gMTyiKfs9ihDG0yUQcIoAH3yB4wCWtOboZcScVrwkqY33LDJHYYtkhyRyS3KyIhfAmvoj+GW3JdqliMQM6fWN+vIlducS60w02d5vmonlsFt46x0XandhLJovD+6PocMtiU3js7MtZudI7eolzxasQfKIv+OdG2woysUt4YhWp78S1ZhFqokGCtf17nCVdeBbNSYFiByppoh6M3wAHEShKNV8Fj2wPtBnp4rskNpwQmx1I361N1y/if23hBPaJdmZj05PVmH2zAxHja+blS779DZ01biiHP8R1x+XSxFJitvqlMsTmGVooiPk5PxD9JotQsWSYtPyZEMFSf+nFOJ1vqYAba2wkYVuCTOMjx5fbz6P3RIAI7HYCBRKxIpZPvuFLE7kyfvjz3IwtYkcgzvZjlu1zcZ6D90tLsp4nYuisw4byEGG2m6eopxheVaxc/xCHFQaluhVn+8/jrL8WCqtAS3Tatm+73Neyh3INy1cH0NP3N4xPfIm+9kNQhCi29auYcKfUvIm+kVF8qk28cVidwLx+7NeN8CAp8Da8g4GRK5gYjeF8PKlvPSlmvnubEOiLZC7hZe8yS/vsdfHMsp188pGIt3ah0v97DHw+iQV1c23KarNYxopvF9p9ESMTVzAa+wTxZCrTE21vv3hvCALLzldrSUSOea3LmXlfQ2xOjj8UBfBXsY7sL+APXdSXolMXMRGoN5bY+jvGBjr1JbaC/3De9csszvpd0z/ewE+jZ1DJXKhoPov42CV8GmiCl4kYWfNk40CUke17aE/fwE9j72ntq2k/j5Gxz/TJSfJWu7lEoL36DJFqy5CRLpZa49fmGfT++T19mawTn2JOxOPmqP/hrQt4taUL5/oHMND7G33NZcvmMGJ1j/QGB9YWGUu1advOhvFnjW0FTsRmjQmD9zE9OoBzXc2o8Si2lQFUPLj+J7zy2vuIDAyg/9yv0cjXfDZXSMiXLrdE9IssYgH1p6/QzYWz9t3/Cl8Ej1u3xTWLcDr/Pq6H2/BasBcD0T6cO9OESkXJWIJM90bXIpCQVrwwy6UDIkAEioFAgUQsICYymEsDcToWUSDjEj/AWZ6SHc9z+jHjZRp7aLN9aI3/x2EdSBH0L+0bzk8TMbaWOEG5jVLslimibOlF+da6UQHz1KP9wjVpDcd84u5/MBfv1G6M2gOBfH5Gv/K90z82Nkxwo/qVEzjKPd/C+5eR36luvrHAH+Cv8Roxil7UdA5hXhMKcvk+HO4ewMCZX6TLt/efpT6nuuwilo+o30BfS5U2iS0dr7jZNjnYzNvENzv4oFViWIfO4Tmomw0ngBE+YPFqcY/blwg08A0OGJTKVxGe+MG6JJGFh4qVZJ+5mYW5U9TKt4h1PquvHKIcQFPwUuaSVZZy+Jvs313rphgvoGvwhnStyQWJMjYrYvkQ9xJuffYeGrSNTbjN8jJM4jcomwiU697Eb0GGiOXn8+/S+8as/zJUtoQxYS7vl6v+h0hN/hEt5jVdhoqGbgxatmbdhBeZb0wReAFeHjusVKElfAXz5jqzxrXsOYiWwCAmzXbxdj9EKhEyuTHmRU1LD+K3lozf13zpMjvRb1YRyx8AU7c+x3sNlfp3J2MJL1GG0/k/IXG2CRViHW9uQ/Cv1pVQYHh7tWX/zFl0olB6JQJEoEgIFEzEmntzMx/q/L9GgK8q0NGICv4D6iACxfA98x5F23sBBLpeR1PXl/iJg7WICUHa6ceMp6nQl3TiN6lGnOZlBc7gVEMHPhMTwMQC8/ym+96fMDDQi9+11EBh5Tgcuqp57UQtllfHG5MlB70pJAHBO+tWkoWsbIeUtUU26/GX0nDtDjGXmkEEtoWAFk7i1Ve62JYKqRIiQASeBoHCiVjuJ5q7hGATXwpLGob31KApNAE+GGr9W8Xc8Lv67HUtvw913Zf07TUfScTqM+GnLryFOr4Np1aWAk/Nm4jNiE0NVKzPT+DjjmPS07vdw2htnfZOCAwHEe6Qmz56QgJicoZlGPwJy9zpp2+ZzcYSVJaRkZ0Og9pHBApCQMXa1AeoFWFMBSmTCiECRGAnEiigiN2J5lGbdjQB9TaGPzyH6PAYEuMiZtG2a9OONuAxGrdtNhvxza7nELp+/zEaSqcQgV1KQJ1DvHW/tKb4LrWDmk0EiEBeAiRi8yKiDFtG4ME1hI/4JO/5K+gZuZ0jTnPLWrJ9BZeizdtHl2oiAkSACBCBEiJAIraEOptMJQJEgAgQASJABIhAsRAgEVssPUl2EAEiQASIABEgAkSghAiQiC2hziZTiQARIAJEgAgQASJQLARIxBZLT5IdRIAIEAEiQASIABEoIQIkYkuos8lUIkAEiAARIAJEgAgUCwESscXSk2QHESACRIAIEAEiQARKiACJ2BLqbDKVCBABIkAEiAARIALFQoBEbLH0JNlBBIgAESACRIAIEIESIkAitoQ6m0wlAkSACBABIkAEiECxECARWyw9SXYQASJABIgAESACRKCECJCILaHOJlOJABEgAkSACBABIlAsBEjEFktPkh1EgAgQASJABIgAESghAiRiS6izyVQiQASIABEgAkSACBQLARKxxdKTZAcRIAJEgAgQASJABEqIAInYEupsMpUIEAEiQASIABEgAsVCgERssfQk2UEEiAARIAJEgAgQgRIiQCK2hDqbTCUCRIAIEAEiQASIQLEQ2CIRu4HU7D8xHBtEdDCO0clZpFQAK9MYHYwiGhX/n2J0+n6xsCwKO9TUDcQCJ1DjUcAYA2N74Y//AGAdc9FmMOZBY3R2i22dRbTRA8aaEZ1b3+K69OLXEwF4GIMnkEC2GtXUNVxor9fyMXYU4eRKgdtG35sCA6XiiAARIAJEoIgJFF7EqvdwPfwyvJoA4iLI+G/ox+xcFI3ivfa6HYKoiHuv0Kaps4idqABTDqDxzEfoH+hF8LVfIzrzYItF7AZSM9eR/FHIx50oYu8hETgExg6gOXge0Qt/w1TqYeF6gL43hWNJJREBIkAEiEBJECiwiFWxnPgt9jMF3qaPMDG/CqgpzCaGMDj6PdZMpNvp1ROVrmJ26H34G15CaJK8v4KK/LoxFUIVc2F/4Gssywna8Vb12QqS4QYorBqBRMqodQeK2Puj6HAzsINhJAuoXXWDi+R7oy5h+u+96Dp5BBUKf3jN4Ulf/zeGOp+Bsi2e/YyLmT4gAkSACBCBIiBQYBHLBclRMLYfHaOLOfBslSDKUSVSSASqwSxiKVf+UkvL1yf50h+Xl1O/7EARK0YRGqOYe1xTs563+783PNSiv7UWCmNQKhpwqvssIgN/xeSC8K5LxquLmAjUa3m3JzxFqpsOiQARIAJEoGgIFFjEOgkSJ1ZbJYic6hKfbbZtIn+pvap4MNmDA0yBr30IizyG2fIn+syNZ04H0HnYB8YUeA6/i+G51XTO9dsYCb6ESs0T58PhzhhurRiFaULQhf2n3sGvtfOlcBMzzIR776aNmNjDOB18C4e1+FwfDncPYW5dL0v96Qo+aDloxKcq8NS9hQtT96ClavV48Mtzg4i0VOliyfMcuof/nY53Ve9h6sJbqONlK8/gjdNNcGeJiRXxsmZojJlvFXMjPWiqLDNY/BqxW8LLbwjx/a0I/Po5eHJ6HDd7bYo+2M4wnE20bX0Gsdb9YEotWiMTmDf6KH1RyEeruBM7BR+rwPHmo3Dn5CKfR8dEgAgQASJABKwECiRixc3VSZQwME8ACYtDRuTPcTNev4PxcLsuMrjAUQ6gKfAZkqkNyYIVJPtajKFLo25PPdovXNMnkmk5RV1Z2pZryFOqqSQO16cRbakAY/vQ2POVKRh12yWOSi38Z8+jL9CkxT67WmK4q6nHJUwGj0BRDqG9bwiX+t5EjeJGbeAylni68GayctR1fYHp1DIWkmOI+HmdFfBHRpFI3MTC+owhYhmU6lac7Y8g0LgPjO1BS+y2LlQfTKH/Nx8hNnoZ4/83gKMuBqU+jOSaKtXjRrW/B329Z9DgVcBcfsTu8gtRxfJkD2oVBd6GM+gV6aY4tfa2mprF1XgAdfw6rAsgnkjg6uySUYYbNe3ncenSebTXuKHUvo+JJX6NCm8yg1L3DuLTS3q7LUVLTE0RL12nu+J7s4HF4dPw8TCU7jG9ny02ym9UrM9E0eItR033V5if4JPpcvwGyKfSMREgAkSACBABG4ECiVgVK9NfYTB6HoHGPZrYaAycT69C8PkkFnQHmlG9uHlnuYGpCxjrroPCylBx9L/QFfgNTjcegMJjbY/34xYXKtrfGub+2oPO34XRH41iIPI+Wuu4h/AA2ofvGqIhT9sGv8K08BQapZbyi5q6inATF4wKvI2/x5jpZRV9pmBP15geM7txDaEqF5j7Vxi9rwJLw2grYzBFrXobsZY9YK7XEV/cSItLkV8D7eTpEwKwGl3jP2u59HhdBnfHKISvM91PPyDu3wvGXkBkejVdz553ML7MrxUxXF+BtuEFAEZ+5UX0a5PWHmCm/0XNY5t1dQIhwM1wggUMt1VIwngdd2N+uMzVHIQNuUJr8lybu+J7I1j+EqGRcXNFkq+SC2mvt+go4yFJCH3dw53lN0CcQ69EgAgQASJABLIQKJCIFaU7CRKRJr8KQeR8A3t4K4IjCoOr6QJmxNCkuojx7oNgrAodoz/KhVmO1TtRHHcxlLUNY8mSstm2WU4qyTdq6iZiHXzSDZM8i059JoSaPoFHFyVlOBi+AX3ukxCPxqStDCHI8Tr1i7VcrRMcz+UpKtYXruJjzZubrR5b29cTCHisk7REyMCmRaxDGQ+TYRw0vbkONmS9mpwYOGW22WHL8lS+N4JDhie5DJUtH+O6OXKyjrvxdvjYQXSPL2oPmCRibR1Ib4kAESACROCRCOxAEfv/s/e+P3FVa///+gP2k3nIAxISMgkPmjQN4UGbxsCDNjUkpdEQUjWENt6BxmOmeiKoKdUoaOycnArJKdXTyW0nKtQyX86no5/O8Vu0jCdQZc6Rfi3pPdXiDVqOhVLLPeWGMnS/v1l777Vn7R+zZ4ApP8plUtmzf6x1rde1flx7rWtdewFj4We15WV91ixTHvfZOG7EJHGl/3NEIn9D7OuPEOC7yM0ZM/F8voaCuH+L/zU335SgJjSKRdc4sbKhNu8SR9ZmdLkaom56kdM1/FAcz8r+qGIJPk8j1pEWsGwj1iUN011Cq3suZchapdwYuN1s42m5ZZ3ajeBQeRyRxDhSKm+P13AxeBA+JuoOgLnvENxZZPG3JiPWokD6QQSIABEgAssksAGNWI8BXQyYwkBN/4L+dr5pRhgx0l9xjwnEI13zHjqQCagzMRwtEjOWbgaUbKitpRGbxtRAu+Zvy/1Rh8YnMSxHnrDXE7sB7rj+OBixHvXbXt5Ctht72qICGa4lekiyRdyKHIGP+VHbdtZ0MzofrEcRK0Jl84foi4+h0J+OEKLQXyJABIgAEXg8CWxAIzbfGSXhg6hvrBkaT2lLlOq9frTQTGxhaqtYKt7RgZGlXEZs2pjNXAN3AnUckQY/WNFr6J/ljgs2A85hWNlkXxhCW4kwznVUy56JFWykuLHr606wTu0mW/xcwUfbnCb0I71k2l88HS+dhanClAoRIAJEgAg8vgTWyYhVcT/+BoqZbPBkIOfn23cfIx38C0q70TZ0L/OwGDwdg6IY5HfgaOzfLjvFM0nQESegYnH0NPbwkFutA5i1z2ZqkOSZ2DQwE0PAl8fGLotuhIGT42MHsmEqdGzu3p9BvHVnJgawfK8mp82IFRvOVrWxy9jQZEY8EC9V4jO9NjaelcqNgdsDG7DdqP9G7OgOMOUZhJLiExmi7jD4AjFkixhN7gRuOqZzRIAIEAEikC+BdTJiAfV2FE0+BuavRfOJIIJtL6Ou+QtMccnzik4gwiTxMEwv4P3weX2Z8tM2LdyS0ydWxEFlUCrqcYznGXwbr9S14vMpOWxXvuget/seYjZ+AgcDJxDq6UXPmbdQz+Of+o+g5yY3TmyGoFZ8m6Em/Gi1EFtfYbD3uB5iq+OfejQDh3HJE1nCTOyP8DEfKgJ/Qa+2I9+WLr/N8uwdxFt3g7EncDTcj0EjxJb5IQvLvfxhu+wiLBSPwHAC3d0nUM9DcJmbsrTCWf/nSHMJs8MnsUfRVwIGBj9DqxZiqxMjWkQElzJYU5R+5WvEbsR2o2L+2gfYr/B2dRgnzp5Hb/hPaKosBlPq0HVNfIVNKq5xSEaskwmdIQJEgAgQgfwJrJsRCyxgsv89I5A9X2b0o+rVi5gU0bPyiROrzuJmrBNNVX7NADGD0ZdWoi4Yx107BznAvbacqaC06jVEx6Vg/fZntszvBUzE2lFbzgP3G/po+jOiSeMDAg5DkINxMdTmf0T0+FO6nzKP7dtxORNv1mEIGnDnr6NbfJRAc11wSdf2rDp9Bacb+YcM+IcOmvF+69OZT9fa7nUasfxF6R6uhV/UP8rAP4QQO4e3Sxnyjk6giX4fN6NvGXW4CBUNnRgwQ5K5lCFrXcrfiN2Y7WYBU4lP0FpbYXyFy/bxiSzlJiM2Cxg6TQSIABEgAnkRKLARm1eedBMRIAJEgAgQASJABIgAEVgVATJiOT51CiNf9Jm7piORiOsx7aBeVV2jh4kAESACRIAIEAEiUDACZMRylGKjkH3HtP23ZUNSwXRACREBIkAEiAARIAJEgAgskwAZscsERrcTASJABIgAESACRIAIrD8BMmLXXwckAREgAkSACBABIkAEiMAyCZARu0xgdDsRIAJEgAgQASJABIjA+hMgI3b9dUASEAEiQASIABEgAkSACCyTABmxywRGtxMBIkAEiAARIAJEgAisPwEyYtdfByQBESACRIAIEAEiQASIwDIJkBG7TGB0OxEgAkSACBABIkAEiMD6EyAjdv11QBIQASJABIgAESACRIAILJMAGbHLBEa3EwEiQASIABEgAkSACKw/ATJi118HJAERIAJEgAgQASJABIjAMgmQEbtMYHQ7ESACRIAIEAEiQASIwPoTICN2/XVAEhABIkAEiAARIAJEgAgskwAZscsERrcTASJABIgAESACRIAIrD8BMmLXXwckAREgAkSACBABIkAEiMAyCZARu0xgj/Xt6QSCpQysNIhEWpQ0jclIIxgrRX1kQpz0+DuBSH0pGGtEZNJIRL2H0XOvo7pUAWNF2Bu6joceKTz6SyrmRjqxRynHkegE1KwZzmKk4wAU/0uITi5mvWt1F1SkJwcRaq5BKWNg4p9FB6vLoTBP58tsFblNRlDPy18fwaRbMnP/RMeeEviPXMBkdqW5PWk9NxNDwCex1phL9VW+O5dMWIs6Igu01Y6XkBrrx6nG3VAYQ2kwAbNr4ijUe7gWfhEVCtdnGfa3X8JkOkvl2Iq6LFSb2WrVjsq7aQiQEbtpVLUGgj4SI1bFXOJP2Ml8KG88iZ5IL2Kj99agMF5ZPERq+M+oUnbgcORnD4P6LoaD+6H4/4DI+IJXgiu/tphE+KAfzH8IHRcHkfhHCI1F9heJlSfPn1RT4/hX8o6HsZ5P+vkyyyetLPfkMjJSVxCsKoH/cC/GzbegJaTGryF5x2LaZMlAP62OhVHDSlDdGkIkEtH/9X2DsXkX4yeXTHCrI8uXyVPgx+bicrn8jpEzjYaBqr90WI3YRUxGX4KfbUdd2xmcbXsGflaCmtAoXF85t4Iu1RTG/3UDd0RVdm0zj02FooIQATwiI3YJqYl/oT/ah0hfDPGRCaR4o5ofQ7zPGDS0weMC4mP3SQ0bhcAjMWJnEG/dCcZqEUrOb5SSbhA5VCwkgtguz0676mDl4i4lQ9inuMxgrTzJR/dkTiPDnvU8kqE6KKwSwUTKfjHr73QiiNJ8n1kjmbIK+9hcWImu7mGovR6B0CAmBk9oKxUWI3buOwR3+sD2nMboogosjiJUUwK27R0MzQkrTgL4uOty6TpC+4ptK2lS+emQCDyGBApvxPLlndB/wC+WRcXfuh5MiE5EnMt7ifoxJL8Ri+RqQK3WncDFvWAjln1dZHJh66qDlQunG2yPqxGbQiJYCZavQaphXMJU9EUo7FmEx/KYXRd9VjYXB4dqViKTI5HH8MTquLjV46XRLuxmPuzu+gFLGrE5jHbVgLEadI3OORk+7roscN/hBEhniMDGI1BgI1YsHSvwN3yI4akFvpaJicQl9MV/lpZ4XAbvR85mAROXTiJQ9zy6RnLM/qr3kIy8jirF2w9UTf2Er86+gxf3l2v+Wll9+R552QqUgWsn6NSVevdbnG7aa/hwKiitfh3nRu8Zy9WS0ToxpPvYmi8tXsvkIp8anOg+jaaKIt3H7XgUN7VlXnG9Cq8EX8d+7l8rDIv0LQx2HdGXHZXdaDx9BdPmRAz3Ob2MTlPe3WiN/2bz89Xv6WjYpetR2YnDvT/hIaSyCP9eLGByoBMNmnwKSve/hehNoz5pg2QpnjvTh3CT7sPHSp9Ge/8vVj8+TV1iUJd9MxsREcxkn9j0rxjoeD7j92cy4b4CdzB8+g+o0vyNOd8atJz7ASlV8JLT5/V5HPPXPsB+pRh7Ov4Jl6EesORXhPLD5zH2UKQnt4kFTPa/p+tC2Y2m917F0+asr7j/EM5cDBn65LzeQ/9kFuNRGBlPtyPU/rRev/yH0Dl8W69b4rqmd6EbuXxZ/FotzYPPCNaC+f6I2Ixu+lgu23+IPLPJZKkjY4Y/uFMmXged9cueGYBsdVnMOu78ExLaLOMDjPcchsJ2oaX/V6M+Z2s7Rj4WvZZhv1mP8tRVNtmQ6/mV6irDx2nEipeR7QjEfjNuXMJM7I/wZZscWUtdanmVoPbUeZw1+gKl4kWEr/2GW6LN2H14s7ZlXjyD4XOncdHNB1iUTe5reTsR582+Uu5LRNvm9c79vHdfn9EPHRGB9SJQYCPWGCDYTrTGZzzKJDo9eUD0uL0gl4TR4LX0qCI99S+cO/6UYaBlk28JqdEeHK0s1jYqlde+jPauMHq/GJGMp4IIvbaJ5GnE4sEoet79ENH4FQz93yBqfQxKTQhJvqQnOlttY9ddTFz9AsFqzukpBGNXkLhquJY4SibqBANT9iBw6j9xKrAHiunjJl8/gLbYT7qLCubwU/gQfMqTaO39Gpe6nodfG9h1w0e9+w3aq4rB/M+g7ex59J4N4fMbKasR+/AGwgdKwCpeRnhgCPELYUSuztrKwn0uxeamYlS1fILLlz9BS1UxlD0nMTy7BIgBgxWjMtCJ7rNvo86vgPkCiN62+2xyl5sRxIJPgbFiVAe/QCJxA9Pzw7bNdcbGIWUfWrov4XL3a6jiBmjwCmY1Q/0+Rns6cDo6gOGhCwjW+sGUZxBK3kd6+ga+DQdQzBiKA2FcSXyP5PScMdAz+AIxOFvpAm6Gn4PCnsDR8Ff4Lv43fBj5AXOmoSLahGoYwwr8dW/j7KcnUM/Lam6+kfXF9fmx4bPI4GuK4rb5kiFVhGz8yo6hnxuc4ro2IC9gOjmIcKAcjJUjEI7r/LJt6jGzuYehtt1gxQGEv72B6Vz3izztOhUyWer7fXeZFpJZ6pcplHHgVZeFXnbgaOzfUB98j45dPqPd2Vnb2w5P3qse2Z9305WXbLmeX6muMnycRqwYa6z9uX6fPDubScOsP2uhS6neVDV/gN6zrdjPNxOWlKK0rAHB7jCC9TvA2DY0RX81JgCytWX+qpl5EVAqj+JUdwhtddszz6enkfw2jEAx0+v2lQQSyWmkhRxGm3Fv26Ju2ds84N3XS2zpkAisE4ECG7H5GIq8pKLTEwPiWpQ+l2xpTF1qNWbznkDt0xVZduSrSN+K4miZAqXyjwgnfnOZZVuL8jyCPIQRK7/Nm8fZdPUbYgHemYrlWdHZilkx++9scos6oWBb26A+Qzg3iLZtCtiuTow8ENcZilvjMOfSZwfQWqag6GgMM9wwWhhGcLtiGGgpjHRUg7EncDwub2wSaRllMjp6i7+dJqZd9mn0N5dLRmkat6MB+JgxGyQGDNMnTwy05Wjun3YpuE0OfofQgZiJne1Hc5Fk+Km/Itq0LctMopiJKkZN+EdtYHQO/jyP2xj58iuM8JUSx39GmUX+5nW7rAYLpQHhm9zXWcwMCtcFcb+kz4fXEdpbBFb0GvpnzZ1ZZg6mkbHtLcT5S4GZph8NkXGogq+YVUKuNp1JOnMkdGrMlvKZ+65/5N7Rnk0m07gQ9d1Fpqz1KyOVduRZlwF15hJaeL9z8FNcH3wH28yXNRfWlrajAp71aMF4qfPQladsLvk7dO3CxVZ8r5/OeuyenvM+KVVRf9ZClyKv7UEkFnjHZLQXyWh9mAxhL2Moau4Hf2W2/mdvy6LeVqJt6HftVsfz9r6D3yXk0NpMtrad7bxVIsDe19uv028isPYECmTEik5MXkaTjnMOiC4FT9/CUKjFCMvEZ+d2oSH4OZIpeQlwHsnuJpRr4VWM/MzlVJFmDtnMUFAqFm/+H7wb7EZ8bMY6UyeS4n/V2+hv2QXG9qJ9aMZ4g5Zv2MTHohP0VSPwXhDBIP/3Hlrr+cYsNyNWRXr6Kj7WZsPEjIjobMWgbv+djY/Qk5yP6PgPoWfif111sjTSgR0sY7SZMxY7OjDy4Ad07faBmQOJyNuWlzGrxSpeRd/NWUmnNtkFn70hJA0bTAwkmgFsGTB4XrZ8RPbmX5frIg+jzeiDshxvAgNAAAAgAElEQVSWTBjGgreZGJCexvWP9ZlXYZB7DurSo5lDYfhXorkvacx286s2WZdG0LFDAdvdhVGjSVrzst2vZWDjmclUP3LwAwTfkrYhLDiuuxsy9mRdf2tuTl+gQ5sN24FDPTckdyfpCUeeNpnyMWKz1i8pHwCedVljfB+jXXzmvhyVlaXGyx03kNxYy21nEd716HeXtmXVlbdsbvlbn8eKXjgyfKx1i593173zvkwaVoNOP2+pXwXUpTMvF3ld6pYpraMt23naDVReDVxCJFryyNa2s503pdFWoZx9vXydjonA+hAokBGrYn7sG/RFPkGwfpu2xFEf/CQTvsaxzO7W6UkA1GkMtldDYUXgS/VtwXdxrJ77KyrwH+rBTW3Zmt+/iMm/d+L4+yH0RCLoDZ/E0eoyMHOGgt+TQzbX0Doe8hkxJpW6UxgY/grRSAR9sUEkp91mtaQybYZDt07QdYCU/ULFy4owquydrf23YCue43/5s24Dqdzxu10XfnFyWsYxNwIno2jkLzjmzJ1QgpBBGMxLuDt4AlX8Xr5sH7luGG822S0DgpGWfE4+1i7b8xH5i78u1y06cLnu0IfNn9eYOV+5EQuYLhiMu01EjBdHmyxTTrZWA8J2v1ZkG0+BQfx18LMN1I7rcv3IPzqByI7/VWdiOMpDmknGuHzdaYzYZMrH8EG2+iXnlKMuG94o6q0IDmkxbstwiM9Oa0m4sZbZuLUd+ZmxHEbsgrEZLks7S8tpiVjSdl3L8ixfV9a6xQstNnGJfkdnqd8nv/RJjB3151Hp0p4ul8Gl/A55vNqynadLHpa+wyi3LQ/3tp2tzfM0vPp6iS0dEoF1IlAgI1ZI79JQxSXLX7dOL3PDw5thHFAYfA3nMC581tQZDLXvBWN8Y86dzM22I9HJO5do8pWNJ5hdPtGZmkHpxXI739gSvirNXNkE2ww/3TpBB4s0pgbaNb9M7hc6ND6JYcsOcXtna//NZ29vIJFISP9+wERKLGkKw5IDk3XmNRALn1IpTe57a+vAMypw0+8SUsk+HN/PX4J24qXYLah2A8UtPfmcfKxl5pZPRgrXembRgdvz1nPq1Nd4g/vlVr2G7qH/xu/DPHyUWNLnkzPW33LuXsdq6jr6NN9wBWUvXcRtc6OYoR9HWe15WeXU87LXBZsELmkKI1JpjGLKcV2uH8s3jAoik72OWOqsLJNb/ZLLL3hlqcu6tQrRv/HA/mtnxM4bRm422YTsctu163p1unLWY5Gn28auMjRGb8lw9WNH/ckYglr9KpguM+lmXqBdym+Tx7st23m65GHpO4zi2/LgZ51tW7/XeT5XX2/kQX+IwDoS2IBG7ALGws9qS2Z2P0I9pIrNJxLcKEriSv/niET+htjXH+nO7Y7ZN5dOJCt40UHKnTK/WZwvQmVrLxITKahYwPToF9KGGtf93llz2lAX3DpBs8wGC3UckQa/5Ndo52rvbO2/s5VYsJWZiyVR7pogBlL5uoqFoXaUyHFW5eRFeRyzbG556Q8Kv0OmuQzYZBfpbRh3gruYjDRBYRmfW/tgb/8t48l5bLrO8Bi/ts1w9+No5ZtIJBbWvNwY23jaBXAZcMVyr7u7hr3u2RPM47f6I8I1xWDFbyB+37AU5cdyyZS34aMnaq1fckY56rJ26z0kgvvAyvajdl8JmBmpwI213HbSq3Yn8Gxn9j5Ck9Wu69Xpylq3dG7OEFvC1Sb/EFuW+lUwXboYmG4vN5a6xXXo1ZbtPF3yEP2T7L5nyUOqb5a2LcXvtpxP5ujrpfTokAisE4ENaMR6dHb2Bpn+Bf0iFI+YERV/H6kRKxtSXHMPMdv/GoqyGVPrpNxlZ+vWCdoHKMc94mMGYlnP3tnaf2eTSgzE0uYSEVZIM0LFdRt74d5xsAfjDhtEDOR2/+UsaWmiGfJyn9olu+zGxgYz2kCWjV1m3fPKh2fmct3O1yifuaPfsrGLGzVynFQV9+NvaNEIPN0JPDd2yfoR8u1Dx8g965KzeJkxWfCNKK+gyJwFFs/K+rLzlPOSBmVzY5zYLGYY6fb272YYYB7JngAqS/cimHBul7HmqGIxGUKNoqCsdcBlc00eMi3T8LH4bMvu/Vwwz7rM3fGjaPL5sDP4DX6MHIHP3CQkWGdrO5m03euR2yqITVeeson8vXTt3q8vJbvxfGUZtgeH4eWQ5WbEQmxes3/swDTurdoWs/qZjyHY6lchdZlPXbXcY+djb8s2ffCiWZ7PxydW5iF0xtu2uU1W6pP2oSPxtS1Sir2vl9OjYyKwPgQ2oBGb70ysMCD0cEdD43xWlH9Kux8tfIbINCQEWHsnIc67/RUNXO6U+X2iY3H6XLl2sm5Jb+RzdgNKk9XO4g7irbu1Hf9Hw/0YNEJsZQLO2ztb++9sAEQ+ul9q85lPcaZ5HxRWhoaen5B2M/i0pIzQQfzTk+2fYWD4W8Sj5xFL8qVcEQaKZUJshT/FVxP3rQbZ3FWc6+zGpaErGNBCWHFD4TvMOQa1JcwOn8QeRa9zA4OfoVULsdWJER670z6oZJVZMBBlluqZXQfqDIaDNVC0EFtfYbD3uB5iS4vx+hCz8TdRxnyoOHoWA4NGiC3TkMwYL6wigK7ev2NkegF3+1/XPkbiHmJrFlfP/RXdlwYxPKCHENNn/BatzLCEmf5jKNP8Zj/BwGAf2qpLXEJsSWVz8BQcjL+Cny0EkrInG1+xg9uHisBf9BB3D39GT10JWNmbiDsiIKh4cO0jvPDSSYR7e9Fz5i3U83i//gAi49JslCxWLpkcZXKR6X62+iVnxI+96vIckqFnoGjh0+YykQq00HaiHmVrO7wpeNUj8byXrrxky+d5Fy7qIiZ6DuV0EeNk3PtXI+yX9tnZED4NNsDPynEkOiFtzpQYr6UuRV7mOOQy/ljuydWWXfpRy/O8nCJ6wBMIdH2GL0ambBE9srXte1na/HSOvl5iS4dEYJ0IrJMRm90Y5Bzy84m9j5GOfVoH2DZ0L4NPGAFm5yEuCePYiLMoTrv+deuU9RvFRpBMXFR+Xuwalv2zXBPe2CcFO3k5ysUQU6ev4HQjD+bPP3TQjPdbn5Y+/WnvbO2/syEQzIvwRP0hPYA+H5yCXxvhj8R1eaA10uJB2E8flQL+V+N4/6QxkC1gcvCvCFT5NQOL+7s299+yGGTq5EW8al4vQ3XLZxjVomC4yX4fN6NvGfIVoaKhEwMieL9jUPGQWRPd5bqbDuZ/RFTELuZROjouZ0JCqbcxfNr40AOPzPH+69IHB3gmKSS7A8aHEvisSwpzI52aIe76sQP1F8RefdLlQxYusvKv84nA68oevPDiUwWYidU/FhFq4DE03T4mYXtBnb+ObvFhCT57PsNDkkkzkpbq9hCpRBfqyvmHNPgmJT+qmjoRs0SksDxgvJh4yOQwYvnnta0yfT+RrX7Z8uI/s9VlI7yW71AEt7QVB8O1wPKxg2xtx8gnaz1y0a1bubLJ5tJHmDPOZvQXJ5eRJWOlxJx5d+FhnHI3YjmvXzEQfFb/QiTflxD6FlNiH4U9Oa19rpEuHX1BLiOWv2h4tWWXvsiRh4r5ZLf5YZEdHSNYku/J1razneciefb1dsD0mwisPYF1MmLF0hifIatF84kggm0vo675C0xxBnlFJxCB5xmUyhfwfvi8Hg3h0zYt+L5zJlbFg5FO7GIMSkU9jvE8g2/jlbpWfD5lrOvNjyHeF0Ekch6hZr6JrAiVzR9q6fbFx6DP1aRwrYt/r50bMO/ibO95hN9/AZUKg7L/A1zTvi619orc/Dm6DaSbv1RbqQS6oSGHO1vr0qtYSASxnVVrxvpa575++W3StqPFdC7Cro7v8WD94FHORIAIbGIC62bEaqE7zM/vGbMir17EpPBrzCdOrDqLm7FONJmzaCK8UiXqgnHctStGvYfRc69nYs/ymZ6q1xAdN7yxxFur8KuV/8ozu+nfkPj4OGrNGR159s6eKf3Oj8AmHYjzK9wWuEusdGQ2ma19ofWwS5nZyrWXYH1y3JxtR9uY5TuCyK3F9cFGuRIBIrDpCRTYiN30PKgA60Zgcw7E64ZrA2SsTn6ND073on/oOwxd7NA+O2v6r66LfAu4Mznz+HxBL2+Gm7HtqEjf+Q13si395112upEIEIGtTICM2K2s/Q1V9s04EG8ogGssjIoHoyEcKFUk/9K/ZPyD11iarZ0dtZ2trX8qPRHYugTIiN26uqeSEwEiQASIABEgAkRg0xIgI3bTqo4EJwJEgAgQASJABIjA1iVARuzW1T2VnAgQASJABIgAESACm5YAGbGbVnUkOBEgAkSACBABIkAEti4BMmK3ru6p5ESACBABIkAEiAAR2LQEyIjdtKojwYkAESACRIAIEAEisHUJkBG7dXVPJScCRIAIEAEiQASIwKYlQEbsplUdCU4EiAARIAJEgAgQga1LgIzYrat7KjkRIAJEgAgQASJABDYtATJiN63qSHAiQASIABEgAkSACGxdAmTEbl3dU8mJABEgAkSACBABIrBpCZARu2lVR4ITASJABIgAESACRGDrEiAjduvqnkpOBIgAESACRIAIEIFNS4CM2E2rOhKcCBABIkAEiAARIAJblwAZsVtX91RyIkAEiAARIAJEgAhsWgJkxG5a1ZHgRIAIEAEiQASIABHYugTIiN26unctuZq6jmjwCKpKFTDGwNh2BGK/AVAxN9KJPUo5jkQnoLo+vcyTkxHU8zzqI5hc5qPrc/ssRjoOQPG/hOjkYnYR5v6Jjj0l8B+5gMmCgHLLagGTQx+hubrM0BPXFUNpMIG02+3rde6Rs5hApL4UjDUiMulW8kLVWxXpycvoaNgFhdfZ0hq0nPsBKVf9rpVM66XUjZwv19MgQs01KNX6LwWl1a/j3Og9s89Sp/6Bzqa95nV/3UkMTC5kKdRW1GWh2kwWpHSaCBSQwCMyYpeQmvgX+qN9iPTFEB+Z0Dv7+THE+yKIRMS/C4iP3S9gcSipVRFQJxA9Ug6m7EL92x+ip/csOl56C5HxBwAeIjX8Z1QpO3A48jMerioj4+FNZ8TexXBwPxT/HxAZzzboAUhdQbCqBP7DvRgvCCg7bBWLP32Mgz4F/voOXBz6Dv8INaGooEbsElLj15C842YY2uXx+P3IWeQyMtzrrZoax7+Sd0zDxqME+iXNGC+Gb387/s/gP/B/gwfhY7vQ0n/bJY2VyQQ1hfF/3cAdV8M4p4SP7Q3L05WKuaF3sav6JXSEP0NPVzOq+Qt52TH0zyxpjNSxj3GwuhldPZ/hbNsz8DMGpSaE5KIb+JXpcnkyr7/qrPK6t5n1l5IkIAJOAoU3YtV7uBb6D61j0Gfy9BkiVteDCWG0aG/I/Hwp6iMTTqnozLoQWBrtwm7mw87gd5hbCwlEfdg0M7FrASWfPGaRCO4BY7UIJee1B9KJoDazVJiZ2HkkQ3VQWCWCiVQ+Aq3jPbmMDKdoS8kQ9inLmbVWcT/+BopZOZr7p/UEZ/vRXMRQ1NyPWUcWy5cJS9cR2lcMVhpEYpXvDQ5xNvGJ5esKQHoWv9/XDVbgAcZ7DkNhZWiM3nKSUH9FtGmbpS1Zb1q+LlckszXTNf212eRdUziU2YYnUGAjVsVc4k/YyRT4Gz7E8NQC+OzCROIS+uI/I7MAm8ZkpHGNjdgFTFw6iUDd8+gacZv9XUIq+QU6m+tQrhiGNytDdfNHGLIsNS1gaqQPQbGsaCwtNocGMZl2e5Pf8HXAEHAddEJG7Aorh3NgLawRm0IiWAn2mBqxy2cl2oZk1KcTCJYyKI1RTDm06NSP4xb7CSM9MmKtYJavK+vz/Jd3GqKu70OH67iwfF165+eUb73PbDZ515sX5b+xCBTYiOUzOLVgbCda4zMeJRWDwlrOxIrOShqILBIuYab/GMpK96Kx9V0Eg++itVH3m5KXmtRbERzycZ+4/Qi0nUDwxGuorygCY34cDCclQ92S+Cb4oeLBSCd2MQVlLZcw47DH7TozOvfnTuNi+EVUaIZ/Gfa3X5KMee6fdgnt+7nfZhEqmt7EsadLM7NNbkZs+hYGu47o6Sm70Xj6CqYdskg4tTSKsOfEWXzUtBsKU1C6/y1Eb4oXFUPOnUcRfOtplJqz/1y2f6CrkT/DoFQcwelheWl4AZMDf0FTlV/3OS17E/HZn23+l/yeTjRo+mdQyl9E79gC4CiX3Z/yKRyP/ghjDtV4oTuEMxdDaNLS4mV4D/2WlyejzMLYMVczdJ/iCcdMrFeeS7g7/NdM2fjLWstnGE3x2SsxaIsXOf6X+5vexbWuOijKAXSMOOcegXxZcKviF/S3c11w7k1479jTmVlfjV0pnjvTh7CmT97WnkZ7/y9ZfH2FvHU4EXoL+zVf7h2o7xT1Rq63YwZruWz59UH6KkUR9nT9gEWoWEyGUKOU4ED4hotrzXJkmsjUF5tOJ9O/YqDjeaNtFaH88HmMubqnZKvL95AI7gNj+xBM3NMqkDreg4OKaOOGnHva0f2R0YZL5brJH5H1mqVt5ewDsrQzT10LvS1fV1LvoB3qRloR9oauO3WljqHnYCmY1r7d4C5Hlx71Ky9dijI/i1MXzhh9Ae83P8a1mf8224y1PXi1ZRh1K1t7EvnZGYtyiLZh60uUnTjc+xMeItv5HDLZFUS/icAqCBTYiM1lKApJReMRjUScf5R/85DNsgzF9zL9G7GjO8BYDbpGxQJ7Cje+uoykNuDr8pqG7d4Qkm794KMsViHTTo8h0lQOxrgR8I1kjPJM7DoTnTuDUnkUp7pDaKvbDsa2oSn6q+4nOH8VXftLwPzPoO3sWQTrOUtulBhLpg5jbw4/hQ/BpzyJ1t6vcanrefiz+h0aBRdpsGJUBjoRPnUUlYrs4ybJWf0OYmOzumyLSYQP+qFUHUfvYAxdDTskv7kl3B08gSpFgb/ubZztPY+zf/kCN5ZEWvomooc3wzig+FBx9CwGvhvAhQ//hqtzasYoEW4Shj+lUvUaui9fQnfLPihKDYLDM3wYyBhWyh4ETn1s+un5mqK4bTfg+crG1S8QrC4GY08hGLuCRHIa83Yj1jNPFQ9Gz+Pd0/8H8eFBw7+zBDWhUSxiAdPJQYQDvB6UIxCOI5G4gen0vxELcP2KjX7Wipc3C6R0Y5htR11bCJ8GGwzXI+Pl0qbP7rNvo86vgPkCiN52W2cXOrHXQ+GvKvjyvmYc6ekb+DYcQDFjKA6EcSXxPZLTHv7NopjqLcRe2gmm7EPLp+dxqmEHlD0nMTwrlq3FjfzvcmSaANLTSH4bRqCYgRUHEL6SQCL5C/4r/BwU9gSOhr/Cd/G/4cPID+5uPh51WdcLQ9HRGGbUFEY6qsGUZxBK8v7MJme4E4HKYum62OBTjKqWT3D58idoqSqWym173q0P8JDNfNkz2q5d1yvWlawKLGAs/KzLxIqK9PQ1xDoOwc/K0RQZy/GStJr6NYubeelS1FWm1bPmM90423oAPqagpLQUZfUn0N19AvWW9uDVloURy41UvX/Mj/F960rpwxsIHygBq3gZ4YEhxC+EEbk6C2Q7jxwyWfRDP4jA6ggUyIiVGp88myCOhdFiyiru9zBi07cwFGrRnfJ5OsouNAQ/txiPwDyS3U3S8r/brmGRl/y2KR9n29XMhZ1BvHWnzYg1C5E5ELNjOzow4jamZe7c8Edq6ipC3KDjLiH1f8GgORsoOAqdiQGsEm1Dv2vlepgMYS8TfoIPMdv/GopYKerCSW2A0GeBPIzY2QG0linGgMsngYYR3K7AF4gh67y+MHq2vYMhbkDidwy18aXwanSMcH9OIae8OvAQs/E3UcZ24Gjs31ChYiERxHZhoD34Hh27fGDb3kLcYqSItHidmTc6epeZfSGTZsQKDhnjXr0dRZOPGeUSXBVsaxvUjZSH1xHaWwRW9Br6Z93eimQ5dMPOuiSYK09bNZyJIcBXF2rCGNOMZrcXPhXpqav48surmHK4zYgy5GIBwPAlVeo+xk2ejpgJE64Lgp2pT7G6I/mjWsQXLJ7A8bi+UUvUM6UhgklVyCbqba7lZUvilh/qzCW0lBlRO7LOSPNHli8TRB9i9pVGGuZviyjSjxx1Wb2N/pZdYMph9Fz/Gm3bfNJKi5BTtGG+KeodbGM+7Or4Hg8wjf7mcukFIo3b0QB8op2Y5RTPA44+wKud5aFra72Wip3voTC0bDOtIl2tn2uKYNxRp0UGgtFq6le+uhR1VcH24DC0VyujvWRe4nK0B3tbXhFjIYfRZow0HP722c4LdOKvXSZxnv4SgQIQKJARq2J+7Bv0RT5BsJ47yW9DffCTTBSCL0ZsS8K2RmIviDqNwfZqKKwI5bUvoy34Lo7V89A2CvyHenDT3EW6iMm/d+L4+yH0RCLoDZ/EUS3kkJiF4QnnkK3vG4zN26e7uCvvOBIXO1Dv98Hv2cll/IDLWgdcNnnYC7fxf6upG4i2Pqkvs5uzTXadic5degkQHaZmvN3HSAdfypRmse0DteV+YGmkAztYMWrCPxo7vo08vF4ObGnwKAq68VyCup6foZoDrSQnhGzPIsyX//l/WjoKdnSM4IG2wU0aSEyVWcusu1/4UNHch5vSzLw5w6RxEAZhZhMWhJGqGSh2rjwzaz5m9uaB87oYlPWBJleeZkLacvH09U/1WUDTYBLPuxil8qPmsXBFycVC6NiH3V0/QH/fs+Xl0KcbHzNjd1aCb0k7hhacz1tZyWl5HKd/waXjT0LxP49TvZ1o8CtQqtoxMOU1OyzVuRwyOY1YY9aUVaK5L5kllBeX17suL3HXh9HT2MOKsKtyF4rMlzv+rLMeiZcMbSOuaK/SCpMwUvV65vK8RX85ZLPcy+UpkK5MNYq+2blZVU1N4OrwAKJdfOXGPq6YCbgzyqFLZ/3KV5fO8jvrhcs9prgLcLTlFTG25SFe6iteRd9NYyWL55ntvCkPP3CRyXKdfhCB1REokBErhLANSOK046+tkdiuiyUwX8O5zBuyOoOh9r1gbDda43dsT2R+iqV9567hfGUTHbMxW1v+KmIeMUHVqa/xRlUxmD+AyLju5ZiRZhMfqTMYDtZAYWKZ2a4zwUkaqC0d5i1EG7kvrHRdDIrCWLLcv4Sp6It6DE4xgy/+8vsnjJiy4pwIJ2VJQ+dtHURc5ISQTZ6R149Lg1cwqcmRmbnLaNGWlvmyxaBUvY5I0ohFaZHJ9oyWmHxOzOjK+cnX8zOScpfZlqbFR8/gIPSCfNtKhgzyYiF0LJfVlpeFHU/fXu+kPB0sBSu5rE6+Vlb29Nx+L2Iy+hL8bCdeit2CiiXMDr2nbWB1f3GV889PJqexAqh3v0E771sYX86P2FahhJxeddmIGayOI3JIjyfsOxTBLfOd3UVOuY2KNifcYniWFv24PG+5nkM2y708caeul68rwQWA4cogh9eSrhqHwm8427jiUkaL8Z9f/cpPl87yO+uF2z2y77StLa+IsT0P4V6luzm0RK4bL1XZznNVesjkVAKdIQIrJrABjVjhw+RcPtQ3VzAUt8Yhtu3wmdb0dBJX+j9HJPI3xL7+SJ9VkjteDY9tsMyK7D7G4hcQ4TFSjUgF7jMu3Kn9G3RyP0/TvzFropvygjoTw9EiBqbNxNg7NpfO3dJhulyXB0g+tlvuF+kXozr4BRKJRObf1QmkFqeRlM8lErg6kYJqSUPHbB34XOQwByHDp1RK9+rEXas/mEVzLmmp95Dse1PfUFTWghj327TI5PKMmT838J2DoOsMWQ458i9zIyK3fsHAG09C4f6d3UMY//2KttPe9FVeiRHL5cvJQuh4jYxY5UVEpxYc+rSysoB1/8GNwAY/WPEbiN83LEAxG+fq8uGh8ywyOY0VXRT+8ZG+40+hlG+4fOmi00farEtudTmlr2ismxErOGSRzdJOeHmd9WPZujI1OI/xSCCHvyu/WcXCUDtKmL4K4/QGE2WQXsYF8yy6zCZzbl06y++sF7Z71H97t+UVMbbloTHl0Xv6cFzbpCte5vgFl/O5ZDJ1RAdEYPUENqAR62Fs2huktMvZEpOWz9at2IiVoaZxO9aCMtNHLHPNfLNWnsTxS9l2Tmfu35RHwujUlvPtHZtL527Rj/AnlpbRRXpixs9yvxhMsuwizgbQkga/SbgTCEPJRU7cw1Db7qyxIfVBSF7yFpm7pcWvGZEtmCG7RSZRnyUOwgDSONi58vSy5ZNdDuvA6Z3n8HgEDYrwXea2gx4uatVGrCaeFwsRb1XWsZDVtrHLbL9ufASHLKxy8LWyktPKcuzgI+WrGTJ208dFfzlkcupAkkX4tUpxgTNXvesyN9L0sIc78HRtFRQpUoFrPRM+mJy/KPeK3QlyyGZpJ7xETl0vW1caGBXp8QiacrqC8ZtFv+PW3vn15evSU2ZPXTrL76wX1nv4S7xnW14RY2seGlLjf6ZfuFQnNIrCX5yf/yWHTHKCdEwEVklgAxqx+c7Eik0G+s7ZoXF91kG9148WvsvXHAQFIdtgKU7n+uvoBADMjyLMNz89zgas6UunQF8ytXdsLp27hRW/vwmKFK3AnNl1NWL5Pjp9g5FysAfj5pJnDgWJPM2NQGJ5UPjiusjJjc7YH+FjpTjYM2b430r5iIF853sYyrqxSywTG89pchizOUImrQ6KvHJt7BJGN0/PTWZJPpfr1oHTO8/b9kgG9+No5W1G6MV1JtZrY5csm5hhd2MBbeacD7pm5AUzAshqjdjM5iKxsUt3KbLX2ywbu5aS6Hm+CqXbg0gs2CqfmInlm6O0r9dJ/oC7uzBqt2FN/eQvk9NYkZmKMrjFMhW6zlKXRTD/nX/Cdz/2auEBTfYOOYXBKwy63/SIFGZkCNHniggVLvXUte5nkc1yLy+vKGemLVjrtcHES1daMkaUlbxcvER/kcudIH9duspsqlOU0U2X4lqm/M56Yb3HkZe9La+IsTUPU3TtwNC5Y59C5pXhyw0AACAASURBVHziiu3DK3aZrAnSLyKwKgLrZMS6zchkypGfT6zYNLAbbUN6DEQtBTF74DBihXEsdqRn8st+JGaV5E0+c0iGnoHCduBQz41NHBfWXmq+y/kEDgZOINTTi54zb+nxb/1H0HOTh+Oxd2y5BjBAvLVroaUG4rjQdsD47ny2EFuzGOng92xHXftnGBj+FvHoecSSHl+NEp009xts/gC9Z5pRxY0k05/aRU5edCMEFQ//1d77NYb5Jo9PvkRS2+QnwkBlQmyFP/oaEw/ltBYxd7UXnd1fYmj4az1slpjlEjIZdVCdvYLgnmLoHC6jl2+aM3e327ly4eR8bMaypjbndftg5pmnEQVCD5nzjRFiSzZihWHkQ0XgL+jVNmbeRn8zj9QhDBi5/qh5s4CYidJcGb7C4IV2VGsxhldrxNpCIHnxFbulKwLo6v07RqbTUCd6UMeX7F03Zy7hbvxtVDAfyhtPITZ4GRe00GDysqrMQ+hnGTLBMBjZEwh0fYYvRm5g5Nxf0X1pEMMDemgrtvNPSGgROOS8vOryQzOerRY+zWTvEmKrqhlnej9AM/fB9TWiR/PvX8Ls8EnsUfSJgoHBz9CqhdjqxIgmhyintNRuq/ue7cx+r6OPybzYsrx1lcJ/heq1sFRlje+j1/zEeQR98THMYwE3e15FU9uH6Imcx9kTh1GR18auZejSUb/u4GpeunTpC8R4Zr5g2u7J1ZZXxNjm4jR3Fec6u3Fp6AoGul9DlWJslMt2PpdMtupLP4nAagiskxELiDBDzF+L5hNBBNteRl3zF/rXb8xNIl7RCUQMQ965vID3w+f1aAiftqGWhwtyGLFiBzUPsF6PYzzP4Nt4pa4Vn0/xqRQ+iDyBqsZjOBHk106g7RXj612mIcdXjn9A124fmK8ObZ/2ZiIwaJ3lBcTHMt66q1HM2j+7gIlYO2rL+Ycb+OYAP6qa/oyo2KzkGGDyGMC4v9S1j42g3cWofOEIarmPreiQHR0st5VvYfD0UVRpQev5vdU43j/pnC0VgEQaTzyLRs1fixueJzFghgZzkVN7Vg8QfzqwTwu6z0PtlFa9jX6x29wuh/919N+VP3bwv5iMHZfkrEHLuR/0DQ9CJrMOqpi/GTX8yXj9ex4dA78acSltg5ImWzaZRaGd1+1GLF8m9cpzevivaNQ+rMA/dPAeWuWPUPBs5q+jW3xsQJt1MV4wTONQyML/Li6DBY/8cdX8kIFS+TxerOWbjlZpxPKA++Jz15aA/W58U0h2B4yPCPAZsf8xIlpkZtvk0unHctB//mGLZ9HWJza42O829LMsmVTMJ7vNj13sOPn/4PNXn8zUzerXcW7U2Dhoz04LOv8POOry7V/18Fq+I4jc4t9LFDOtto8dsCdQ37hfz8v/LIJm3eQZ3cfNqPiIRBEqGjq925ZL3ecfFXHIxtuZ494C6EoYfdIGUNPVTGuPv2Mk9GKm3SoVqGv7W5ZNc7z8K9GlrX59fx2xvHTpUn5RHtFnOvrhNDzb8ooY37P4kauTF/Gq+OiL9GGUbOf5hIenTI76SyeIwMoJrJsRq30Jpv894ws7htH06kVMipW8fOLEqrO4GeuUvjwkdmZWoi4Yx107F/UeRs+9nok9qxkuryE6zj+PeweJ0KuSEcfTKkP10S78XQ4rIjoFt07S/BqUPWP6rREQHbIZj7QAXIQ+TIOxAGlSEmtIQLj5SOHO1jB3PatZJIJ7wHZ1YuSB6IDWXIh1yND5MrQOQiwzy62qq2ViotuJwBYhUGAjdotQo2KuiIA6FkaN+TGEFSXhfIiMWCeTzXRG/RHhmmKPDzusQWG01ZXtOBQZzz7jvwZirH0Wm9CI3bK6WvvaQTkSgc1AgIzYzaClzSqj+iv6PziDSP8gEkOfo0MLR3YAHSOzhSsRGbGFY7kmKS1isv8jnI5cwlBiEBe1z34WY0/HP90/qboWMqVnMHknj0/ProUsa5rHJjRit6yu1rRiUGZEYNMQICN206hqEwr64AeEDuhB1nWf0xfQafG3K0CZyIgtAMS1TOI+RkPPGb6e3Od5L5o6L2My62c/11K2rZbXJjRit5qKqLxEgAh4EiAj1hMPXSQCRIAIEAEiQASIABHYiATIiN2IWiGZiAARIAJEgAgQASJABDwJkBHriYcuEgEiQASIABEgAkSACGxEAmTEbkStkExEgAgQASJABIgAESACngTIiPXEQxeJABEgAkSACBABIkAENiIBMmI3olZIJiJABIgAESACRIAIEAFPAmTEeuKhi0SACBABIkAEiAARIAIbkQAZsRtRKyQTESACRIAIEAEiQASIgCcBMmI98dBFIkAEiAARIAJEgAgQgY1IgIzYjagVkokIEAEiQASIABEgAkTAkwAZsZ546CIRIAJEgAgQASJABIjARiRARuxG1ArJRASIABEgAkSACBABIuBJgIxYTzx0kQgQASJABIgAESACRGAjEiAjdiNqhWQiAkSACBABIkAEiAAR8CRARqwnHrpIBIgAESACRIAIEAEisBEJkBG7EbWyXjItXUdoXzEYY8Y/P6qa/oxo8h7Ugsk0gUh9KRhrRGQy7ZJqGpORRjBWivrIhMv1DXhq7p/o2FMC/5ELmMwKSsXcSCf2KOU4Ep0oIE8bj/QtDIVaUF2qSHqsRDCRst24nj/XgMVkBPW8HtdHMOla1FmMdByA4n8J0clF1zvyPammfkL/qSOoUBhYaRAJW7XOdd3MZw1lNvOkA4nAb4gFtkvthveDoh9awOTQR2iuLjOul6G65TOMppak56XDLanLwrUpiSQdEgFPAo/IiF1CauJf6I/2IdIXQ3xkAik+uM+PId4XQSQi/l1AfOy+p4B0cQ0JpBMIljKw4gDCVwZxqfs9NFQUgSm16Bz5vUCG12NoxKauIFhVAv/hXow/zKavh0gN/xlVyg4cjvyMrLdlezyv83P4KXwIPrYD9R2fYyjxNUKNfFAuoBGrpjD+rxu4k9VYz0fQNWCR04i4i+Hgfij+PyAyvmAIvYTU+DUk79is0KxFeojUSEhvI+LFz2LE5rpuS3hNZLbl+dj+XK4uAag/IlxTDKW6FWcdY9TvGGqrQfXRkwj3foqu5hqUMgVlLZcw49YWtoQu7Yzd2tRjW8GoYBuEQOGNWPUeroX+A37RqYu/dT2YEA1bnDPfcjcIja0uhjBizYFYRXr8HBp8DMqBMG4WxPJ6DI3YjVJvFoYR3K6A7Q0hqekqhUSwsnBGrJipN+vHRim4ixyir8k6E2t/Zh7JUB2UZRn8KhaGTuDJQAhDE9/oL4AWNrmu22RYE5lteT6WP1eiSwBG/1caTMD5GqMife8e7guDVR1Dz8FSMOVFRKdcZmMfe12ukPFjWd+oUOtJoMBGrIq5xJ+wkynwN3yI4akFQE1hInEJffGfkVm0W48l4wVMXDqJQN3z6BrJMfurzmLsq7Noe/EAyvkSYdalb97x/YJLx5+E8jgY5A4jllfNafQ3l4OxWoSS8wWoq2TEFgCiexKOgbPARqxr/XAXZd3POljkkmiVrHKxyXWdi7fWMudCsmmvr1CXU1E0KsWoCf+Yx6pTjjwee13mKP+mrTsk+GYjUGAjlr+d1YKxnWiNz3iwWA8jNr9Gp6Z+QM/RPVAYg1Jeh1faTyHc+3eMTDvfzaHOYDhYo92b8Z3yKPZGv+Q60ApdlaExessowQImBzqNZVQFpfvfQvSmeDFwGqnpRBCljEGf4RDX63Ai9Bb2a76bO1DfeQXT2iyHyE/4ovEsVaQn/4Guxt26XiqO4PTwbe+BRhtEirDnxFl81MSfs8mpXfdh5yvv4K393M9N+OguYHLwAzRyNwpWhIrGv2JY1n36Vwx0voAqTW4FZa0DmLUPWPyejud1H0lWhPLD5zH20K1ceXB87jQuhl800irD/vZLmEyL6aBMhRKMM/7MnN+oy0ysR57qHQyf/oNRNu7fWYOWcz/orkCijOYqiuFvOn8VXftLoOzpxMicUy5Azo+3qRfRO3bfxe+Z6/gS2jVdFKGi6U0ce7rU8DEV7A7hzMUQmjTdcH2+h/5J4QqQYaEdCXmfbkeo/Wmt/jH/IXSa9UbUQ673McNPW/iC53hxtWWl/XRtO9KNua7zWwskc3ryMjoadun9krITh3t/yuK+kqWuz32H4E4f2M4/IaHp9AHGew5DYbvQ0v+robsanOg+beiiDPuPR3FzXtK/pQ3YrmvlLMVzZ/oQ1tomr2tPo73/F2kGNItsyFUXhF6Xr8uHyRD2su0IxH6TFJftUIwnWV7u11SXRplrO3HhrNFXKLvRFL6KmVuiTdnai1dbXzFj0Y6kvtQcJ0Tb5+3VrU/gE14e/U82NdD5LU+gwEasaNi5fPBERyQbKo9aF3nIlh5H9OhOMGUPjoaHMeViLGSkXMCt6CsoY+U41FiL4sd2JpavsnEj1IfdXT9gCWJTTjGqWj7B5cufoKWqGMqekxie5ctqYhARHZl43m7EMiiVR3GqO4S2Ou63yQdIbpi61I3FJMIH/VCqjqN3MIauhh1gZcfQP+OyjCcUJAYRVozKQCfCp46iUmFQakJILqoZg4GVoLrtIsa0DRoqFn/6GAd9xahq/QyDl06hwe/L+L2p0xhsr4bCtqOu7T/R23sWf/n8RyyJvLSl6wXcDD8HhT2Bo+Gv8F38b/gw8gPmHOXKl6Od0zY0RX91GPBqagJXY0FUcyOzOohY4nskp+/YjNhced7HaE8HTkcHMDx0AcFaP5jyDELJOSA9jeS3YQSKhc90AonkNNIzMQR8DMz3R8Rc9PHwZhgHFB8qjp7FwHcDuPDh33B1btFpxBrGMPM/g7azZxGs36FvoNGW50WdYFrbDJz6GGfbntFclnxNUdyWbCehftMgNPTfffZt1PkVqd7I9fQ+ppODCAf4ikM5AuE4EokbmPZs/2ZO+kEuIzXXdZ6KqEerkXkhifCBErCKlxEeGEL8QhiRq7M2YflPr7ou6vAOHI39G+qD79Gxy2e0Hbsu/hOnAvylvwQ1oVFjtc3Y4KPsQ0v3JVzufg1VSjH2BK9glusqWzl9AURv88kCL9ns+dvrwsIKdcldP9pRoul/EMnpLC9HgqThP8uK30Dc9DEQFz3KaPZbedS/vHUp0mJQqppxpjeE1v1882wxSksrUB8MozvYYGsvHm3d7KuytbdsjMctm3bd276KbOcBL5kktnRIBCQCBTJipY5FnqkRxxY/MZ67uN/DiLXvslZ2oSH4OZKW3aDzSHY3GUv+xpu3PHukFVTkJb+Zy8fC2FrCTP8xlDEfdrYP6p2tBMp6yH1FI2jyl6Cq/RtMDXMjz6Ms1oc37q8sA62Y5dNnUg33AnPASeN2NACfOYMhOlTBNZsR+wSOx+9oxpg63oOD3MBsiGBSFfoSPB9iNv4mypgxoELFQiKI7WZ+WXCKgXLbOxjSZpP4xgzuH1qNjpFUZiC1DEJ3EG/dDVb0imGQzSIR3GMaaA9GOrGLKdh2fMBaP0RemhFrlD9nnc+XYyXahn7XCqnPFDEUNffDzSwxjQPTD9T+4pYrT5nlEmZif4SPScurrvVjAVMjX+HLkdvSLJpIR+jS/lIrzks67n8NRawUdeGklo6oE/puf3G/gm1tg5jjyT+8jtDeIrCi19A/6+KsLXSy7S3EtZcrMZvoR0NkHKrjZcvOSpQhz7+ubKRnc13ntxZCZiMNd79OSR5413V15hJayhQoBz/F9cF3sM3xkinpYm4QbdsUsF2dGHmgArP9aC5iMF8w1F8RbdpmtqNMOUXbFCt45WjunwY8ZVswXoCk/B11YSW6FHVMjA18FeYDDGaZ6dcNMWMlRsYqjtdUl6LP3YNggvcMDzGrtSdJBw5GQlD+197WBYvlMhZy8L5/3tBTtrZvPy/L4yaT/Tr9JgI6gQIZsSrmx75BX+QTBOu3gbFtqA9+kolC8MWIsVQssItGIgYxcd74a854FaG89mW0Bd/FsXq+PKbAf6gHN/lMmvbfIib/3onj74fQE4mgN3wSR7UQKGJWj9+UQ7a+bzCmLYMZ4VWU59A1MGRGVviGzzYZuZl/0mOINJWbs4+6kZelLOZDm+Agy0BrMWLFPebmIUAYV1Z3gVxGbOa6aZCUtGNowV437mOkYx8YexbhMWN2RBsgFOzoGEHWuVgxiJgGnejYS1DX8zNUx3Xel4+gY4cCVhPGmFbFhCz70DEyhdGuGjAmBgpJn5a0UhjpqNY2UzX3JfWleO1WkZZRT1bA0Rz8zTJJMvBDixz8hG0wz5mnlF56Gtc/DqDYdAPJbHxxCyMlPSkdqtANfx8qmvtw03wBtbGA0HENukY1E9XcZGM1YuU2Jg+YjhbqwiJTT0vahrCwkY1YSb+ibeUtszFryipeRd/NWceMvakcz7rOXYPuY7TrKW1murKyNGOguk5ACL/5Q+iZWDRWboqwN3TdcGMQRqphuDjqqa0+eMp2zzmLX1Bd8sg6/8TFjkPwO8YbQe8eEkHeJ+1DMHFPnLT+dZRxBfUvX106ym+fOOCiebQXR1u36UMrmf15W9/ico9728/WJ1jx8ZUfR/9ju4V+EgFOoEBGrIDpVrHFNfmvWyPJXNffchl8DecwLpb01BkMte8FY7vRGr+Tudl2pN6K4JDPbbYqh2xigBezx+Zf7p/3Ma5JA/DtWAvK2F60D81og8TjbcQK488wIFw6Z6vxZO/s7B2q87q1gxVv8MJguYVoo4jNKGZJ9L+lwSFMaDFl5fPZBkqbHG7l0DZ2yGmJY57mfxlySMa3qHu2tNS736C9isfb5S4XEWP1wFbnbc9oSVnOuXCyXBeZS38d12113nHdbvhyv1TJn9JoA+asnmgjjllmSQb7oflCypc6X0dEizlsYwGhY4mtJS/7/TwTFz5y3jnLan/exkpOK59ji7wuD+S6zh8piMxLuDt4AlV8Qypfzo9cl16kJLk867oeU1j0pYyV4ZA2e82fd9OFzO53FyPT9oyjnLbrnrK5pV9gXfJiqv9G7Ch3aZFerDR8wtXBI7wWv89RRvu5fGTOU5cubcEy8aDJbc/Pq63b9OH6vKxzEYPalodr2+dshVuW3CfwTLxk0oSg/xEBB4ENaMQuYCz8rDYDoC8tZWReGu3CbsZQ3BqH2EakVfzpJK70f45I5G+Iff2R7rcnzWboKbg1ukzaZqdTeRyRxDhSqor09DVcDB6ET/b30jY9FGX8JLUJqsfZnUDMouxG29C9FXTONuPRpcM1DRItXI1YLhRGrOgYn0IwdgWJRML8d3Xif7A4fcP8rV/7ARP8hcNlELF07C7XzWc0n9JMPokET/Nni7+XVHNc81JT19F3/Ck9luRLF3Hb7ibhlb9Wd0W5JcPO7RlZEMd1W513XLcOrLemvsYb3L+56jV0D/03ftfcZIQv80pmYg3h1HtI9r2pb+Ira0Hstv1FxaWsFqMvn0FVBmEtl/mxA6P8SmMUU456aGNlSy7nT4u8Lnfnus4f8dDP8mReQirZh+PaJrmdeCl2yzkjK/Jyrev6+sa6GbGestn7Bw7OXn9WqUtNfW51jrcBfRWO+QOIjHtEaxFlkMch41zBdekov73PdTJSPdu6W9nzYWy/h9ul9rZvrJq4nPeWSVMK/Y8IOAhsQCPWowOydwzpX9Avdh6bM6fG7JnceWjF9kiXX7enLVAZ/l167M1F3IocgY/5Udt21nSXOB+sRxErQmXzh+iLj8GjaxOpbsy/bgOtiIcofA/FPY/CncCyiUcYsfcw1LZ7+SG+HPrMY0Z5YQhtJUyKsyqrSdQf+8yMR91Rb6O/ZZche8o6Q7UCjlnrqBDTUWYhszE77ZnnIMYjTVCY8Et0GQjF88uZiRWycb87zeecLzP/gF8tX2WbQbx1p1XHlrzyGVTNjPQDB4vMcq6724uNlS25nD8t8rrcnes6f6TAMgu/1kzcYEkuz7rO7zOWzMv2o3ZfiRSpwE0Xwp1Af+HSXxZX4U7gKZtb/nbjaZW61DCJyRQ50s48xiMB+Fk5miJjTjczCe+a6nLZRix/ifRq6ytlbNeDACK3feFiwq/J5/8//OIpk0iL/hIBK4ENaMSKziMzmAqRrTOxYkORvkt+aDylbxK6148WvoN6uUbs/Tha+XOScablaxl8ROcolpld/jryFdJvgr+WsnJ5RQQGH3YGv9M31MDwHc66sUsYJMLY45sGXkGR6VspOrrMhiWxiUffsGTvQMWmg1Ic7BlzzihlwyoMAnNjl/BjM+QS1y36En7Rh9Ez/sCWsjCCXTb+uabFHxdl4T61dl++XBwFpwLOxHrq7kdHJIP78Tfy8In12thlQ6hx4r7Mw4YbiHhR4Zz4oJqJvKDOxHC0SHzGVXAU9/N0XfjI2QmdmPoXG7tEv2J/XrRtw+A30lpKduP5yjJsDw7Dc7+6o+3IwuQ5i10gmTM5G2Xc0YERh/O4V10H1NtRNPl4u/8GP2ov7kI3QhfSph8Rkmt3F0Z5PkbEipwbu8y2J9IU+vWSzX4vL22BdcmTXBxFqKYErOxNxLWNg2Izrw/+pkjGzS0D23q0prq0l9/lBdTC6PccbX2ljJ1ymFDMtm/bx2CeH8AVy4dZVDj6HzMxOiACGQLrZMSKCiq/rWeEys8nVmwGMZa5xeNiMDE7SHFBGMdil7s4b/wVPlAipJB2WsXi6GnsYQy+QAzZIt8+dj6xRfUInu/GmbcbtPikmfBZHMoSZodPYo+ivzwMDH6GVi3ElogTKl4uFPjrT6C7pxOBSu4fKpalRUdnCx2lHEDHCN9Z69KBzv0THXuKwcMvtfd+jeHhAUQ/+RJJOS6lTZ3mTAj3S23+AL1nmjU/QdPPWgwylnoiQlAp8Ne9g96BbzEcj+KTWFKfXRdhoMwQWx/jo6/G8dCS1iyunvsrui8NYnhADz+mx9u0h5XKxVFwKqQR65XnkhEFwgiHNWiE2DL1xgEbxgV7AoGuz/DFyBTUu5fQzENXuYbYUjF3tRed3V9iaPhrdLfsg6JthrljnZXmq45iNzx3ZRiI40LbAT3OqevsPJfFhY9cB4RObOGqMvFs7c+LlyUfKgJ/Qa+2GXUREz2Hcvrha9mKfifbLHWu6zyRQsh8/yrOdXbj0tAVDGihreQXUBmQV12fQzL0DBSjLzR1o4WnE+1T97ltPvMpzjRzvZahoecnfXZSxM/WQmx9hcHe43qIrY5/6i/Copxm2xNpCiPWSzb7vbxMBdDlgx8QeqEZHeHziPR8iLe1jcTSjOv8NYTq/GCsAo0d3eYqXCSS5dPpooyrqX9569Je/lxG7IMcbX2ljGU5FrO0/d+znL+bQya57tIxEcgQWCcjVrzpMzB/LZpPBBFsexl1zV9gistmOn57RScQHR03hl7A+7zz4d+7/rQNtTxupdlBisKKXZEMSkU9jvE8g2/jlbpWfK59NlDF/LUPsJ+Heqo4jBNnz6M3/Cc0cQNMqUPXNeG8LtLL/H1sjFixK9hwzVDKDyDgCGvGy30fN6PiQwVFqGjoxIAcimbxJ1x4Sf9gBCt9CsfPfYBXSmxGLA/iLz5PzO+J/mi4Ybh1oNzh/x84HdinB63nHy6oehv9Uy670oVaxCDyxLNo1HwDuWF6MiOnuO6oJzzI+l8RqOIDFp9p96Pq+CVMadEKnHL4my/hrpyW+gtirz6ZkbP6dZwbvece/9aTozwgGOWU8xHllP86rrvNLnroTr2N4dNH9A8r8FB177+OpxWhN56Rivlkt/mxAS06hPGCkTEOZYEWMRk77vLxBDcdLyF17WMj7WJUvnAEtaueidUD6od4XGH7xy4chg+A+evoFsH3tdlLY5ncnM2Vy2Y7zmWk5rrOk9P0tzqZv5+4iFfNuluG6pbPMGpuSrXJzIPOu9T128YLhe9QBLe0ei9WMeSPHRThifpDxsdKtqMu+LX1IxzzPyKq+YRzY3cXGjouZ6476qlbfXCXbcruW64VyaWtLFeXqWGcqqswPlzD+5cX0BH70dwUJ/zpMx8TEatwwvC2sV1TXTrLL+Q1N2Xa67tnW3fThzMPZ3uR7/nfLG0/W5/Au5dc/Y+NMf0kAusXnYCzX8Bk/3tGJ2gYC69exKSInpVPnFh1FjdjnWgyO22jYymtRF0wjrt2Fav3MHrudVRrX1vi9/LO6jVEx8VC4QKmEp+gtVbqzEwjxJ5Y5vdjY8RmirT5jxwD5eYv0pYqgTD6zHBn61D6hWEEtxdhV8f3sDuXrIM0GyRLNwNng4jmJQbp0osOXSMCm5ZAgWdiNy0HEvxxI0BG7KbWqDoWRg1zC5W3dsXSfPB9RxC5tbh2mW74nDanEUu63PAViwQkAisiQEbsirDRQxueABmxG15FFgHVX9H/wRlE+geRGPocHfyzs6aftOXONfqhIn3nN9wRcarXKNeNn81mNGJJlxu/XpGERGBlBMiIXRk3emqjEyAjdqNryCof31hzQHzUQvdJ7Bz41TuMkTUF+rUmBDajEbsmYCgTIkAE1oEAGbHrAJ2yJAJEgAgQASJABIgAEVgdATJiV8ePniYCRIAIEAEiQASIABFYBwJkxK4DdMqSCBABIkAEiAARIAJEYHUEyIhdHT96mggQASJABIgAESACRGAdCJARuw7QKUsiQASIABEgAkSACBCB1REgI3Z1/OhpIkAEiAARIAJEgAgQgXUgQEbsOkCnLIkAESACRIAIEAEiQARWR4CM2NXxo6eJABEgAkSACBABIkAE1oEAGbHrAJ2yJAJEgAgQASJABIgAEVgdATJiV8ePniYCRIAIEAEiQASIABFYBwJkxK4DdMqSCBABIkAEiAARIAJEYHUEyIhdHT96mggQASJABIgAESACRGAdCJARuw7QKUsiQASIABEgAkSACBCB1REgI3Z1/OhpIkAEiAARIAJEgAgQgXUgQEbsOkCnLIkAESACRIAIEAEiQARWR4CM2NXxnJlfdQAAIABJREFUo6eJABEgAkSACBABIkAE1oHAFjBi72MsfgGRSMT81xcfw/w6wN4MWaqp64gGj6CqVAFjDIxtRyD2G4A0JiONYKwU9ZGJR1yUCUTqS8FYIyKT6Uecl558OhFEKWMoDSaQLUc19QPOtdRo9zFWi1Dyca5F1G7WpOJRJkSACBABIrBiAlvAiBUGETfIjH/1EUyuGNlj/KA6geiRcjBlF+rf/hA9vWfR8dJbiIw/eMRG7BJS49eQvCPMR6GzjWTE3kMiuA+M7UJjxyeInPsSo6mHj3FlEDqgdvMYK5mKRgSIABHY1AS2gBEr6WcygnpuyJIRK0HJHC6NdmE382Fn8DvMZU4bR49qJnYeyVAdFFaJYCJl5CUMqA1kxN6Po7WYge0NIfk4264OvQNYl3azhFQygpaqYjjbq4r01PeIBA+jQhFGdhmqmz/C0OSCrQQLmBz6CM3VZcZLbBHKa9/AudF7UG130k8iQASIABHYXATIiN1c+nqE0uYyUnNdX6loKSSClWAb3YhdF0NupUwL/Nxalz19GyPn3sB+4dJif+lUxxE5xI3SMlQH3kIw+C6O1e+Cwhh8Bz/GT4vCPFUxN9KJPYqC0upmdPX0oufMW6ivKALzH0HPTeerWoHJUXJEgAgQASLwCAmQEfsI4W6upFU8GOnELqagrOUSZoQdYBZCGLHFePJYEMf3cyNCQen+99Avz36lf8VAx/PGDFkZ9h+P4ua8kZhmDPmw85V38Jb2vJhFk//y2dcxwyd2P451vG4YM2XY334Jk2k9LfXutzjdtNfwT+VGyuuZ2TUtn1I8d6YP4abdmnHDSp9Ge/8vGX9X9R5Gz72Oam4oKU/i1WMNKM7iEyv8ZU13FPO+BUwOdKKBG0Uai7cQvXnfIGbMJu88iuBbT6N0TXyJTWUV9mANjVh16ku0aDyLUVlbg3LXlRMV8zfi+DIpzaaahq3sqzyN/uZysKJXEJtZMpioWBw9jT3Mh91dP0CcLSwwSo0IEAEiQATWgkBhjVj1HpLRP6Opyp/xP+WD+54/YWhWrME6l/cqGoKImgPSAsajr2U2FpXW4JUTxw1DoQgVTR/jWooPPQ+RSnyAhkpbXlUvoHPg14yxIlPMORjzJczPEWzQZ3U0w6T6NXyc+M1IbwG3oq+gjBVjT/AKZoWhp05jsL0ailKD4PDM5l2mTI8h0lQOxnagvvMb02DUEQojloEpexA49Qm6gw3w89mvpihuayxmMdJxAIqyDy3dl3C5+zVUKRIrwZ+VoLrtIsZSc5hODiIc4HmWIxCOI5G4gen0uGHEMiiVR3GqJ4xg/Q4wtg1N0V91vg9G0fPuh4jGr2Do/wZR62NQakJI8lk4M59iVAY60X32bdT5FTBfANHb3O82M0Pnr3sbZ8V10ziVKw2gpiZwNRZENTeoqoOIJRK4OjFrzPIVo6rlE1y+/Im29K3sOYnhWV4/hUsEg1L9DmJjs9nrBbWbTLtZ/BF9776P7vhNpIQe7TOxVvUYv8SM/j50jIgXiVuINpaBFb+B+H3RWAF1LIwaMmJdKdJJIkAEiMBmIlA4I1b9NwbeeFKb9VLK6/BK2wkEg0EETxxD0x/O4aZmwy7h7uAJVCkM4p4Tx+r1WTtzeU8MRnvRHPoUXYEnwFgxqppPo7ujCeWsBAfCN/DQ3C3vQ3n963pebS+jtpzPipWjKTLmNGQ9B8UlpK59hAa/AqXiME6cPY/es+/qxrNSh65rhr+mMFjZThyNjiONNKb6j6OClWB/ZwKpzFi5meqBKauauopQAzcYFfjr/4JBc5ZVGLEKtrUN6j6zSz+ga7cvYyTM9qO5SDJq1V8RbdoG5vujPhMm+FuMCqFvN5/YSrQN/a7JpvvrMhS3xiFMFFNo/IZYYDsYexbhsYWMEbvtHQzNcYVwv9tarV40908D4n7lMHq0TWsPMN5zWKu7WaMTCNlNg8qY5TMN4zRuRwPwmdEchBG7E63xmYyo9iNqN9nbjYO5HZ70e+47BHf6wMreRFx6Yb4Zfg4K86OucwhTfBZf/R0jnbVQlGcQSpI7gUSQDokAESACm45AgYzYh5iNv4kyvhQdOI+ftJlSFxYPbyB8oATM14iecRGeaAmzQ+9hJ3+2dQCzEEaNvqlHX8o1wjqlEwiWio1ZwqiSQz6pSE9eREuFfTAzZPEaFIVsZS2IabN1/Bmx9Chk09NRUwl07i8B8/8HznwZxtEyBb66/8R/iWVzl6JvplNq6gaircYLiTmz6MZbGGqyroqwN3Qd+ry7MB4NA9WVv9C3mxErbexyfVbXUXr6Kj7WZnOz5WOTXdQjaZOWcBnI24h1SeNhMoS95myulY27/qndeLabrDq30TRfBFxeXtO/4NJxvS6z0ko8XV0OxfcU2i9nWa2xJU0/iQARIAJEYOMSKJARO4N4604wVo2OEbHD3FlofRmPoai5H7PyZcuM3v8YG31kwyhfI5YnOofRrhow5jID5jEoqhM9qONL47Vt+FSKKRs5H0R9EQPb3YVR04FORXo8gia+RM2XmP0BREyjXC7YJj5WZzAcrIHCSlATGsWiOfMtvzTIhtq8SxxZm/Hoyn+lRqzsjyp8avM0Yl3kWLYR65KG6cagzdbKbEToMHt9oHbj2W7cGNsRpm9hsPMQ/HYXH+0+/lL7JY5XlaC0+mUE3z+ORs3VSYG/4SPDLcmeIP0mAkSACBCBzUKgQEZsPgM2kN1QkJ//fZVGrM1wkjXhMSgK2eTNO5bj0iASsi2S/hmRJr6EzcCqTiKRbfZZzn+THaszMRzlBrw2Y+nGVdbbWhqxaUwNtGv+ttwfdWh8EsNyhAOHnm2yO6571U1DafZn7L/5bZZzMhu54siVIJ97vGSTn38M242Fp8zNODZde4pRdfxLmw83X0gxohjsfA9Dmp8yP3cP10L/Ab/pluSSLp0iAkSACBCBTUGgQEbso5tRWkr24A/1TQjGp/honsOdgDMXS9jl0P0fJT14DIpiKdjd51JKQztMIRluhJ/twLONddpGr6r2b3B3k/vD2ktp8t7RgZElmyGo3SwbUWnjJWUN3Am4cdLgByt6Df2a/6NtNtehZ5vsC0NoKxHGuV5q8RKztu4E1G48241Dj3INFW0wiwHLb52KolFhKGkbgiV6rNC/6d8sp0vHRIAIEAEisFkIFMiIfXS+fRaQeRixaupbBKuKpJ3oUgpeAesXRxGq4X6uuVwDljA7fBJ7FB8qXv1/MfVwCvHjVVqc01f7J7PvQJfE2ByHdn9gmyGoFcJqxGImhoAvj41dFuPBZoC6pcvPyQaNqAfm7LgwBvN0JxAbzla1scvYTJZzY5fk1+tQPLUbHh84a7uRdW5hp2IxGUKNosB/qAc3zbiwlpsAsdHwUAS3pBdM9VYEh3wubk22x+knESACRIAIbGwCBTJi+VdJMxsolPIDeLH1XT1iQPBtNDe0ITbFHUqXE53AZfAXxotmBAmjioGV7kUjz+/EMcPnrQT7u65CbB0zVSCMF7Ydtc3vIBh8G6/UteJzQzbdOOUhpCpQ+8rbkvxvIDqpLwmrdy/jeIUPmVBK+P/bO7+fOI507/cf0DdzyQUS0mgkLiJZFuICy7LgAosIyVixLORNhCDKCqKNNc5ZGeLIkFUMjpaxNgtSgjfr0cYjJ+CEkffNJMecHLMxZAV2mN0lipF3nJg9ODEbg3HMwT4QBvf3VXX301PTvwbMgLH9WEromemuH5+nuurbVU89DfpOydoUZuX6mBwIQdWJA+FORF2DwhNvL5/YNEB+tHqIrb9gpL/NCLHV9TcjmoGrKFnB3MCvEVACKA2/g/7PxjGr2cSxIJh17W0Mt+6EouzCodggRswQW9YLE7LOFRfby76CucGj+kbEUF0nens7UWf6N696Jhb0MGOE2Boa+QitFYVQK7sxrkdEcKmDW0vg+wbZ9809TA5/grjwS482o1y465Q3Iyo+n/sSk/rmSfJ7D2F/+2njXMmP/dzwpHnv38FYZA9U8VKEQ28j1h9Hf+wEmsoLoah70TWe5ZnvZh3+jgkwASbABLYwgfyJWFFJ8aad+AlnnNiKI0hM0YJerjixNDO3WhGrIrhrF0ro9ZPBGrScGTPC6TjAi40eF9BhBdpXEaxow8D0snmmGSfWCqIvNgyJc8zya3MY7dgNxREPlkRRAGUdI5n4sY78t/IXS7gx0GGGKBP1DqGi6XdS/F67EBR1cRFqi98i0fac8RICdQfquy5mfBUd4tLksXgVvfRSAt11wSVd27Xa7CWcbBQvMjDexvT71n2ZV9faznWKWNM3MnbQCO8mXoQwcBbHggpWL2JF2e/heuJN82UMBSit78aQFZLMpQ5e5uf7RrpviBtt1pP/Up/gdw5FLzFhi5dvdP8qE3dav599Ykl72Yi/ZwJMgAkwgS1HIL8idlOr5yaqNrUAnBkTeAwJ8H3zGBqNi8wEmAATYAIuBFjEukBZ31dpzI7/l2OJU18elZY8M0uj68uNr2YCayPAInZtvPhsJsAEmAAT2KoEWMTm3TLkDiEvg7od09Jo3gvACTIBHwIsYn3g8E9MgAkwASbwGBF4jEXsY0SZi8oEmAATYAJMgAkwASaQVwIsYvOKkxNjAkyACTABJsAEmAAT2AwCLGI3gzLnwQSYABNgAkyACTABJpBXAixi84qTE2MCTIAJMAEmwASYABPYDAIsYjeDMufBBJgAE2ACTIAJMAEmkFcCLGLzipMTYwJMgAkwASbABJgAE9gMAixiN4My58EEmAATYAJMgAkwASaQVwIsYvOKkxNjAkyACTABJsAEmAAT2AwCLGI3gzLnwQSYABNgAkyACTABJpBXAixi84qTE2MCTIAJMAEmwASYABPYDAIsYjeDMufBBJgAE2ACTIAJMAEmkFcCLGLzipMTYwJMgAkwASbABJgAE9gMAixiN4My58EEmAATYAJMgAkwASaQVwIsYvOKkxNjAkyACTABJsAEmAAT2AwCLGI3gzLnwQSYABNgAkyACTABJpBXAixi84rzCUksfROj0RZUB1UoigJF3YOu8YVHULk0puONUJQg6uI3HkH++c7yBuJ1QShKI+LT6Xwnzuk9JIF0MoKgoiAYScJplcfdZmnMjPSgqSJk3MvKNtRGvsB0WjNpLWF69H00VxebvxejuuUjTCys+NOcjqNO9A11cUy7njmP8a69UEOvIjG97HqG+5ca0tMjiDbX6DbR+x+RTzCCpNM47knwt0yACTw1BJ4CEXsPk8OfIB6PW/+dG57E4lNj4jVWNP09LrQ9C1UpRHnTCcT6exGNnMbonRyD2hqzWd3pLGJXx+npPktbmMLfU7dBsmytNDZdxGoLmPr7Ndx+2AKvqYJLmIw1orr5HfT1/wnttdugKEWoiU7AkJY/YbS9BtWH3kas/0P06OJRRXHLBcz5lS+niL2DscgeqKFXEJ9aMku8goWpK0jd9lGjyynEDoSghBrQdX4Eyb9G0ViQXxG73vayJvx8MhNgAhtK4CkQsTSTopgzDX6zBxvK+jFIfBk34y8joBRhT3cSC36D2KbUhkXspmB+jDNZSUVRpXrNoq6uYpsqYleuIlpV+MhmFrVbCTQFFCi7o0g9EHw0pO/exT2617VJ9B0IQlEPIjHj8+CaU8Ta2S8iFa2FqpQjkvRa1dGwlIxgm1KA3dGr0IuXTiISzJ+IzUd7sdeMPzMBJvDoCDwFIlaCu+aOV7r2oQ9XsDD5BU63v4I9JQU5lsaXMH3hGCrURyS0H1xFdHcBlGeOY/Q+jWoPXfE8XMgiNg8Qn+gk/AXo6qrunwY9BOfJBSTPomx1NZTOovy3d2HcVaMuIBkph+IrNgGsuS9dTbou9zuVN0/uBP62ljjxIRNgAo8FARaxG2km7S4m+g6jXIhStRT7Dx9HT6wfn43PuCx9rmB+7G1UinN9fc02rsDaZAw1ioKC5kHMe2WT/gFDXS+hVC9nMfa0JXB9UQheGoCex7ufnEJTqRDsBShtOoMrc/+DwY59ho9bcB86Br83fQ/pmhp09p40r3FLU/aJFT5zf0VP406oigK19GWcHLsFDRruJ0+gTAmgLPIV7ovy06xS8VEMztlGbH0QDuKFU+cQazLSUrLK5hQv2QMglX0t9aU0a9EZfRN7dJ/j7ajrvoRZ65nBq36iQub1ZYcQeVPwlLl4GczrmiVMj/wBjWSnxj9ibFYs81K9vGxCAiaAssPH8eYe4UtJAs8rTZGs3G4KUPLix5ikmUBXe1I+XjaickorLBYPP4aiXdzFxNnXDZ9v9Vm8drQehTl9Yt1tpk3HUa8qCIQHMKebQMPSaAeKlBDq41PZ9zkJP3F/03/Pv4ajNYVQAr/GALXR+UE0FygobB3GPT1N4RLwPBSlEpGkuDNF/S6iq36Hfg8owefQlvh2VS5S2lQfDqgqiluHPO5xEpv7EU35OF1RXfZ1IEr3dqgB3fq9KLVVvW1Mmr7gUr2tNkPtlvK1nXNj1DkTm9WW5P4C0O5cxsmm3aY/rYpg9es4O3FXEDP96+X0zfsnKz25bVLZ+C8TYAJblQCL2A2zzBJuJg6jWPiWHoohOUN+YW4ZakjfTOBQcQChhl/ihcJHMRNLg28hamLfZg++VpHNzRpqFVp6L+Bi7xFUqIWojFzCvCYNEmoVmk/14nTrXgQUFUXBIIrrOtHb24m6kAolEEbiliyYhMivRPjdP+HdcCVUy2eP0pTEmukzp1a0oX9kAD3126GQSH1wDbG9RVAKDmNgLo2fx7uxw0rLqoRxQIOwsE+4G72nj6E2q2wkOEmgAe4iVpR9tfWlNBWo5Yfwbm/U9FHcgZZBIcQB+NWPRKwQ79XHMTA572Enua5SntY1Gpa/O4MDgUJUtH6EkQvvoj4UMP0gibmXTUhcCjFQhOr285jUNwH5pbmE67EXoCq7cCj2F3w1/Ge8F//GeNDwq28OG6Vnr+FyLKwL0MJwDJeS/0BqdikHQw33x7tRqaoI1R7DabJ7ThHrYTNavSh8A8P6mjwJThcRmJ5F6nIMYXF/F4YRu5REMjWF8Z4aKEoVusYNyboy3oXtQuRaS/6zGGwugVJwBIPzD4D7f0NXZSHUiiPovXgBvS1VUNUaRMbmfNrDEmYnzqOrbjuUUBjxKQ+Bqn2LmBDVVn3ktiQde9mG7kWrrYr75x5mUyOIhUugKCUIx4aRTF7DrLW5TKS7goUb4xiIPAdFKUR15DPjnMUxm4j164MA/DyBvrfeQ2L4Ekb/M4L9AQVqTRSpZQ3u7WXeu21K1eVDJsAEtiaB/IpY7S5Sid9JO2HFQKciWHkCo6Lz1f/Zd8MWoLQ+gkRKPC2Lf0uYShxBBe2MD9bgcGcb6mnGSMzs6YPmAywk/4D6ctp1a+ZV8St0D/3gsstYGnw9d9SuYCH1KSI0wyHKXn0EZ5I/mullhKkh3IwaQZvFSEd11kCizV1AS7EKpey3GJ23zQKal1l/0pOIN5VArejEyMwlo9P2LKN1VZ4PSLxIgtGegzlDFGhK4JYwlvYDEk3PmLNIS+ZMh4ptkTHokt08PyNahV/cfn0gax6clWb9VDzTPmKImvsjaH9GhbKjG+M/28v0APPDv0Gxsh2HBv6tz74aPnTbEB74UR8I5waPolgJ4kBfEiPt5RmBa68LDcKW64S9bCT+conYtdSX0tyFtmFjI5IxM6ZArY9jWstVP7q+DK3DxryfvVrOz27X3MZw605T7Iu2OY9kpNJhR3ebaJml5Cyh45fmv4yZOMeScI765rSR/cFC1D5HmvgRA+FtUNQX0Tf1s1A9mOp7UZ/R9I9O4GWz+5jQRSiJVjP9bREkl6zp9YxZHMvjGu4Nv4FCpQi1ff+CBhLB4iGiyYhisfINenYGMm1k8AgKlGfQlPhB7zPJzzUzG5zJzjiSZzlL0BSfdO8fBb3rMez1nak107Zs8yaG9f6NONIMNLU7un+oDH4+sfb7XXQRNp9Y3z7I3s+atlCeR2zSmETIfhAVdTHL6Wibdob8mQkwga1IIH8iVvs3ht4Qu9oVqCW1ONzeiUgkgkjnUTS9chbXdQ27gjsjnbrPJ53TebTOWJoOvYy+62IRmDq73WiOfoie8C79ybyi+SR6u5pQohRhb+waHljLQwGU1L1u5NX+H9iv+516dNTU8boKxBUsXHkf9SEVaumL6Dz9MfpPv2WIZ7UWPVfMzQgkWJUyHEpMIY00ZgbbUJq1GWoFcwO/RkAJorbnAsYGP0U8/mcMfPlP2+yDaBKLmIqHEaKZFOq0Xcu4kU3IZQCxZWcMANKmC5DwEwPTT85wWFQXa4Cw52H/LDI0Z52UBvTd+D9bmvcw3lUFRRqUDN88Fdu7xqEPYcvfoKeyAMqOcpQXBLCj6x8QUsXxz9EW7GWxD8J2wWQ/32XAtdooPRg40wTN5BV1YHQpV/1crndUzP6FyzUr4+jarkKpiWFS11lUFzEbeNfGXKQn22Q5I2LlNuqb5o8Y76rW/Sybz6WkDYM56pvTRnabiLLmSJPapDXL6ZaGzNCFX5bNHuD+6HE8Q+4DJgdPlxzK37onAMwNIBwg9wFDeBXt3489ivmwov9O9x31jySahfI0fdnlNOUq6LOc32Bs+P+hR1/p2I6GvmtmdAL5xLtIRsT9VYVI8q78g/PYYRvgQSqK3YqCovZRLJE4tNwGqNzrE7H+fZC8YUzMvH6NM/rsbyZPp4hd8GibzirzN0yACWw9AnkSsTT7oaI4/DG+84oxSMu9gUb0WctZK5gf/S3KFPLTos7OeII3Oh3yXTKfyvXBkwZeEggCrvAVO4+W0gCU4t9g2Jr9NcG7dLyWSahsxS0Y0Je6jfSWJ06i0iqbcba2kET3niIooV/i1OcxHCpWEaj9E/6p+4aKc6gOsv+VcayWHkTsCs06A9qt83i1uABlHSOYF4KCBjlZIFiF3MiDB5jXZ3hoRsielxtv+btJp/ihuliDq3y+iPtq/yyzcxPGN5FopHiW2Wwzs2gUYUGBEngZ8ZseMSodbcFeFqd4yR4A7edLtvOsrzNNayZIH+ynctTP7Xq7neyfXa6ZSaCRfK/JN1P/68bcbpMFdxHrm+YCtDtfoqOi0HggbYkjpfcROeyZ00ZuAnStabqlITN04WcXaLIP640+1JKglZOhY8c9IbotcwlfCOv7o2gvKkbjuc/Qs7MQO3u+wc+6ewH5w66iPJSX29/7XyFS5tY/kjuILbwW2UBqJ/q9Rt/L/VTWd/ZyUp+YEZTO4uW6p1x+d/QhS5ge6jZX7qiPyOSZfQ8bJXBvm87S8TdMgAlsPQJ5ErFzGG4tg6JU+wbF99w4ZC6XGX5Y/2vujn0YESsA0/Key5JrViebbQxNH3wUBPa340Mppmz84wjqRJzCnT2YsFarNKSn4mgSPpSic3f4mFEHXoXWeBI3xICdnsHE+WwfLcCc+bD8yCQhJA8O2UXdsE8rEz3YqdCMkD2bXAPIZohY4vocIgOXkEwmrf++vrFguqM8piJWD2lEG2C86kf1pyVau43cPrtcQ/dBdQQDEsNk8hvcWCC3EPnh0CZA6Hq5jdJ3rmkaN462cBXn2p5DUDwUvnoetzQqm0d9KU0rH2cbdIqStaa5DhFLYajIrWbnO7j0hXANkGZJ7SZxE7HUZxUcweeX38Nu/fobuh+sWv8hRnobMv6wdgGtp091Xk27uIvR9p1ZPrh6EqZLk6MvE368WW0kCf1ec9gm466lNiYw4yinrQ3ZuRiFyPEg7LR/9oPwdcwMdeh++hUtH2B0ahpjtkgLzvZiFMTZNl0LyF8yASawxQjkScSurhP16kCyZ6N+WqeIdevoTOpuHa/5E5XN2jUszTzo31mza3TBvxBvEoHDFSgVbyOZNfvsxYOWZY1BTrsZR0PAJpxJNJc3I3ruS0xas7ub0HLuDaNVbDopO4GkS4gtgxEta4rybKQ7gRiQF22DGg3APiJBn2kqQPG+fahSpUgFdnyOtmBvN04bUhsxZn3t50sPIFZbsZ/jTDN7KThX/Vyut9fL8dnlmiUx2ydvHJIvspdZ/Ebt1hRJDnbCld0vTSl97RYGW3ZA0YXaj6ag8rCnIx9n2bJtIvLJwdClnM40pPI6xJjb8j35sdYgHK6C4uUPK5J1FbHkF1uF11sbENCvX8Z0vAlq4UtofrXM9IcVCZAYlJjldCeQ60N8atAzocfwyLg0KR5uWPLldOywTcadwLg/7O2Oyp2ZFaWkMn+d9rXz8u2Dxq4gXh+SBL8zT19bZ7VNj41vmcLyERNgAluAQJ5E7MbNxK6k+vBKXRMiwzOZAUCfmXHp8HSgJKxKYGwekii7dLz0K/lzZcLa0C9ufxeQijUipGzH8421egSCio4vccfax0E8pIFGTya7U6UO1VM4W/5kbmXYiO/IJy6E2ugVZ8ge03fPf2OXNIPnGLDtNqPP8sYuc7lTn/mm3ynNjK/xgb5Jl53YadxKhBEQPn1fjSPeUCxFQrDxcrQFe15kQxrsRd6HUWDtYref7yZQ7OfQwF6O9tGf9ALRxi7DhzJX/ej67Bm3lVQvXiovzmyoy6qq2zX2zU3yBVRmL5tkZtyyXznql6Zb+sL/dt7yHXe1Z04buc2i5mBIs6Zr3tjlZTOjbtR/iHvZ0x9WnOq4J4zrjVBdAQSDhdb1mTTlB0eq31o2dkn8He4EtKoUQKgpjqmsiAHSdfZDso21MZI2dlG/a2932X2fPTnjM7U9ut9dePn1QbfMTbHWQyTdwxnhTH1uxv1ILgnln4kUIf/Kx0yACWw9AnkSsRvnE5uFjAYAHxGrLVxGpKLAXbzQTKO0qcNKf3kC0Rrh5+oTfkY/meK5BlD62n9j5sEMhtsq9E0rrw1Om8KKBI/8ekcRPsncdCTHhLQKYB5k1dH+48Z/zviHFZuvohSvnX0Pg+L959ocxiI1UPUQW3/BSH+bEWKr62+47/CnFqZ6AAAe5klEQVRNcxmAHOfQoEFhqj7EqeYqqEox6vu+0zfNTccbs18QYYYXUkK/QEf/FxgbG0Lig8+REjPWpg2NkDppGJEKbDYghDQIey5VkyBWERLhwfq6ES4XPp30digqu8+A66gvDey2cE3qXl3Q6UXzq5/brCCWcaOvAYqyE63Dt6l20l/KUxa+cpip4+gfuoyx4QQ+GEhh0Sqzl028RKxfmvP4+uwf0XthBGNDH6BF+MbSbL9ffXPaKLMpSikNo6f/vzAuYt36pYkVs12YdqWwb5ZdJXT6IfHzsZk4b2kMkW3CvYgiZdjToc+0Y34Xwj0fZWJG02yq7E9L/ZUVH9ZIQ5u/hAiF2Bq6iP7WZ6HKbYiyEn8ffIu+Vw6i/VQv4v3vo1OPvCJt7Fq8gmitiPBSisauXuvV3PH4JxieNEJ+yclZx2QbW4g6tbIb4/oqDnGjdkfiO4DS8Dvo/2xcio1Mqa7invLtg8wIGXoot0GMmCG2sl7cYIrgTHu57d02qVj8lwkwgS1LIE8iVgiW73GhjaIT7MXB1reMiAGRY2iub8eA/grDtUQnoM5PYpcl8KjDE68k3I1GkV/nUTRWiA65CHt6vnbOJNIsjLIN+5uPIxI5hsO1rfjULJv1sgH9xQTHpPK/gcS08b5v7c5FtJUGoFa+jTEzdBZ9p8ibwha/Ro/Y/KXuQH3n++jvP43fN1XoMVBdy0bVzKojfbmZfzWkZ8ZwpvUASmjzT7AWPePmzt/Fb5HQ/RqFyNmB+q6LmNZnb8geaxF1dE0BdtU1mMH/t6E28oV3mvrmvb/iZLgqE9C84hgGZ5ZMcVKMBgoyb806eb3sQI7HS2WRyr/8HT55VcStFW3sObSd/QMOF+VBxL5wEuejv0SI0s0KVG8E6nfWT7Q/uzAQ7cJc6rdmxOxtxe0acY54McEfEdbvF7EBJoSKtguYseL9etnES8T6pPngewy89mzGXlYAenGNT31JKHk+aIjrF5DqDZsv36AZNJ809Szv4krsoHGNeMHFwFkcC5JdxQnyP5Ofr83E+eZ5VgxkOQ35WMNiqtd8sYcUVYPCnGX505qCl+LDWsloWLyeQJv+ognxwo+X0DXkEVZw4e+IWsH/ReSY59F+7qoVIYJmJp2rQdJ9YOUrHei2MV5EERWxmkU4wj1vInGdhK9Lu1u8il56sYjrG8Nc7kHqD63ZVeH94NUHAdrsJZzUX4QiwiM24/et+2yvurW1l39c9WmbUn35kAkwgS1JIH8iVlQvfQvj8RPOOLEVR5CYomD/ueLE0rLTakWsiuCuXZLgqkHLmTHMuC6LicHtAjrMzl/veCvaMCBmGfV/ZpxYqdM3zjHLr81htGM3FAqHZV4lAnUbs36BTJQBMTg7xGANWs5+Yw0g1uXyAXXa1sAt//ikHbsMWk9aFTe6PvoMYIF3KLE15882WTMycYEZ39hytXmoRPgiJsAEmAATWAuB/IrYteS87nN5sF03wkeeANtwvSbQI0r4hRJbcwZskzUj037CePd+qKuJr7rmxPkCJsAEmAAT8CLAItaLDH+/CQRYMK0Psob07R9x23XV4WFTZpusiZx2FxN9h1Eu3nKlhw1b09V8MhNgAkyACayDAIvYdcDjS9dLgAXTegnm/3q2yZqY6ps1CxGqf998HfaaruaTmQATYAJMYB0EHmMRu45a86VMgAkwgbwQSGN24qq5ETEvCXIiTIAJMAEmsEoCLGJXCYpPYwJMgAkwASbABJgAE9g6BFjEbh1bcEmYABNgAkyACTABJsAEVkmARewqQfFpTIAJMAEmwASYABNgAluHAIvYrWMLLgkTYAJMgAkwASbABJjAKgmwiF0lKD6NCTABJsAEmAATYAJMYOsQYBG7dWzBJWECTIAJMAEmwASYABNYJQEWsasExacxASbABJgAE2ACTIAJbB0CLGK3ji24JEyACTABJsAEmAATYAKrJMAidpWg+DQmwASYABNgAkyACTCBrUOARezWsQWXhAkwASbABJgAE2ACTGCVBFjErhIUn8YEmAATYAJMgAkwASawdQiwiN06tuCSMAEmwASYABNgAkyACaySAIvYVYLi05gAE2ACTIAJMAEmwAS2DgEWsVvHFlwSJsAEmAATYAJMgAkwgVUSYBG7SlBP1WnpmxiNtqA6qEJRFCjqHnSNLzwCBGlMxxuhKEHUxW88gvzzneUNxOuCUJRGxKfT+U6c03tIAulkBEFFQTCShNMqT5LNljA9ehpH95dCdW2DGu4nT6BM3PN1cUz78ZyOo873vHmMd+2FGnoViellv5Rsv2lIT48g2lyj20Tvf0Q+wQiSTuPYruWPTIAJPG0EngIRew+Tw58gHo9b/50bnsTi02bp1dY3/T0utD0LVSlEedMJxPp7EY2cxuidldWmkMfzWMTmEeYTm5S2MIW/p25De8gabrqI1RYw9fdruP2wBX6Yemp3cSX6S4T0h9ISVDe+h+TCg+yUtB+QaHrGeHBdt4i9g7HIHqihVxCfWjLzWcHC1BWkbvuo0eUUYgdCUEIN6Do/guRfo2gsyK+IXW97yYbGn5gAE3iUBJ4CEUszKYrROfvOHjxKU2yFvJdxM/4yAkoR9nQnsbCZg6xr9VnEumLhLy0CK6koqlSvWVTrNN+DTRWxK1cRrSrc5JnFNGYG21CqFKKiJY7UgtsDqYblVBQ1gSIEi1SsfybWjnwRqWgtVKUckaTXqo6GpWQE25QC7I5ehS6x00lEgvkTsfloL/aa8WcmwAQeHYGnQMRKcHMugUnn5u1wBQupOFoqCuE6MKRvYTweQX1pgSmyVQSrWxAdvWlb2hRLge+jubrYPK8AJfvfwNmJuw89A+Wo4oOriO4ugPLMcYzef+QKFgCLWIeN+IssAv4CNOtUzw/+adBDcJ5cQPIsyjwrJf9w/ytEygIIHDiD75Y97mvtFgZbdiDQcBCvbNsIEbuAZKQciq+Idbnf88zL39YyND5mAkzgcSDAInYjrSQE6tk3sId8Sx1LdDTzKYTrQbRHIug8WodSVYESaEDsu/tm6TTcH+9GpSrOa0ZPXz/6Tr2JOiF8Qy+j7zqdt77KaJMx1CgKCpoHMe+VVPoHDHW9ZJRRKcaetgSuL4qBkQag5/HuJ6fQpIvyApQ2ncGVuf/BYMc+w8ctuA8dg9+bAp2uqUFn70nzGrc0ZZ9Y4TP3V/Q07oSqKFBLX8bJsVvQQP58AZRFvoJORJtE34EglOKjGJyzzT7pDzRBvHDqHGJNRlpKVtmc4iV7AKSyr6W+lGYtOqNvmu1iO+q6L2HW0hZe9RMGMa8vO4TIm4KnzMXLYF7XLGF65A9oJDs1/hFjs2KZl+rlZRMAOrsAyg4fx5t7xEOVKfDSNzHS87LRNtSdaDwp1Sur3RSg5MWPMalPtfnU19dGVE5phcXi4ZOmwKTdxcTZ1w2fb/VZvHa0HoU5fWLdbaZNx1GvKgiEBzCnm0DD0mgHipQQ6uNT2Q+Y9BAtVoPov+dfw9GaQiiBX2OA2uj8IJoLFBS2DuOenuYSJmPPQ1EqEUmKO1PU7yK66nfo94ASfA5tiW89XKTSuJUII6CUo330J49GYs7CquVoHx4wZj4dfZXtUqrLvg5E6d4ONaBbvxfFudTWRduYNH3BpXpTm7GSJZFrO+fGqHMmNqstyf0FoN25jJNNu01/WtFfvm4+6Pu0l6z05LZpFY4PmAAT2KIEWMRukGG0mc/RoguEQpTvr0GJlxvD4rf4y+f/lJbuSdhKS2qYxWBzCZSCw5mBDhqWJ06iUglgZ883sEm0h6gVDb6FqIl9mz34WqmZmzXUKrT0XsDF3iOoUAtRGbmEeU0aJNQqNJ/qxenWvQgoKoqCQRTXdaK3txN1IRVKIIzELVkwic1jlQi/+ye8G66EqhShJjqBZUtQSWLN9JlTK9rQPzKAnvrtGZH64Bpie4tMTmn8PN6NHVZaViWMAxqEhe9vuBu9p4+hNqts8iBs+PC5i1hR9tXWl9JUoJYfwru9UbTXboOi7EDLoBDiAPzqZwkDBWr1cQxMznvYSa6rlKd1jYbl787gQKAQFa0fYeTCu6gPBVDccgFzWXZ0swmJWCE2ilDdfh6T+vL0fXwXa0BAfRat/V/gQs9LCFn1WsL12AtQlV04FPsLvhr+M96Lf2M8aPjVN4eN0rPXcDkW1gVoYTiGS8l/IDW7lINh5oEwVHsMp8nuOUWsh81o9aLwDQzfExYkwbkf0ZTN8z49i9TlGMKFCpTCMGKXkkimpjDeUwNFqULXuCFZV8a7sF30F7ujSOlCn+7/IxicfwDc/xu6KguhVhxB78UL6G2pgqrWIDI252wP5Oeqr64sYjY1jq9vLNjO+wmj7eVQa6JI3R9bm4i13z/WAyO1OyFi72E2NYJYuASKUoJwbBjJ5DXMpq0nNwArWLgxjoHIc1CUQlRHPjPOWTTLY23s8uuDAPw8gb633kNi+BJG/zOC/QHFqNeyBvf2Mu/dNuXbiI+ZABPYkgTyK2K1u0glfoemilBmpkFREaw8gVHR+er/nMvipfURJFK0LL6EqcQRVNDsZbAGhzvbzOV2c2ZPHzQfYCH5B9SX2/Kq+BW6h36wLcWbWdOg6DnLIJb+P0WEZjhE2auP4EzyRzO9JdxMHEaxQsLNTFebxUhHdfZAsvwtzr31e/QOX8dCznzNdMw/hlhSsb1r3BSnN5FoLIZiDZTGicbMab5ELIlQSTBmFwswZ4gCTQncEuMPDZD6LNKSGUlAxbbIGPStHOb5GdEq/OL26wNZ8+CsNOun4pn2EUPU3B9B+zMqlB3dGP/ZXqYHmB/+DYqV7Tg08G999tXwoduG8MCP+kA4N3gUxUoQB/qSGGkvzwhce13IJpbrhL1s8iDsJ2LXUl9Kcxfaho2NSNpUHw6oCtT6OKa1XPWj68vQOmzM+9mr5fzsds1tDLfulB6K5pGMVJqzgRk7uttEM2dihRAj4QZgfgitxSoKDg1gTtdyY4hsU80ZSrMMlhChUuaob04bAdkPFiLdHGniRwyEt0FRX0Tf1M9C9WCq70V9RtM/OoGXze5jQhehJFrN9LdFkFySRZpZZ8fyuIZ7w2+gUClCbd+/oFkiWDwcNRlRLFa+Qc/OQKaNDB5BgfIMmhI/6GJUu5VAU0CeDSa+wi7GrK767Es4qM+ai4ePQlS0fY5pU0RqN+NoCBSjQcwcU/k8+0gzbcs2b2J4XjxCE0eagaZ2R24YNNPq5xNrv99FF2HzifXtg+yP8qYtlOcRmzQ2lznbi1fblBjyIRNgAluWQP5ErPZvDL0hdrUrUEtqcbi9E5FIBJHOo2h65Syu6xp2BXdGOlEhBm3zHGv53FoWp85uN5qjH6InvMvodJtPorerCSVKEfbGruGBNUsXQEnd60Ze7f+B/SXCt7QETfFJp5Cljte1g17BwpX3UR9SoZa+iM7TH6P/9FuGeFZr0XPF3IxAglUpw6HEFNKgTRM+m6F887W3jbtIRqqgKDvROnzb/JFmskKo7R7FjBh8tJ8w3r0fqvoLRFP5cCdwGUBsRTMGAHmGmISfGJh+cobDsg9Als1IKLvlac46KQ3ou/F/tjTvYbxLsMkMSsbStiT4l79BT2UBlB3lKC8IYEfXPyCkiuOfwyb2stgHYbtgsp/vMuA66utMEzSTV9SB0aVc9XO53lEx+xcu16yMo2u7CqUmhkldZ1FdxGzgXRtzkZ5sk+WMiJXuI2P2UJ7FN/Pd3oXxlQWMd1Xr/pDN51LSqkOO+ua0kd0moqw50qQ2ac1yuqUhM3Thl2WzB7g/ehzPkPuAydbTJYfylwX93ADCAXIfMIRX0f792KOYDyv673TfUf9IolnodtOXXU7TrIJ2ow+1YlZXzJAnrmFh4TsMtO+FqpiiFWZ/U3YCSeEHT+WTbCvTsI4dtgEepKLYrSgoah/FkrVqkF8R698HyRvGxMzr1zijz/5mhLNTxHq1TaumfMAEmMAWJpAnEUuzHyqKwx/jO9fdr6KzNZd7A43om6KlthXMj/4WZYqK4tYhzIM6aaPzMzodU/RkdbA08JIgEpSFr9h5tJQGoBT/BsPW7K9pAZeO17INla24BQP6UreRnrFkT2UzztYWkujeUwQl9Euc+jyGQ8UqArV/wj9131ArxcyBX76Zs/SZyZmhDlSoKkJNcUzJy21W6CuxU7cc+6pLoAaeQ8dFj1nnrHRX8+EB5vUZHpoRsl/jxlv+btIpfshe1uAqny/ivto/izzJ/m7C2JyRJn9C6W9mFo3cMYRf8cuI3/SIUemwib0sTvGSPQDaz39IEZs12E8ZM+5Svch30qifs0x2Kzk/u1wzk0Cj8Lt25OPG3G6TBRcRu4KZxEHDP9Oepml77c6X6BCbG7N2yOewZ04buQnQtabploZM0YVfls3S1myn7sOqi0aajZTTMY8d94Totr5FTPjFCmF9fxTtRcVoPPcZenYW6q5CP+vuBeQPu4rySNlSm8341wI0c6vU9mHqBzELSxMDUhsmEUs2kOyqt0X6ns4TeWZ9Zy+nfF/LYlMqrFt/kMXL5Z5zXLOE6aFuaaOsaOd+Ilb40bq1TblcfMwEmMBWJZAnETuH4dYyKEq1b1B8z41D5nKZsTz5v+Yu1ocRsQIzLe+5LLlmdbLZJqEZi8D+dnwoxZSNfxxBnYhTuLMHE9ZqlYb0VBxNwodSdO6hMOKWKM9OV//kk2/mbLHR5h3dZ1StfBtj+hId/SrE+edoqyhCsPo/EPl9Gxp1lw0Vofr3ccXroYEuX+XflYke7FRoRsh+Ua4BZDNELA2MzyEycAnJZNL6L+Pn95iKWPUgEjO0AcarflR/mt2y28jts8s11B6rIxiQGCaT3+DGArkTyA+HNgFC11sChtoG+TJm7JL8+oY186otXMW5tucQFA+sr57HLY3K5lFfz3wyZSORlnmIWWua6xCxus1WMm41O9/BpS+Ea4A0S2o3SZYoox/NPqvgCD6//B5269ff0P3g1foPMdLbAKXA9Ie1C2g9Caqzs104+UhCNdiOeJ94mYjbA40p/kYmkcpqI0nDp9Zhm4yIVRsTmHGU09aGqOpZf6kdZexrzQzrD0Muv2eJ2OswJgFEKLEPMDo1jTFbRARXHuI5wtE2swrGH5gAE9iiBPIkYr07UbneXh1I9k7Wn9YpYt06OrMUbh2v+ROVzbNDt2YT6YJ/Id4kNuUoUCreRtJPSPrka6QmuVlUHMOFaQoObualTSHeUAyl7LcYJXFrBS+XZlHM0x/6z71htIpNJ7S0aEvIYETLmuLHjXQnEAPyom129y5G23dC8RMJejihAhTv24cqVYpUYKtL9qyR+NHebpxtmtqIIZjs58vigN4uZD/HmWb2UnCu+rlcb6+X47PLNUtitk/eOCRfZC+z+I3cCUyR5GjPtClQbhtymtKxGcrJsOGP/vZ05OMsW7ZNRD45GLrU3ZmGVF6HGHNbvqfNXDUIh6ugePnDimRdRSz5xVbh9dYGBPTrlzEdb4Ja+BKaXy0z/WFFAiQGJaHs404Ac9Y9Ez1BKsPuU7hy65r1IKg/FF4yN57pDzjiocZ6cpeh2GZdjZ/IncB91YDKnZkVzU5QfHLa187Ltw8au4J4fUgS/M48fW2d1TZppdBZSv6GCTCBrUMgTyJ242ZiV1J9eKWuCZHhmcwAoM8AuXR4OlcSViUwNg9JsB2DYuY36oDlZbfMr/ajBaRijQgp2/F8Y62+0aui40vccdnHoV/pk69wgVhMnTF8cd0ErEjAHIgMXzOpLDQgWzNi0m8PdUj+uCHURq84Q/aYvnv+G7u8ZlFEgew2o8/yxi4jpqUx802/U5ormBv4NQL6xq1J2w5rI30jnFAVIl+NG8LfioRgA+KwiT0vatM16JkQPsci78MosHax28+XxIH1wGM/hwRlJtwRbewyfChz1Y+uz55xW0n14qXy4syGuqyqul1j39wkX0Bl9rJJZsYtK+6x2TbUA32Y8roP9GwofeF/O+9vz5w2cptFzcGQNiOueWOXl80MdtR/iIdaT39YcaqriAWMUF0BBIOF1vWZNOWHA6rfKjd2UZg5awMjYKyISfbNMr+5kSpXn0K2sdKljV3U79rbnVNQytkax9Q26H534eXXB926ZAvHRfdwRjj7ilirf8pEinCWkb9hAkxgKxHIk4jdOJ/YLFg0APiIWG3hMiIVBVIYJykFmmmUNnVYvy5PIFoj/FxzuAZgBfNjb6NSDaD0tf/GzIMZDLdV6H5Xrw1Ouwgrj0GfMrby9Yn3SjtyG+K4KQkEY1dxjkGT8lnl34x/WDGqD71tvnb2PQyK959rcxiL1EDVQ2z9BSP9bUaIra6/4b41APgMQI5zaNCiMFUf4lRzlb7ppL7vO33T3HRcLHdKaZrhhZTQL9DR/wXGxoaQ+OBzpIQ/sslSDxW0nIYRqYDCddkA0CBsDdZUFsqL4muqCInwYH3dCJcLn056O5T9fJcB11FfGtht4ZrUvbqg00voVz+3WUEs40Zfg20joFxXylMWvnKYqePoH7qMseEEPhhIYdEqs5dNvNqzGfpI2Ybajo8wNHYZw4mPMZAS/o/z+PrsH9F7YQRjQx8YL/6g2X6/+ua0EQBT1CilYfT0/xfGRaxbvzTFw4gewcK0K4V9s+wqsxPHxM/HZuK0JSMag6JQpAx7OvSZdszvQrjnI3w2PmP0GTSbShvExOnUX1nxYY00tPlLiFCIraGL6G99Fqrchigr/S+t8hhL7EMjn6KrbjsUrw2hWX1sVkLZH8g2thBbamU3xvUXpRA3anckvgMoDb+D/s/GpdjIlPQq7infPsiMuqGHchvEiBliS/aJdbaX295tk4rFf5kAE9iyBPIkYsUA/j0utFF0gr042PqWETEgcgzN9e0YmBHLUtShriY6AXV+ErusDpY6PLHRaTcaRX6dR01f0SLs6fnaOZNIszDKNuxvPo5I5BgO17biU7NshjgVg3cp9h8+JpX/DSSmjTBL2p2LaCsNQPZbpe+UrE1h9zA5/Aniwr822oxy4XZQ3oyo+HzuS0yam8DID9Xhi5t1nvkecoWEZRz9sRNoEqLKc/CSuK3pUEN6ZgxnWg+ghDb/BGvRM25uxlj8Fgndr1Fw2oH6rotmqB6yB4nA1Yg6uqYAu+oazOD/21Ab+cI7TX3z3l9xMlyVCWhecQyDM0umOKFd18I92pzVtWJXSiBoEPYUsSJm63f45FURt1a0sefQdvYPOFyUBxH7wkmcp/fYOwLVG4H6nfUT7c8uDER9zKV+a0ZMqqN+6HaN+EH4YP8RYSscXggVbRcwY8WJ9bKJl4gV9r6JkZOHpPB41WgTD3ba9xh47dmMvawA9KIcPvVdjY2wgFRv2Hz5Bs2g+aSpZ3kXV2IHjWvECy4GzuJYkOyqQ5P+Z/LztZk43TzPa+bfSlGsvPSaL/aQomrADHOW5SpjCl7LH5YS0bB4PYE2M2SWWvoSuoZ8Nnhq87j+aSdq9cgtxgtCekbsbwQ0087qYyk/l7+6bYyXhURFrGYRjnDPm0hcN2LdWjzklxosXkUvvVhEj1phT5f6A78+RHgxefVBgDZ7CSf1F6EYL4b5fes+26tube3lH1d92qa9fPyZCTCBrUYgfyJW1Ex/heoJZ5zYiiNITJGfZ644sbTstFoRqyK4a5ckuGrQcmbMCEPloC0GtwvosOIlqghWtGFAzDLq/8w4sdYbX8TmBnGOWX5tDqMdu6E4AovT7E4AZR0jmNdnS0k8uG2aoLpRp+12jviOzhNsf8BQ968yAkEvl09MXEfdt+IXVH9p0NqKxdzKZdJnAAu8Q4mtuexskzUjExeY8Y0tV5uHSoQvYgJMgAkwgbUQyK+IXUvO6z6XB9t1I3zkCbAN12sCfSbfL5TYmjNgm6wZGcVsVqoQSd5d8+V8ARNgAkyACTwcARaxD8eNr8oLARZM68OoIX37R9yW4wmvL0Ex5W+LCLHuBJ/sBLS7mOg7jHKVwoY92dXl2jEBJsAEthIBFrFbyRpPXVlYMG09k7NN1mQT/Q1xhXmN17ym/PlkJsAEmMBTTOAxFrFPsdW46kyACWwRAmnMTlw1NyJukSJxMZgAE2ACTwkBFrFPiaG5mkyACTABJsAEmAATeJIIsIh9kqzJdWECTIAJMAEmwASYwFNCgEXsU2JoriYTYAJMgAkwASbABJ4kAixinyRrcl2YABNgAkyACTABJvCUEGAR+5QYmqvJBJgAE2ACTIAJMIEniQCL2CfJmlwXJsAEmAATYAJMgAk8JQRYxD4lhuZqMgEmwASYABNgAkzgSSKwKhH73+Unwf8xA24D3Aa4DXAb4DbAbYDbALeBjWoD//psfE0ae1Uidk0p8slMgAkwASbABJgAE2ACTGCDCbCI3WDAnDwTYAJMgAkwASbABJhA/gmwiM0/U06RCTABJsAEmAATYAJMYIMJsIjdYMCcPBNgAkyACTABJsAEmED+CbCIzT9TTpEJMAEmwASYABNgAkxggwmwiN1gwJw8E2ACTIAJMAEmwASYQP4JsIjNP1NOkQkwASbABJgAE2ACTGCDCfx/XUjbW1vuHd4AAAAASUVORK5CYII=)"
      ]
    },
    {
      "cell_type": "code",
      "metadata": {
        "colab": {
          "base_uri": "https://localhost:8080/"
        },
        "id": "XNxDKBLDVAx9",
        "outputId": "ca32b8f8-16bc-4043-f8f2-86b481125c8a"
      },
      "source": [
        "#cek jumlah dimensi pada array\n",
        "\n",
        "import numpy as np\n",
        "\n",
        "c = np.array ([[1, 2, 4, 5],\n",
        "              [1, 3, 5, 7]])     \n",
        "c.ndim"
      ],
      "execution_count": null,
      "outputs": [
        {
          "output_type": "execute_result",
          "data": {
            "text/plain": [
              "2"
            ]
          },
          "metadata": {},
          "execution_count": 10
        }
      ]
    },
    {
      "cell_type": "code",
      "metadata": {
        "colab": {
          "base_uri": "https://localhost:8080/"
        },
        "id": "MxQfit27Qc77",
        "outputId": "50e7f9c3-3fb3-4b75-df9c-2d47739b503f"
      },
      "source": [
        "import numpy as np\n",
        "\n",
        "d = np.array ([[[1,2,4,5],\n",
        "              [1,3,5,7],\n",
        "              [1,2,3,6]]])     \n",
        "d.ndim"
      ],
      "execution_count": null,
      "outputs": [
        {
          "output_type": "execute_result",
          "data": {
            "text/plain": [
              "3"
            ]
          },
          "metadata": {},
          "execution_count": 11
        }
      ]
    },
    {
      "cell_type": "code",
      "metadata": {
        "id": "93N_R5VTWwJt"
      },
      "source": [
        "#operasi pada array\n",
        "#mengenal operasi pada array\n",
        "\n",
        "g = np.array([1, 2, 3])\n",
        "h = np.array([1.1, 3.2, 3.3])"
      ],
      "execution_count": null,
      "outputs": []
    },
    {
      "cell_type": "code",
      "metadata": {
        "colab": {
          "base_uri": "https://localhost:8080/"
        },
        "id": "6XF5A3D8YUZZ",
        "outputId": "1aa813cd-df30-49e7-a30d-edc917e8d0ad"
      },
      "source": [
        "print (g + h)\n",
        "print (g * h)"
      ],
      "execution_count": null,
      "outputs": [
        {
          "output_type": "stream",
          "text": [
            "[2.1 5.2 6.3]\n",
            "[1.1 6.4 9.9]\n"
          ],
          "name": "stdout"
        }
      ]
    },
    {
      "cell_type": "code",
      "metadata": {
        "colab": {
          "base_uri": "https://localhost:8080/"
        },
        "id": "yf9EFYAXgeKQ",
        "outputId": "fbe30978-a832-45eb-ba75-b6460de7c14a"
      },
      "source": [
        "#coba kita bandingkan dengan matlab\n",
        "\n",
        "import numpy as np\n",
        "\n",
        "a = ([1, 2, 3])\n",
        "np.cos (a)"
      ],
      "execution_count": null,
      "outputs": [
        {
          "output_type": "execute_result",
          "data": {
            "text/plain": [
              "array([ 0.54030231, -0.41614684, -0.9899925 ])"
            ]
          },
          "metadata": {
            "tags": []
          },
          "execution_count": 1
        }
      ]
    },
    {
      "cell_type": "code",
      "metadata": {
        "id": "1jt9E1pbYtij"
      },
      "source": [
        "#fungsi matematis pada np\n",
        "#import trigono\n",
        "#contoh ufuncs pada numpy\n",
        "\n",
        "import numpy as np\n",
        "a = np.cos (90)\n",
        "b = np.sin (90)\n",
        "c = np.tan (90)"
      ],
      "execution_count": null,
      "outputs": []
    },
    {
      "cell_type": "code",
      "metadata": {
        "colab": {
          "base_uri": "https://localhost:8080/"
        },
        "id": "dKRCQwMtZU4n",
        "outputId": "7d1ba94d-9853-4a33-bef7-458c3b060284"
      },
      "source": [
        "print (a)\n",
        "print (b)\n",
        "print (c)"
      ],
      "execution_count": null,
      "outputs": [
        {
          "output_type": "stream",
          "text": [
            "-0.4480736161291701\n",
            "0.8939966636005579\n",
            "-1.995200412208242\n"
          ],
          "name": "stdout"
        }
      ]
    },
    {
      "cell_type": "code",
      "metadata": {
        "colab": {
          "base_uri": "https://localhost:8080/"
        },
        "id": "vfmRZHZRZgdm",
        "outputId": "1cfc3c0b-76e3-4638-dc59-05ed1e7fdbe3"
      },
      "source": [
        "import numpy as np\n",
        "\n",
        "A = ([1, 5, 7, 9, 10, 12, 17, 19, 21, 23])\n",
        "B = (([1, 5, 7, 9, 10, 12, 17, 19, 21, 23]))\n",
        "\n",
        "z1 = np.sin(A)\n",
        "z2 = np.cos(B)\n",
        "\n",
        "print(z1)\n",
        "print(z2)"
      ],
      "execution_count": null,
      "outputs": [
        {
          "output_type": "stream",
          "text": [
            "[ 0.84147098 -0.95892427  0.6569866   0.41211849 -0.54402111 -0.53657292\n",
            " -0.96139749  0.14987721  0.83665564 -0.8462204 ]\n",
            "[ 0.54030231  0.28366219  0.75390225 -0.91113026 -0.83907153  0.84385396\n",
            " -0.27516334  0.98870462 -0.54772926 -0.53283302]\n"
          ],
          "name": "stdout"
        }
      ]
    },
    {
      "cell_type": "markdown",
      "metadata": {
        "id": "KtvQ7ZVoaPR4"
      },
      "source": [
        "Pada NumPy telah disediakan universal functions (ufunc) yaitu fungsi yang dapat melakukan operasi pada NumPy array dengan eksekusi elemen-demi-elemen. ufunc merupakan sebuah ‘vectorized’ wrapper untuk sebuah fungsi yang memiliki input dan output yang sepesifik. Contoh dari ufunc misalkan fungsi sin dan cos.\n",
        "\n",
        "vist to get more: \n",
        "https://numpy.org/doc/stable/reference/ufuncs.html"
      ]
    },
    {
      "cell_type": "code",
      "metadata": {
        "id": "HQIh5V6bbQPv"
      },
      "source": [
        "#masih pada ingat cara indeks array seperti yang kita lakukan kemarin?"
      ],
      "execution_count": null,
      "outputs": []
    },
    {
      "cell_type": "code",
      "metadata": {
        "colab": {
          "base_uri": "https://localhost:8080/"
        },
        "id": "zCXFSSmFjRos",
        "outputId": "d63eadb6-6fca-4d4c-e4d2-60ea6deba8a5"
      },
      "source": [
        "b2 = np.array ([9, 3, 5, 7])\n",
        "b2[0]          #0  1  2   3\n",
        "                #9  :1\n",
        "                #1: 3  5  7\n",
        "                # //setiap tidak dieksekusi "
      ],
      "execution_count": null,
      "outputs": [
        {
          "output_type": "execute_result",
          "data": {
            "text/plain": [
              "9"
            ]
          },
          "metadata": {
            "tags": []
          },
          "execution_count": 39
        }
      ]
    },
    {
      "cell_type": "code",
      "metadata": {
        "colab": {
          "base_uri": "https://localhost:8080/"
        },
        "id": "QvsYOHKek6R1",
        "outputId": "f9bd91dd-5259-439f-b7af-9502841716b5"
      },
      "source": [
        "c3 = np.array([1, 2, 4, 6])\n",
        "c3.ndim"
      ],
      "execution_count": null,
      "outputs": [
        {
          "output_type": "execute_result",
          "data": {
            "text/plain": [
              "1"
            ]
          },
          "metadata": {
            "tags": []
          },
          "execution_count": 40
        }
      ]
    },
    {
      "cell_type": "code",
      "metadata": {
        "id": "uaFlhsXPZ5J-"
      },
      "source": [
        "#Multi-Dimensional Arrays\n",
        "#NumPy array memudahkan kita untuk membuat array multi-dimensi.\n",
        "#Membentuk array 2 dimensi\n",
        "#Fungsi shape pada array multi-dimensi menghasilkan tuple berisikan (jumlah baris, jumlah kolom)\n",
        "\n",
        "a = np.array([[0, 1, 2, 3],\n",
        "             [10, 11 , 12, 13]])\n"
      ],
      "execution_count": null,
      "outputs": []
    },
    {
      "cell_type": "code",
      "metadata": {
        "colab": {
          "base_uri": "https://localhost:8080/"
        },
        "id": "Q9BnaxJWkwDD",
        "outputId": "46c6f1f6-5ffe-4703-ade1-44e2ff21953b"
      },
      "source": [
        "#shape\n",
        "#fungsi shape menghasilkan sebuah tuple yang berisikan panjang sebuah array pada tiap dimensi.\n",
        "a.shape"
      ],
      "execution_count": null,
      "outputs": [
        {
          "output_type": "execute_result",
          "data": {
            "text/plain": [
              "(2, 4)"
            ]
          },
          "metadata": {
            "tags": []
          },
          "execution_count": 63
        }
      ]
    },
    {
      "cell_type": "markdown",
      "metadata": {
        "id": "PpIOmE67k7mm"
      },
      "source": [
        "![image.png](data:image/png;base64,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)"
      ]
    },
    {
      "cell_type": "code",
      "metadata": {
        "id": "7BfrxwZv34vY"
      },
      "source": [
        "#dimensi ke-0   [ 0   1  2  3]\n",
        "#dimensi ke-1   [ 10 11 12 13]\n",
        "        #baris   # 0   1  2  3\n"
      ],
      "execution_count": null,
      "outputs": []
    },
    {
      "cell_type": "code",
      "metadata": {
        "colab": {
          "base_uri": "https://localhost:8080/"
        },
        "id": "Z_x36dpv4j4T",
        "outputId": "73e10534-7885-47b7-9255-0569a0f3a3bf"
      },
      "source": [
        "#Pada array multi-dimensi kita dapat mengakses nilai elemen berdasarkan indeks\n",
        "\n",
        "a[1,2]"
      ],
      "execution_count": null,
      "outputs": [
        {
          "output_type": "execute_result",
          "data": {
            "text/plain": [
              "12"
            ]
          },
          "metadata": {
            "tags": []
          },
          "execution_count": 67
        }
      ]
    },
    {
      "cell_type": "code",
      "metadata": {
        "colab": {
          "base_uri": "https://localhost:8080/"
        },
        "id": "yRblDtXak9Tl",
        "outputId": "3b4118dc-603e-4b6f-b1c8-39d73cd24807"
      },
      "source": [
        "a.size"
      ],
      "execution_count": null,
      "outputs": [
        {
          "output_type": "execute_result",
          "data": {
            "text/plain": [
              "8"
            ]
          },
          "metadata": {
            "tags": []
          },
          "execution_count": 60
        }
      ]
    },
    {
      "cell_type": "code",
      "metadata": {
        "colab": {
          "base_uri": "https://localhost:8080/"
        },
        "id": "qGHC2a9rmIzY",
        "outputId": "26639db2-3e6f-449a-a0aa-9b4428d00804"
      },
      "source": [
        "a.ndim"
      ],
      "execution_count": null,
      "outputs": [
        {
          "output_type": "execute_result",
          "data": {
            "text/plain": [
              "2"
            ]
          },
          "metadata": {
            "tags": []
          },
          "execution_count": 76
        }
      ]
    },
    {
      "cell_type": "code",
      "metadata": {
        "colab": {
          "base_uri": "https://localhost:8080/"
        },
        "id": "oqYgoa1Knc_O",
        "outputId": "0471d343-b8e5-4a14-9fe7-a06103cb6753"
      },
      "source": [
        "#Pada array multi-dimensi kita dapat mengakses nilai elemen berdasarkan indeks\n",
        "\n",
        "a[1,3]"
      ],
      "execution_count": null,
      "outputs": [
        {
          "output_type": "execute_result",
          "data": {
            "text/plain": [
              "13"
            ]
          },
          "metadata": {
            "tags": []
          },
          "execution_count": 33
        }
      ]
    },
    {
      "cell_type": "code",
      "metadata": {
        "colab": {
          "base_uri": "https://localhost:8080/"
        },
        "id": "nehMIHNnoLX_",
        "outputId": "7fcf1a11-cdc0-4a74-dbeb-3fe52e74832e"
      },
      "source": [
        "a[0,1]"
      ],
      "execution_count": null,
      "outputs": [
        {
          "output_type": "execute_result",
          "data": {
            "text/plain": [
              "1"
            ]
          },
          "metadata": {
            "tags": []
          },
          "execution_count": 68
        }
      ]
    },
    {
      "cell_type": "code",
      "metadata": {
        "colab": {
          "base_uri": "https://localhost:8080/"
        },
        "id": "rAqNRfYpoa2V",
        "outputId": "05f44fda-02f5-412c-cbf6-5ea2b5ed4610"
      },
      "source": [
        "a[1,1] = -1 #mengubah nilai 11 jadi -11\n",
        "a"
      ],
      "execution_count": null,
      "outputs": [
        {
          "output_type": "execute_result",
          "data": {
            "text/plain": [
              "array([[ 0,  1,  2,  3],\n",
              "       [10, -1, 12, 13]])"
            ]
          },
          "metadata": {
            "tags": []
          },
          "execution_count": 70
        }
      ]
    },
    {
      "cell_type": "code",
      "metadata": {
        "id": "DDFYrozyoict"
      },
      "source": [
        "#Slicing\n",
        "#merupakan metode ekstraksi elemen atau beberapa elemen pada array, dengan menggunakan tanda [:]\n",
        "            \n",
        "a = np.array([7,8,9,6])\n",
        "c2 = a[0]\n",
        "c1 = a[0:2]\n",
        "c3 = a[1:]\n",
        "c4 = a[1:6]\n",
        "c5 = a[:2]"
      ],
      "execution_count": null,
      "outputs": []
    },
    {
      "cell_type": "code",
      "metadata": {
        "colab": {
          "base_uri": "https://localhost:8080/"
        },
        "id": "yXOLKoae6f0z",
        "outputId": "a8aba5af-c034-47c1-a4fc-6dcef70b8b8c"
      },
      "source": [
        "c2"
      ],
      "execution_count": null,
      "outputs": [
        {
          "output_type": "execute_result",
          "data": {
            "text/plain": [
              "7"
            ]
          },
          "metadata": {
            "tags": []
          },
          "execution_count": 77
        }
      ]
    },
    {
      "cell_type": "code",
      "metadata": {
        "colab": {
          "base_uri": "https://localhost:8080/"
        },
        "id": "tLZTqixI6D58",
        "outputId": "6c7e4c0a-bd13-482a-ac29-fb97a1cafc43"
      },
      "source": [
        "print(c4)"
      ],
      "execution_count": null,
      "outputs": [
        {
          "output_type": "stream",
          "text": [
            "[8 9 6]\n"
          ],
          "name": "stdout"
        }
      ]
    },
    {
      "cell_type": "code",
      "metadata": {
        "colab": {
          "base_uri": "https://localhost:8080/"
        },
        "id": "WQJqbU_EqKbz",
        "outputId": "8f432fbb-23e4-425f-cbfc-5592e7e31f1d"
      },
      "source": [
        "print (c1)\n",
        "print (c2)\n",
        "print (c3)\n",
        "print (c4)\n",
        "print (c5)"
      ],
      "execution_count": null,
      "outputs": [
        {
          "output_type": "stream",
          "text": [
            "[7 8]\n",
            "7\n",
            "[8 9 6]\n",
            "[8 9 6]\n",
            "[7 8]\n"
          ],
          "name": "stdout"
        }
      ]
    },
    {
      "cell_type": "code",
      "metadata": {
        "colab": {
          "base_uri": "https://localhost:8080/"
        },
        "id": "pEiSUfRiqXGQ",
        "outputId": "309438a9-fb25-4fde-d328-b546b1351c93"
      },
      "source": [
        "print(c3)\n",
        "print(c4)\n",
        "print(c5)"
      ],
      "execution_count": null,
      "outputs": [
        {
          "output_type": "stream",
          "text": [
            "[8 9 6]\n",
            "[8 9 6]\n",
            "[7 8]\n"
          ],
          "name": "stdout"
        }
      ]
    },
    {
      "cell_type": "code",
      "metadata": {
        "colab": {
          "base_uri": "https://localhost:8080/"
        },
        "id": "3vX_h51PqrQD",
        "outputId": "2877aa1a-2c92-440c-aaa6-e0535edad9d6"
      },
      "source": [
        "a[-3]"
      ],
      "execution_count": null,
      "outputs": [
        {
          "output_type": "execute_result",
          "data": {
            "text/plain": [
              "8"
            ]
          },
          "metadata": {
            "tags": []
          },
          "execution_count": 106
        }
      ]
    },
    {
      "cell_type": "code",
      "metadata": {
        "colab": {
          "base_uri": "https://localhost:8080/"
        },
        "id": "Puurlbh_rc87",
        "outputId": "51a9fed4-99cf-41e4-da94-d3565e8a3e50"
      },
      "source": [
        "a[1:-2]"
      ],
      "execution_count": null,
      "outputs": [
        {
          "output_type": "execute_result",
          "data": {
            "text/plain": [
              "array([8])"
            ]
          },
          "metadata": {
            "tags": []
          },
          "execution_count": 107
        }
      ]
    },
    {
      "cell_type": "code",
      "metadata": {
        "colab": {
          "base_uri": "https://localhost:8080/"
        },
        "id": "tmeIqD1xrnrL",
        "outputId": "9a81b42e-3c84-4c21-919f-6760aaffb1ce"
      },
      "source": [
        "a[::2]"
      ],
      "execution_count": null,
      "outputs": [
        {
          "output_type": "execute_result",
          "data": {
            "text/plain": [
              "array([7, 9])"
            ]
          },
          "metadata": {
            "tags": []
          },
          "execution_count": 108
        }
      ]
    },
    {
      "cell_type": "markdown",
      "metadata": {
        "id": "sUMMJ8gJsGB_"
      },
      "source": [
        "NumPy masih menyediakan banyak sekali fungsi yang sangat memudahkan kita untuk scientific computing. Untuk mempelajari lebih jauh dapat mengakses dokumentasi NumPy.\n",
        "\n",
        "https://numpy.org/doc/"
      ]
    },
    {
      "cell_type": "markdown",
      "metadata": {
        "id": "FOljOI6xsN-i"
      },
      "source": [
        "##Pandas"
      ]
    },
    {
      "cell_type": "markdown",
      "metadata": {
        "id": "GibVPIlpsT0R"
      },
      "source": [
        "* Pandas (Python for Data Analysis) adalah library Python yang fokus untuk proses analisis data seperti manipulasi data, persiapan data, dan pembersihan data\n",
        "* Dalam pandas terdapat dua objek, yaitu DataFrame dan Series. \n",
        "* DataFrame adalah objek yang memiliki struktur data tabular, berorientasi pada kolom dengan label baris dan kolom. \n",
        "* Sedangkan Series adalah objek array 1-dimensi yang memiliki label."
      ]
    },
    {
      "cell_type": "code",
      "metadata": {
        "id": "1_zqaGkOnco0"
      },
      "source": [
        "#memulai pandas\n",
        "\n",
        "import pandas as pd\n",
        "import numpy as np\n",
        "\n",
        "#ini adalah komen\n",
        "\n",
        "#np artinya numpy\n",
        "#pd artinya pandas"
      ],
      "execution_count": null,
      "outputs": []
    },
    {
      "cell_type": "code",
      "metadata": {
        "colab": {
          "base_uri": "https://localhost:8080/"
        },
        "id": "0xjW-mfkpjzs",
        "outputId": "3293d386-6c95-4062-a339-320fafedde5f"
      },
      "source": [
        "#membuat series\n",
        "\n",
        "import pandas as pd\n",
        "\n",
        "obj = pd.Series ([1, 2, 1, 2])\n",
        "obj "
      ],
      "execution_count": null,
      "outputs": [
        {
          "output_type": "execute_result",
          "data": {
            "text/plain": [
              "0    1\n",
              "1    2\n",
              "2    1\n",
              "3    2\n",
              "dtype: int64"
            ]
          },
          "metadata": {},
          "execution_count": 13
        }
      ]
    },
    {
      "cell_type": "code",
      "metadata": {
        "colab": {
          "base_uri": "https://localhost:8080/"
        },
        "id": "DqZcwjTksnoo",
        "outputId": "82833a9f-69b6-4b3a-fa00-2a858f601dcd"
      },
      "source": [
        "#cek tipe\n",
        "type(obj)"
      ],
      "execution_count": null,
      "outputs": [
        {
          "output_type": "execute_result",
          "data": {
            "text/plain": [
              "pandas.core.series.Series"
            ]
          },
          "metadata": {
            "tags": []
          },
          "execution_count": 80
        }
      ]
    },
    {
      "cell_type": "markdown",
      "metadata": {
        "id": "t5p56maww2m3"
      },
      "source": [
        "Series Pandas\n",
        "\n",
        "https://colab.research.google.com/drive/1UKn-tnyTuBLMghqk5yQUGN6KGpvDdfWo#scrollTo=ICtSKOO_wacb"
      ]
    },
    {
      "cell_type": "markdown",
      "metadata": {
        "id": "uTqvCfSHxTvC"
      },
      "source": [
        "Data Frame Pandas\n",
        "\n"
      ]
    },
    {
      "cell_type": "markdown",
      "metadata": {
        "id": "YUp1s3jNAgmO"
      },
      "source": [
        "Go to\n",
        "\n",
        "\n",
        "https://colab.research.google.com/drive/1_ELzRrrvHRDyWvUJMm7xOc3JkqKg7xhG"
      ]
    },
    {
      "cell_type": "code",
      "metadata": {
        "id": "NEsY3ZKQAhAN"
      },
      "source": [
        "#Matplotlib\n",
        "#Matplotlib adalah library Python yang fokus pada visualisasi data seperti membuat plot grafik"
      ],
      "execution_count": null,
      "outputs": []
    },
    {
      "cell_type": "markdown",
      "metadata": {
        "id": "ic-7vt5cXlTD"
      },
      "source": [
        "Konsep Matplotlib & Grafik di Matlab\n",
        "\n",
        "https://colab.research.google.com/drive/1gYMNTGVXElHMWgPJH7nzL8-OAeWrXSEJ#scrollTo=_4I3hGMMDM-i"
      ]
    }
  ]
}